{
 "cells": [
  {
   "cell_type": "markdown",
   "id": "9fc44b63",
   "metadata": {},
   "source": [
    "# Continuing from 'Final Code Part 2', Further Analysis and Actions Below "
   ]
  },
  {
   "cell_type": "markdown",
   "id": "9cf3cb5d",
   "metadata": {},
   "source": [
    "# ............."
   ]
  },
  {
   "cell_type": "markdown",
   "id": "be35acd2",
   "metadata": {
    "id": "be35acd2"
   },
   "source": [
    "## Feature Engineering"
   ]
  },
  {
   "cell_type": "markdown",
   "id": "75e859a8",
   "metadata": {
    "id": "75e859a8"
   },
   "source": [
    "### Step 1: Tokenization"
   ]
  },
  {
   "cell_type": "code",
   "execution_count": null,
   "id": "6aa5c55f",
   "metadata": {
    "colab": {
     "base_uri": "https://localhost:8080/"
    },
    "executionInfo": {
     "elapsed": 7799,
     "status": "ok",
     "timestamp": 1709757227474,
     "user": {
      "displayName": "Beth",
      "userId": "02722972246676483817"
     },
     "user_tz": 420
    },
    "id": "6aa5c55f",
    "outputId": "f0219dc0-f560-4707-d84b-76d791de6f1f"
   },
   "outputs": [
    {
     "name": "stderr",
     "output_type": "stream",
     "text": [
      "[nltk_data] Downloading package punkt to /root/nltk_data...\n",
      "[nltk_data]   Unzipping tokenizers/punkt.zip.\n",
      "<ipython-input-30-05b14f666560>:12: SettingWithCopyWarning: \n",
      "A value is trying to be set on a copy of a slice from a DataFrame.\n",
      "Try using .loc[row_indexer,col_indexer] = value instead\n",
      "\n",
      "See the caveats in the documentation: https://pandas.pydata.org/pandas-docs/stable/user_guide/indexing.html#returning-a-view-versus-a-copy\n",
      "  df_emails_cleaned['tokenized_body'] = df_emails_cleaned['filtered_body'].apply(tokenize_sentence)\n"
     ]
    }
   ],
   "source": [
    "# Import necessary libraries for tokenization\n",
    "import nltk\n",
    "nltk.download('punkt')\n",
    "from nltk.tokenize import word_tokenize\n",
    "\n",
    "# Function to tokenize a sentence\n",
    "def tokenize_sentence(sentence):\n",
    "    tokens = word_tokenize(str(sentence))  # Tokenize the sentence into words\n",
    "    return tokens\n",
    "\n",
    "# Apply tokenization to the 'filtered_body' column\n",
    "df_emails_cleaned['tokenized_body'] = df_emails_cleaned['filtered_body'].apply(tokenize_sentence)\n",
    "\n",
    "\n"
   ]
  },
  {
   "cell_type": "markdown",
   "id": "0b04751e",
   "metadata": {
    "id": "0b04751e"
   },
   "source": [
    "#### Step 2: Adding a special Token"
   ]
  },
  {
   "cell_type": "code",
   "execution_count": null,
   "id": "c1804436",
   "metadata": {
    "colab": {
     "base_uri": "https://localhost:8080/"
    },
    "executionInfo": {
     "elapsed": 266,
     "status": "ok",
     "timestamp": 1709757234105,
     "user": {
      "displayName": "Beth",
      "userId": "02722972246676483817"
     },
     "user_tz": 420
    },
    "id": "c1804436",
    "outputId": "ea9dbb0e-4b70-4817-b715-ff0a1f8e030d"
   },
   "outputs": [
    {
     "name": "stderr",
     "output_type": "stream",
     "text": [
      "<ipython-input-31-bb9511decbfb>:7: SettingWithCopyWarning: \n",
      "A value is trying to be set on a copy of a slice from a DataFrame.\n",
      "Try using .loc[row_indexer,col_indexer] = value instead\n",
      "\n",
      "See the caveats in the documentation: https://pandas.pydata.org/pandas-docs/stable/user_guide/indexing.html#returning-a-view-versus-a-copy\n",
      "  df_emails_cleaned['body_with_special_tokens'] = df_emails_cleaned['tokenized_body'].apply(add_special_tokens)\n"
     ]
    }
   ],
   "source": [
    "# Function to add special tokens <start> and <end> to a list of tokens\n",
    "def add_special_tokens(tokens):\n",
    "    tokens_with_special_tokens = ['<start>'] + tokens + ['<end>']\n",
    "    return tokens_with_special_tokens\n",
    "\n",
    "# Apply adding special tokens to the 'tokenized_body' column\n",
    "df_emails_cleaned['body_with_special_tokens'] = df_emails_cleaned['tokenized_body'].apply(add_special_tokens)\n"
   ]
  },
  {
   "cell_type": "markdown",
   "id": "75055da2",
   "metadata": {
    "id": "75055da2"
   },
   "source": [
    "#### Step 3: Constructing Sequence Pairs"
   ]
  },
  {
   "cell_type": "code",
   "execution_count": null,
   "id": "f5c7553e",
   "metadata": {
    "colab": {
     "base_uri": "https://localhost:8080/"
    },
    "executionInfo": {
     "elapsed": 1379,
     "status": "ok",
     "timestamp": 1709757244400,
     "user": {
      "displayName": "Beth",
      "userId": "02722972246676483817"
     },
     "user_tz": 420
    },
    "id": "f5c7553e",
    "outputId": "0169f3f9-3651-4e2f-c1ce-642a15f0045d"
   },
   "outputs": [
    {
     "name": "stderr",
     "output_type": "stream",
     "text": [
      "<ipython-input-32-d6c7dc149a70>:11: SettingWithCopyWarning: \n",
      "A value is trying to be set on a copy of a slice from a DataFrame.\n",
      "Try using .loc[row_indexer,col_indexer] = value instead\n",
      "\n",
      "See the caveats in the documentation: https://pandas.pydata.org/pandas-docs/stable/user_guide/indexing.html#returning-a-view-versus-a-copy\n",
      "  df_emails_cleaned['sequence_pairs'] = df_emails_cleaned['body_with_special_tokens'].apply(create_sequence_pairs)\n"
     ]
    }
   ],
   "source": [
    "# Function to split a list of tokens into pairs of input and output sequences\n",
    "def create_sequence_pairs(tokens):\n",
    "    sequence_pairs = []\n",
    "    for i in range(1, len(tokens)):\n",
    "        input_sequence = tokens[:i]  # Input sequence from start to current token\n",
    "        output_sequence = tokens[i:]  # Output sequence from current token to end\n",
    "        sequence_pairs.append((input_sequence, output_sequence))\n",
    "    return sequence_pairs\n",
    "\n",
    "# Apply sequence pair creation to the 'body_with_special_tokens' column\n",
    "df_emails_cleaned['sequence_pairs'] = df_emails_cleaned['body_with_special_tokens'].apply(create_sequence_pairs)\n"
   ]
  },
  {
   "cell_type": "markdown",
   "id": "c0415926",
   "metadata": {
    "id": "c0415926"
   },
   "source": [
    "Here's a breakdown of the feature engineering steps I performed:\n",
    "\n",
    "Tokenization: I tokenize the sentences in the 'filtered_body' column into lists of tokens (words or subwords). This step converts raw text into a format that can be processed by machine learning algorithms.\n",
    "\n",
    "Adding Special Tokens: I add special tokens <start> and <end> to each list of tokens in the 'tokenized_body' column. These tokens help the model learn the beginning and end of sequences during training.\n",
    "\n",
    "Constructing Sequence Pairs: I create pairs of sequences by splitting each tokenized sentence into multiple parts. Each pair consists of an input sequence and its corresponding output sequence. This step prepares the data for training a sequence-to-sequence model, where the model learns to predict an output sequence given an input sequence.\n",
    "\n",
    "These feature engineering steps are essential for building a sequence-to-sequence model that can effectively learn from text data and generate meaningful outputs."
   ]
  },
  {
   "cell_type": "code",
   "execution_count": null,
   "id": "34954cd7",
   "metadata": {
    "colab": {
     "base_uri": "https://localhost:8080/"
    },
    "executionInfo": {
     "elapsed": 223,
     "status": "ok",
     "timestamp": 1709757251524,
     "user": {
      "displayName": "Beth",
      "userId": "02722972246676483817"
     },
     "user_tz": 420
    },
    "id": "34954cd7",
    "outputId": "3889fd7b-c6c6-4b2e-f415-3339b305b4dc"
   },
   "outputs": [
    {
     "name": "stdout",
     "output_type": "stream",
     "text": [
      "Total number of sequence pairs: 902983\n"
     ]
    }
   ],
   "source": [
    "# Count the total number of sequence pairs\n",
    "total_pairs = df_emails_cleaned['sequence_pairs'].apply(len).sum()\n",
    "\n",
    "print(\"Total number of sequence pairs:\", total_pairs)\n"
   ]
  },
  {
   "cell_type": "markdown",
   "id": "7abea2da",
   "metadata": {
    "id": "jTKumyAFYs8Y"
   },
   "source": [
    "#### Loading the Cleaned email ('emails_cleaned') and checking the data"
   ]
  },
  {
   "cell_type": "code",
   "execution_count": null,
   "id": "vYc90qZdYs_U",
   "metadata": {
    "colab": {
     "base_uri": "https://localhost:8080/"
    },
    "executionInfo": {
     "elapsed": 24651,
     "status": "ok",
     "timestamp": 1709755916847,
     "user": {
      "displayName": "Beth",
      "userId": "02722972246676483817"
     },
     "user_tz": 420
    },
    "id": "vYc90qZdYs_U",
    "outputId": "2ace9872-1860-4480-c9c5-b115e60e7176"
   },
   "outputs": [
    {
     "name": "stdout",
     "output_type": "stream",
     "text": [
      "Mounted at /content/drive\n",
      "                       file  \\\n",
      "0     allen-p/_sent_mail/1.   \n",
      "1   allen-p/_sent_mail/100.   \n",
      "2  allen-p/_sent_mail/1001.   \n",
      "3  allen-p/_sent_mail/1002.   \n",
      "4  allen-p/_sent_mail/1004.   \n",
      "\n",
      "                                             message  \\\n",
      "0  Message-ID: <18782981.1075855378110.JavaMail.e...   \n",
      "1  Message-ID: <24216240.1075855687451.JavaMail.e...   \n",
      "2  Message-ID: <30922949.1075863688243.JavaMail.e...   \n",
      "3  Message-ID: <30965995.1075863688265.JavaMail.e...   \n",
      "4  Message-ID: <17189699.1075863688308.JavaMail.e...   \n",
      "\n",
      "                                                body  \\\n",
      "0                          Here is our forecast\\n\\n    \n",
      "1                     test successful.  way to go!!!   \n",
      "2                Let's shoot for Tuesday at 11:45.     \n",
      "3  Greg,\\n\\n How about either next Tuesday or Thu...   \n",
      "4                   any morning between 10 and 11:30   \n",
      "\n",
      "                                        cleaned_body  cleaned_message_length  \\\n",
      "0                               here is our forecast                      20   \n",
      "1                          test successful way to go                      25   \n",
      "2                     lets shoot for tuesday at 1145                      30   \n",
      "3  greg how about either next tuesday or thursday...                      54   \n",
      "4                    any morning between 10 and 1130                      31   \n",
      "\n",
      "                                      processed_body  \\\n",
      "0                           ['here is our forecast']   \n",
      "1                      ['test successful way to go']   \n",
      "2                 ['lets shoot for tuesday at 1145']   \n",
      "3  ['greg how about either next tuesday or thursd...   \n",
      "4                ['any morning between 10 and 1130']   \n",
      "\n",
      "                                       filtered_body  \\\n",
      "0                           ['here is our forecast']   \n",
      "1                      ['test successful way to go']   \n",
      "2                 ['lets shoot for tuesday at 1145']   \n",
      "3  ['greg how about either next tuesday or thursd...   \n",
      "4                ['any morning between 10 and 1130']   \n",
      "\n",
      "                                      tokenized_body  \\\n",
      "0  ['[', \"'here\", 'is', 'our', 'forecast', \"'\", ']']   \n",
      "1  ['[', \"'test\", 'successful', 'way', 'to', 'go'...   \n",
      "2  ['[', \"'lets\", 'shoot', 'for', 'tuesday', 'at'...   \n",
      "3  ['[', \"'greg\", 'how', 'about', 'either', 'next...   \n",
      "4  ['[', \"'any\", 'morning', 'between', '10', 'and...   \n",
      "\n",
      "                            body_with_special_tokens  \\\n",
      "0  ['<start>', '[', \"'here\", 'is', 'our', 'foreca...   \n",
      "1  ['<start>', '[', \"'test\", 'successful', 'way',...   \n",
      "2  ['<start>', '[', \"'lets\", 'shoot', 'for', 'tue...   \n",
      "3  ['<start>', '[', \"'greg\", 'how', 'about', 'eit...   \n",
      "4  ['<start>', '[', \"'any\", 'morning', 'between',...   \n",
      "\n",
      "                                      sequence_pairs  \n",
      "0  [(['<start>'], ['[', \"'here\", 'is', 'our', 'fo...  \n",
      "1  [(['<start>'], ['[', \"'test\", 'successful', 'w...  \n",
      "2  [(['<start>'], ['[', \"'lets\", 'shoot', 'for', ...  \n",
      "3  [(['<start>'], ['[', \"'greg\", 'how', 'about', ...  \n",
      "4  [(['<start>'], ['[', \"'any\", 'morning', 'betwe...  \n"
     ]
    }
   ],
   "source": [
    "from google.colab import drive\n",
    "import pandas as pd\n",
    "\n",
    "# Mount Google Drive\n",
    "drive.mount('/content/drive')\n",
    "\n",
    "# Full path to the CSV file\n",
    "data_path = '/content/drive/My Drive/emails_cleaned.csv'\n",
    "\n",
    "# Load the CSV file\n",
    "df_emails_cleaned = pd.read_csv(data_path)\n",
    "\n",
    "# Display the first few rows to confirm it's loaded correctly\n",
    "print(df_emails_cleaned.head())"
   ]
  },
  {
   "cell_type": "markdown",
   "id": "90258924",
   "metadata": {
    "id": "90258924"
   },
   "source": [
    "###  Prepare Data for the Model\n",
    "After preprocessing and cleaning my data, I'll need to convert the texts into sequences that the model can learn from. This involves tokenization and creating input-target pairs.\n",
    "\n",
    "#### Tokenization and Sequences"
   ]
  },
  {
   "cell_type": "code",
   "execution_count": null,
   "id": "9af9dd70",
   "metadata": {
    "colab": {
     "base_uri": "https://localhost:8080/"
    },
    "executionInfo": {
     "elapsed": 22616,
     "status": "ok",
     "timestamp": 1709757306631,
     "user": {
      "displayName": "Beth",
      "userId": "02722972246676483817"
     },
     "user_tz": 420
    },
    "id": "9af9dd70",
    "outputId": "2682fb5e-3051-4c78-cc31-b82f519b641b"
   },
   "outputs": [
    {
     "name": "stdout",
     "output_type": "stream",
     "text": [
      "Shape of input sequences: (902983, 31)\n",
      "Shape of output sequences: (902983, 31)\n"
     ]
    }
   ],
   "source": [
    "from keras.preprocessing.text import Tokenizer\n",
    "from keras.preprocessing.sequence import pad_sequences\n",
    "import numpy as np\n",
    "\n",
    "# Extract sequence pairs from the DataFrame\n",
    "sequence_pairs = df_emails_cleaned['sequence_pairs'].tolist()\n",
    "\n",
    "# Flatten sequence pairs to a single list\n",
    "flattened_sequence_pairs = [pair for sublist in sequence_pairs for pair in sublist]\n",
    "\n",
    "# Extract input and output sequences from the flattened list of pairs\n",
    "input_sequences, output_sequences = zip(*flattened_sequence_pairs)\n",
    "\n",
    "# Initialize the tokenizer with a vocabulary size of 10k\n",
    "tokenizer = Tokenizer(num_words=10000, oov_token='<OOV>')\n",
    "\n",
    "# Fit tokenizer on input and output sequences\n",
    "tokenizer.fit_on_texts(input_sequences)\n",
    "tokenizer.fit_on_texts(output_sequences)\n",
    "\n",
    "# Convert text sequences to integer sequences\n",
    "input_sequences_int = tokenizer.texts_to_sequences(input_sequences)\n",
    "output_sequences_int = tokenizer.texts_to_sequences(output_sequences)\n",
    "\n",
    "# Pad sequences to have the same length\n",
    "max_sequence_length = max([len(seq) for seq in input_sequences_int + output_sequences_int])\n",
    "input_sequences_padded = pad_sequences(input_sequences_int, maxlen=max_sequence_length, padding='post')\n",
    "output_sequences_padded = pad_sequences(output_sequences_int, maxlen=max_sequence_length, padding='post')\n",
    "\n",
    "# Shuffle the sequences\n",
    "indices = np.arange(len(input_sequences_padded))\n",
    "np.random.shuffle(indices)\n",
    "input_sequences_padded_shuffled = input_sequences_padded[indices]\n",
    "output_sequences_padded_shuffled = output_sequences_padded[indices]\n",
    "\n",
    "# Verify the shape of the padded sequences\n",
    "print(\"Shape of input sequences:\", input_sequences_padded_shuffled.shape)\n",
    "print(\"Shape of output sequences:\", output_sequences_padded_shuffled.shape)\n"
   ]
  },
  {
   "cell_type": "markdown",
   "id": "b424c5f0",
   "metadata": {
    "id": "b424c5f0"
   },
   "source": [
    "Explanation of the steps:\n",
    "\n",
    "- I extract the sequence pairs from the DataFrame and flatten them into a single list.\n",
    "- I separate input and output sequences from the flattened list of pairs.\n",
    "- I initialize the Keras Tokenizer with a vocabulary size of 10k and fit it on both input and output sequences.\n",
    "- I convert the text sequences to integer sequences using the tokenizer.\n",
    "- I pad the sequences to have the same length using the maximum sequence length found in the data.\n",
    "- I shuffle the sequences using numpy.\n",
    "- Finally, I print out the shape of the padded sequences to verify their dimensions.\n",
    "- This process prepares the tokenized, padded, and shuffled sequences for training the neural model."
   ]
  },
  {
   "cell_type": "markdown",
   "id": "a924c9a5",
   "metadata": {
    "id": "a924c9a5"
   },
   "source": [
    "### Sequence to Sequence Model Architecture"
   ]
  },
  {
   "cell_type": "code",
   "execution_count": null,
   "id": "f5cb343c",
   "metadata": {
    "colab": {
     "base_uri": "https://localhost:8080/"
    },
    "executionInfo": {
     "elapsed": 2691,
     "status": "ok",
     "timestamp": 1709757322121,
     "user": {
      "displayName": "Beth",
      "userId": "02722972246676483817"
     },
     "user_tz": 420
    },
    "id": "f5cb343c",
    "outputId": "b9398c4e-18c9-42fd-a347-0c3217ad61b4"
   },
   "outputs": [
    {
     "name": "stdout",
     "output_type": "stream",
     "text": [
      "Model: \"model\"\n",
      "__________________________________________________________________________________________________\n",
      " Layer (type)                Output Shape                 Param #   Connected to                  \n",
      "==================================================================================================\n",
      " input_1 (InputLayer)        [(None, 31)]                 0         []                            \n",
      "                                                                                                  \n",
      " input_2 (InputLayer)        [(None, 31)]                 0         []                            \n",
      "                                                                                                  \n",
      " embedding (Embedding)       (None, 31, 256)              8398336   ['input_1[0][0]']             \n",
      "                                                                                                  \n",
      " embedding_1 (Embedding)     (None, 31, 256)              8398336   ['input_2[0][0]']             \n",
      "                                                                                                  \n",
      " lstm (LSTM)                 [(None, 256),                525312    ['embedding[0][0]']           \n",
      "                              (None, 256),                                                        \n",
      "                              (None, 256)]                                                        \n",
      "                                                                                                  \n",
      " lstm_1 (LSTM)               [(None, 31, 256),            525312    ['embedding_1[0][0]',         \n",
      "                              (None, 256),                           'lstm[0][1]',                \n",
      "                              (None, 256)]                           'lstm[0][2]']                \n",
      "                                                                                                  \n",
      " dense (Dense)               (None, 31, 32806)            8431142   ['lstm_1[0][0]']              \n",
      "                                                                                                  \n",
      "==================================================================================================\n",
      "Total params: 26278438 (100.24 MB)\n",
      "Trainable params: 26278438 (100.24 MB)\n",
      "Non-trainable params: 0 (0.00 Byte)\n",
      "__________________________________________________________________________________________________\n",
      "None\n"
     ]
    }
   ],
   "source": [
    "from keras.models import Model\n",
    "from keras.layers import Input, LSTM, Dense, Embedding\n",
    "\n",
    "# Define the input sequence shape\n",
    "input_shape = input_sequences_padded_shuffled.shape[1]\n",
    "\n",
    "# Define the vocabulary size\n",
    "vocab_size = len(tokenizer.word_index) + 1  # Add 1 for the zero-padding token\n",
    "\n",
    "# Define the dimensionality of the embedding space\n",
    "embedding_dim = 256\n",
    "\n",
    "# Define the encoder\n",
    "encoder_inputs = Input(shape=(input_shape,))\n",
    "encoder_embedding = Embedding(input_dim=vocab_size, output_dim=embedding_dim)(encoder_inputs)\n",
    "encoder_lstm = LSTM(256, return_state=True)\n",
    "encoder_outputs, state_h, state_c = encoder_lstm(encoder_embedding)\n",
    "encoder_states = [state_h, state_c]\n",
    "\n",
    "# Define the decoder\n",
    "decoder_inputs = Input(shape=(input_shape,))\n",
    "decoder_embedding = Embedding(input_dim=vocab_size, output_dim=embedding_dim)(decoder_inputs)\n",
    "decoder_lstm = LSTM(256, return_sequences=True, return_state=True)\n",
    "decoder_outputs, _, _ = decoder_lstm(decoder_embedding, initial_state=encoder_states)\n",
    "decoder_dense = Dense(vocab_size, activation='softmax')\n",
    "decoder_outputs = decoder_dense(decoder_outputs)\n",
    "\n",
    "# Define the model\n",
    "model = Model([encoder_inputs, decoder_inputs], decoder_outputs)\n",
    "\n",
    "# Compile the model\n",
    "model.compile(optimizer='rmsprop', loss='sparse_categorical_crossentropy')\n",
    "\n",
    "# Print the model summary\n",
    "print(model.summary())\n",
    "\n"
   ]
  },
  {
   "cell_type": "markdown",
   "id": "142e02db",
   "metadata": {},
   "source": [
    "What I did on the above is:\n",
    "\n",
    "**Input Sequence Shape:** The shape of the input sequences, which is determined by the length of the input sequences after padding.\n",
    "\n",
    "**Vocabulary Size:** The size of the vocabulary, which is determined by the number of unique words in the tokenized text plus one for zero-padding.\n",
    "\n",
    "**Embedding Dimension:** The dimensionality of the embedding space for word representations.\n",
    "\n",
    "**Encoder:** Accepts input sequences and processes them using an embedding layer followed by an LSTM layer.\n",
    "The LSTM layer returns the final hidden state and cell state, representing the encoder's output.\n",
    "\n",
    "**Decoder:** Accepts target sequences and processes them using an embedding layer followed by an LSTM layer.\n",
    "The LSTM layer is configured to return sequences, allowing for sequence generation.\n",
    "The decoder's initial state is set to the final hidden and cell states of the encoder.\n",
    "\n",
    "**Dense Layer:** I used dense layer with softmax activation is to output the predicted probabilities for each word in the vocabulary.\n",
    "\n",
    "**Model Compilation:** The model is compiled using the RMSprop optimizer and sparse categorical cross-entropy loss, suitable for multi-class classification problems.\n",
    "\n",
    "**Model Summary:** The summary of the model architecture, including layer types, output shapes, and total parameters is printed."
   ]
  },
  {
   "cell_type": "markdown",
   "id": "1a2454b4",
   "metadata": {
    "id": "1a2454b4"
   },
   "source": [
    "### Model Training"
   ]
  },
  {
   "cell_type": "code",
   "execution_count": null,
   "id": "63d11852",
   "metadata": {
    "colab": {
     "base_uri": "https://localhost:8080/"
    },
    "executionInfo": {
     "elapsed": 2715317,
     "status": "ok",
     "timestamp": 1709760040951,
     "user": {
      "displayName": "Beth",
      "userId": "02722972246676483817"
     },
     "user_tz": 420
    },
    "id": "63d11852",
    "outputId": "b7291eda-3a3b-4f04-9b7a-5d046482ffb6"
   },
   "outputs": [
    {
     "name": "stdout",
     "output_type": "stream",
     "text": [
      "Epoch 1/10\n",
      "11288/11288 [==============================] - 290s 25ms/step - loss: 0.7624 - val_loss: 0.4815\n",
      "Epoch 2/10\n",
      "11288/11288 [==============================] - 270s 24ms/step - loss: 0.3966 - val_loss: 0.3296\n",
      "Epoch 3/10\n",
      "11288/11288 [==============================] - 270s 24ms/step - loss: 0.2867 - val_loss: 0.2476\n",
      "Epoch 4/10\n",
      "11288/11288 [==============================] - 269s 24ms/step - loss: 0.2172 - val_loss: 0.1893\n",
      "Epoch 5/10\n",
      "11288/11288 [==============================] - 269s 24ms/step - loss: 0.1655 - val_loss: 0.1455\n",
      "Epoch 6/10\n",
      "11288/11288 [==============================] - 270s 24ms/step - loss: 0.1270 - val_loss: 0.1127\n",
      "Epoch 7/10\n",
      "11288/11288 [==============================] - 269s 24ms/step - loss: 0.0973 - val_loss: 0.0861\n",
      "Epoch 8/10\n",
      "11288/11288 [==============================] - 270s 24ms/step - loss: 0.0739 - val_loss: 0.0659\n",
      "Epoch 9/10\n",
      "11288/11288 [==============================] - 269s 24ms/step - loss: 0.0563 - val_loss: 0.0509\n",
      "Epoch 10/10\n",
      "11288/11288 [==============================] - 268s 24ms/step - loss: 0.0432 - val_loss: 0.0398\n"
     ]
    },
    {
     "data": {
      "text/plain": [
       "<keras.src.callbacks.History at 0x7aa3f814f550>"
      ]
     },
     "execution_count": 36,
     "metadata": {},
     "output_type": "execute_result"
    }
   ],
   "source": [
    "\n",
    "# Train the model\n",
    "model.fit([input_sequences_padded_shuffled, output_sequences_padded_shuffled],\n",
    "          output_sequences_padded_shuffled,\n",
    "          batch_size=64,\n",
    "          epochs=10,\n",
    "          validation_split=0.2)"
   ]
  },
  {
   "cell_type": "markdown",
   "id": "82491eda",
   "metadata": {},
   "source": [
    "I trained the model using the 'fit' function, which takes input sequences and their corresponding output sequences as training data, specifying a batch size of 64 and training for 10 epochs. Also, a validation split of 20% was used to monitor the model's performance on unseen data during training.\n",
    "\n",
    "During training, the model's loss progressively decreased across epochs, indicating improvement in its ability to predict output sequences given input sequences. The validation loss also decreased, suggesting that the model generalizes well to unseen data. This trend suggests that the model is effectively learning the underlying patterns in the data and improving its performance over time."
   ]
  },
  {
   "cell_type": "markdown",
   "id": "87811068",
   "metadata": {},
   "source": [
    "### Model Evaluation"
   ]
  },
  {
   "cell_type": "markdown",
   "id": "8e0a6fa1",
   "metadata": {},
   "source": [
    "I use plot to visualize the model's learning progress and identifying any potential issues such as overfitting or underfitting."
   ]
  },
  {
   "cell_type": "code",
   "execution_count": null,
   "id": "0cd3f623",
   "metadata": {
    "colab": {
     "base_uri": "https://localhost:8080/",
     "height": 472
    },
    "executionInfo": {
     "elapsed": 770,
     "status": "ok",
     "timestamp": 1709760617696,
     "user": {
      "displayName": "Beth",
      "userId": "02722972246676483817"
     },
     "user_tz": 420
    },
    "id": "0cd3f623",
    "outputId": "b724952b-19d2-4a30-94fa-3991812aad11"
   },
   "outputs": [
    {
     "data": {
      "image/png": "[encoded data removed]",
      "text/plain": [
       "<Figure size 640x480 with 1 Axes>"
      ]
     },
     "metadata": {},
     "output_type": "display_data"
    }
   ],
   "source": [
    "\n",
    "import matplotlib.pyplot as plt\n",
    "\n",
    "# Get the training and validation loss from the model history\n",
    "training_loss = model.history.history['loss']\n",
    "validation_loss = model.history.history['val_loss']\n",
    "\n",
    "# Plot the training and validation loss\n",
    "plt.plot(training_loss, label='Training Loss')\n",
    "plt.plot(validation_loss, label='Validation Loss')\n",
    "plt.xlabel('Epochs')\n",
    "plt.ylabel('Loss')\n",
    "plt.title('Training and Validation Loss')\n",
    "plt.legend()\n",
    "plt.show()\n",
    "\n"
   ]
  },
  {
   "cell_type": "markdown",
   "id": "055a94cd",
   "metadata": {},
   "source": [
    "The graph displays the training and validation loss, both showing a consistent downward trend, indicating effective learning without overfitting!"
   ]
  },
  {
   "cell_type": "markdown",
   "id": "b0689848",
   "metadata": {},
   "source": [
    "### Saving my model"
   ]
  },
  {
   "cell_type": "code",
   "execution_count": null,
   "id": "40a5e0dc",
   "metadata": {
    "colab": {
     "base_uri": "https://localhost:8080/"
    },
    "executionInfo": {
     "elapsed": 877,
     "status": "ok",
     "timestamp": 1709760284628,
     "user": {
      "displayName": "Beth",
      "userId": "02722972246676483817"
     },
     "user_tz": 420
    },
    "id": "40a5e0dc",
    "outputId": "f712b23c-222f-41b2-9d52-2836ea61100e"
   },
   "outputs": [
    {
     "name": "stderr",
     "output_type": "stream",
     "text": [
      "/usr/local/lib/python3.10/dist-packages/keras/src/engine/training.py:3103: UserWarning: You are saving your model as an HDF5 file via `model.save()`. This file format is considered legacy. We recommend using instead the native Keras format, e.g. `model.save('my_model.keras')`.\n",
      "  saving_api.save_model(\n"
     ]
    }
   ],
   "source": [
    "# Defining the path\n",
    "model_path = '/content/drive/My Drive/trained_model.h5'\n",
    "\n",
    "# Save the trained model \n",
    "model.save(model_path)\n"
   ]
  },
  {
   "cell_type": "markdown",
   "id": "c79e6584",
   "metadata": {},
   "source": [
    "### More Evaluation"
   ]
  },
  {
   "cell_type": "code",
   "execution_count": null,
   "id": "Yooovwdos0Zd",
   "metadata": {
    "colab": {
     "base_uri": "https://localhost:8080/"
    },
    "executionInfo": {
     "elapsed": 218279,
     "status": "ok",
     "timestamp": 1709761285751,
     "user": {
      "displayName": "Beth",
      "userId": "02722972246676483817"
     },
     "user_tz": 420
    },
    "id": "Yooovwdos0Zd",
    "outputId": "e6988b65-1652-4820-fc33-a00575bd5290"
   },
   "outputs": [
    {
     "name": "stdout",
     "output_type": "stream",
     "text": [
      "28219/28219 [==============================] - 217s 8ms/step - loss: 0.0379\n",
      "Validation Loss: 0.03788694366812706\n"
     ]
    }
   ],
   "source": [
    "# Evaluate the model on the validation data\n",
    "val_loss = model.evaluate([input_sequences_padded_shuffled, output_sequences_padded_shuffled], output_sequences_padded_shuffled)\n",
    "print('Validation Loss:', val_loss)\n"
   ]
  },
  {
   "cell_type": "markdown",
   "id": "8_1xJmJRt8ax",
   "metadata": {
    "id": "8_1xJmJRt8ax"
   },
   "source": [
    "It seems like my validation loss is 0.0379. This value indicates how well my model is performing on the validation data. A lower validation loss generally indicates better performance. Since my final loss is quite low, it suggests that the model is performing well on the validation set."
   ]
  },
  {
   "cell_type": "code",
   "execution_count": null,
   "id": "SsBXSm-b0WLX",
   "metadata": {
    "colab": {
     "base_uri": "https://localhost:8080/"
    },
    "executionInfo": {
     "elapsed": 790,
     "status": "ok",
     "timestamp": 1709763035100,
     "user": {
      "displayName": "Beth",
      "userId": "02722972246676483817"
     },
     "user_tz": 420
    },
    "id": "SsBXSm-b0WLX",
    "outputId": "e222e46b-25b4-492d-c625-9ce10c321f21",
    "scrolled": true
   },
   "outputs": [
    {
     "name": "stdout",
     "output_type": "stream",
     "text": [
      "1/1 [==============================] - 0s 22ms/step\n",
      "Input: [3 0 0 0 0 0 0 0 0 0 0 0 0 0 0 0 0 0 0 0 0 0 0 0 0 0 0 0 0 0 0]\n",
      "Expected Output: [   4    1 4283   16 8474  627 2288    2    5    6    0    0    0    0\n",
      "    0    0    0    0    0    0    0    0    0    0    0    0    0    0\n",
      "    0    0    0]\n",
      "Generated Output: [4, 1, 4525, 16, 3020, 627, 1684, 2, 5, 6, 0, 0, 0, 0, 0, 0, 0, 0, 0, 0, 0, 0, 0, 0, 0, 0, 0, 0, 0, 0, 0]\n",
      "\n",
      "Input: [   3    4  989  535   20    7 4673    8 5317    7  752    1   21 1817\n",
      "   84    0    0    0    0    0    0    0    0    0    0    0    0    0\n",
      "    0    0    0]\n",
      "Expected Output: [642   2   5   6   0   0   0   0   0   0   0   0   0   0   0   0   0   0\n",
      "   0   0   0   0   0   0   0   0   0   0   0   0   0]\n",
      "Generated Output: [642, 2, 5, 6, 0, 0, 0, 0, 0, 0, 0, 0, 0, 0, 0, 0, 0, 0, 0, 0, 0, 0, 0, 0, 0, 0, 0, 0, 0, 0, 0]\n",
      "\n",
      "Input: [3 4 1 2 0 0 0 0 0 0 0 0 0 0 0 0 0 0 0 0 0 0 0 0 0 0 0 0 0 0 0]\n",
      "Expected Output: [5 6 0 0 0 0 0 0 0 0 0 0 0 0 0 0 0 0 0 0 0 0 0 0 0 0 0 0 0 0 0]\n",
      "Generated Output: [5, 6, 0, 0, 0, 0, 0, 0, 0, 0, 0, 0, 0, 0, 0, 0, 0, 0, 0, 0, 0, 0, 0, 0, 0, 0, 0, 0, 0, 0, 0]\n",
      "\n",
      "Input: [   3    4    2   10  133 7264    0    0    0    0    0    0    0    0\n",
      "    0    0    0    0    0    0    0    0    0    0    0    0    0    0\n",
      "    0    0    0]\n",
      "Expected Output: [ 9 25  1 25  9  2  5  6  0  0  0  0  0  0  0  0  0  0  0  0  0  0  0  0\n",
      "  0  0  0  0  0  0  0]\n",
      "Generated Output: [9, 25, 1, 25, 9, 2, 5, 6, 0, 0, 0, 0, 0, 0, 0, 0, 0, 0, 0, 0, 0, 0, 0, 0, 0, 0, 0, 0, 0, 0, 0]\n",
      "\n",
      "Input: [   3    4  106   73 3184   51   99  346   51   71   85  109    0    0\n",
      "    0    0    0    0    0    0    0    0    0    0    0    0    0    0\n",
      "    0    0    0]\n",
      "Expected Output: [108 112 104   2   5   6   0   0   0   0   0   0   0   0   0   0   0   0\n",
      "   0   0   0   0   0   0   0   0   0   0   0   0   0]\n",
      "Generated Output: [108, 112, 104, 2, 5, 6, 0, 0, 0, 0, 0, 0, 0, 0, 0, 0, 0, 0, 0, 0, 0, 0, 0, 0, 0, 0, 0, 0, 0, 0, 0]\n",
      "\n",
      "Input: [   3    4 2948   79   12    7  209    0    0    0    0    0    0    0\n",
      "    0    0    0    0    0    0    0    0    0    0    0    0    0    0\n",
      "    0    0    0]\n",
      "Expected Output: [164  14   7 202 105 404 364  19 127  34   7 282 105  17 111   2   5   6\n",
      "   0   0   0   0   0   0   0   0   0   0   0   0   0]\n",
      "Generated Output: [164, 14, 7, 202, 105, 404, 364, 19, 127, 34, 7, 282, 105, 17, 111, 2, 5, 6, 0, 0, 0, 0, 0, 0, 0, 0, 0, 0, 0, 0, 0]\n",
      "\n",
      "Input: [   3    4  878   70   29 3499  284 7239 6285 2461  281 2825   29 3112\n",
      " 1645    0    0    0    0    0    0    0    0    0    0    0    0    0\n",
      "    0    0    0]\n",
      "Expected Output: [2034    2    5    6    0    0    0    0    0    0    0    0    0    0\n",
      "    0    0    0    0    0    0    0    0    0    0    0    0    0    0\n",
      "    0    0    0]\n",
      "Generated Output: [2034, 2, 5, 6, 0, 0, 0, 0, 0, 0, 0, 0, 0, 0, 0, 0, 0, 0, 0, 0, 0, 0, 0, 0, 0, 0, 0, 0, 0, 0, 0]\n",
      "\n",
      "Input: [   3    4  149   12    1   36  808 2793   15    7    0    0    0    0\n",
      "    0    0    0    0    0    0    0    0    0    0    0    0    0    0\n",
      "    0    0    0]\n",
      "Expected Output: [ 13 105 369  12   2   5   6   0   0   0   0   0   0   0   0   0   0   0\n",
      "   0   0   0   0   0   0   0   0   0   0   0   0   0]\n",
      "Generated Output: [13, 105, 369, 12, 2, 5, 6, 0, 0, 0, 0, 0, 0, 0, 0, 0, 0, 0, 0, 0, 0, 0, 0, 0, 0, 0, 0, 0, 0, 0, 0]\n",
      "\n",
      "Input: [   3    4 2023 5748   46  987 5749  130    0    0    0    0    0    0\n",
      "    0    0    0    0    0    0    0    0    0    0    0    0    0    0\n",
      "    0    0    0]\n",
      "Expected Output: [1245  433  284  398  178  457  477  395 5750  116 5751  107 5752 5753\n",
      "    2    5    6    0    0    0    0    0    0    0    0    0    0    0\n",
      "    0    0    0]\n",
      "Generated Output: [1245, 433, 284, 398, 178, 457, 477, 395, 5750, 116, 5751, 107, 5750, 5753, 2, 5, 6, 0, 0, 0, 0, 0, 0, 0, 0, 0, 0, 0, 0, 0, 0]\n",
      "\n",
      "Input: [  3   4 185   0   0   0   0   0   0   0   0   0   0   0   0   0   0   0\n",
      "   0   0   0   0   0   0   0   0   0   0   0   0   0]\n",
      "Expected Output: [  49   50    7    1    1  158   32  812 7477  204  281 3323   30    2\n",
      "    5    6    0    0    0    0    0    0    0    0    0    0    0    0\n",
      "    0    0    0]\n",
      "Generated Output: [49, 50, 7, 1, 1, 158, 32, 812, 18367, 204, 281, 2057, 30, 2, 5, 6, 0, 0, 0, 0, 0, 0, 0, 0, 0, 0, 0, 0, 0, 0, 0]\n",
      "\n"
     ]
    }
   ],
   "source": [
    "import numpy as np\n",
    "\n",
    "# Generate sample outputs using the trained model\n",
    "sample_outputs = model.predict([input_sequences_padded_shuffled[:10], output_sequences_padded_shuffled[:10]])\n",
    "\n",
    "# Convert the output probabilities into actual words by sampling\n",
    "def sample_word(probabilities, temperature=1.0):\n",
    "    probabilities = np.asarray(probabilities).astype('float64')\n",
    "    log_probabilities = np.log(probabilities) / temperature\n",
    "    exp_probabilities = np.exp(log_probabilities)\n",
    "    probabilities = exp_probabilities / np.sum(exp_probabilities)\n",
    "    sampled_index = np.argmax(np.random.multinomial(1, probabilities, 1))\n",
    "    return sampled_index\n",
    "\n",
    "# Print the sample outputs\n",
    "for i, output_probs in enumerate(sample_outputs):\n",
    "    input_seq = input_sequences_padded_shuffled[i]\n",
    "    expected_output_seq = output_sequences_padded_shuffled[i]\n",
    "\n",
    "    # Convert output probabilities to words\n",
    "    generated_output_seq = [sample_word(output_probs[j]) for j in range(len(output_probs))]\n",
    "\n",
    "    # Print the sequences\n",
    "    print(\"Input:\", input_seq)\n",
    "    print(\"Expected Output:\", expected_output_seq)\n",
    "    print(\"Generated Output:\", generated_output_seq)\n",
    "    print()\n"
   ]
  },
  {
   "cell_type": "markdown",
   "id": "77ca26dc",
   "metadata": {
    "id": "2Dnmx6F35Fso"
   },
   "source": [
    "I generated a sample outputs using the trained model for the first 10 input sequences. Each input sequence is fed into the model, and the output probabilities are obtained using the 'predict' function. Then, the output probabilities are converted into actual words by sampling from the probability distribution.\n",
    "\n",
    "For each input sequence, the I got:\n",
    "- The input sequence.\n",
    "- The expected output sequence.\n",
    "- The generated output sequence obtained by sampling from the output probabilities.\n",
    "\n",
    "The generated output sequences represent the model's predictions for each input sequence.\n"
   ]
  },
  {
   "cell_type": "code",
   "execution_count": null,
   "id": "SNwlUSc_5GII",
   "metadata": {
    "colab": {
     "base_uri": "https://localhost:8080/"
    },
    "executionInfo": {
     "elapsed": 757,
     "status": "ok",
     "timestamp": 1709764277371,
     "user": {
      "displayName": "Beth",
      "userId": "02722972246676483817"
     },
     "user_tz": 420
    },
    "id": "SNwlUSc_5GII",
    "outputId": "a93f630a-4808-4901-8e74-29711ebba311"
   },
   "outputs": [
    {
     "name": "stdout",
     "output_type": "stream",
     "text": [
      "1/1 [==============================] - 0s 27ms/step\n",
      "Input: [3 0 0 0 0 0 0 0 0 0 0 0 0 0 0 0 0 0 0 0 0 0 0 0 0 0 0 0 0 0 0]\n",
      "Expected Output: [   4    1 4283   16 8474  627 2288    2    5    6    0    0    0    0\n",
      "    0    0    0    0    0    0    0    0    0    0    0    0    0    0\n",
      "    0    0    0]\n",
      "Generated Output: [   4    1 7505   16 6705  627 2288    2    5    6    0    0    0    0\n",
      "    0    0    0    0    0    0    0    0    0    0    0    0    0    0\n",
      "    0    0    0]\n",
      "\n",
      "Input: [   3    4  989  535   20    7 4673    8 5317    7  752    1   21 1817\n",
      "   84    0    0    0    0    0    0    0    0    0    0    0    0    0\n",
      "    0    0    0]\n",
      "Expected Output: [642   2   5   6   0   0   0   0   0   0   0   0   0   0   0   0   0   0\n",
      "   0   0   0   0   0   0   0   0   0   0   0   0   0]\n",
      "Generated Output: [642   2   5   6   0   0   0   0   0   0   0   0   0   0   0   0   0   0\n",
      "   0   0   0   0   0   0   0   0   0   0   0   0   0]\n",
      "\n",
      "Input: [3 4 1 2 0 0 0 0 0 0 0 0 0 0 0 0 0 0 0 0 0 0 0 0 0 0 0 0 0 0 0]\n",
      "Expected Output: [5 6 0 0 0 0 0 0 0 0 0 0 0 0 0 0 0 0 0 0 0 0 0 0 0 0 0 0 0 0 0]\n",
      "Generated Output: [5 6 0 0 0 0 0 0 0 0 0 0 0 0 0 0 0 0 0 0 0 0 0 0 0 0 0 0 0 0 0]\n",
      "\n",
      "Input: [   3    4    2   10  133 7264    0    0    0    0    0    0    0    0\n",
      "    0    0    0    0    0    0    0    0    0    0    0    0    0    0\n",
      "    0    0    0]\n",
      "Expected Output: [ 9 25  1 25  9  2  5  6  0  0  0  0  0  0  0  0  0  0  0  0  0  0  0  0\n",
      "  0  0  0  0  0  0  0]\n",
      "Generated Output: [ 9 25  1 25  9  2  5  6  0  0  0  0  0  0  0  0  0  0  0  0  0  0  0  0\n",
      "  0  0  0  0  0  0  0]\n",
      "\n",
      "Input: [   3    4  106   73 3184   51   99  346   51   71   85  109    0    0\n",
      "    0    0    0    0    0    0    0    0    0    0    0    0    0    0\n",
      "    0    0    0]\n",
      "Expected Output: [108 112 104   2   5   6   0   0   0   0   0   0   0   0   0   0   0   0\n",
      "   0   0   0   0   0   0   0   0   0   0   0   0   0]\n",
      "Generated Output: [108 112 104   2   5   6   0   0   0   0   0   0   0   0   0   0   0   0\n",
      "   0   0   0   0   0   0   0   0   0   0   0   0   0]\n",
      "\n",
      "Input: [   3    4 2948   79   12    7  209    0    0    0    0    0    0    0\n",
      "    0    0    0    0    0    0    0    0    0    0    0    0    0    0\n",
      "    0    0    0]\n",
      "Expected Output: [164  14   7 202 105 404 364  19 127  34   7 282 105  17 111   2   5   6\n",
      "   0   0   0   0   0   0   0   0   0   0   0   0   0]\n",
      "Generated Output: [164  14   7 202 105 404 364  19 127  34   7 282 105  17 111   2   5   6\n",
      "   0   0   0   0   0   0   0   0   0   0   0   0   0]\n",
      "\n",
      "Input: [   3    4  878   70   29 3499  284 7239 6285 2461  281 2825   29 3112\n",
      " 1645    0    0    0    0    0    0    0    0    0    0    0    0    0\n",
      "    0    0    0]\n",
      "Expected Output: [2034    2    5    6    0    0    0    0    0    0    0    0    0    0\n",
      "    0    0    0    0    0    0    0    0    0    0    0    0    0    0\n",
      "    0    0    0]\n",
      "Generated Output: [2034    2    5    6    0    0    0    0    0    0    0    0    0    0\n",
      "    0    0    0    0    0    0    0    0    0    0    0    0    0    0\n",
      "    0    0    0]\n",
      "\n",
      "Input: [   3    4  149   12    1   36  808 2793   15    7    0    0    0    0\n",
      "    0    0    0    0    0    0    0    0    0    0    0    0    0    0\n",
      "    0    0    0]\n",
      "Expected Output: [ 13 105 369  12   2   5   6   0   0   0   0   0   0   0   0   0   0   0\n",
      "   0   0   0   0   0   0   0   0   0   0   0   0   0]\n",
      "Generated Output: [ 13 105 369  12   2   5   6   0   0   0   0   0   0   0   0   0   0   0\n",
      "   0   0   0   0   0   0   0   0   0   0   0   0   0]\n",
      "\n",
      "Input: [   3    4 2023 5748   46  987 5749  130    0    0    0    0    0    0\n",
      "    0    0    0    0    0    0    0    0    0    0    0    0    0    0\n",
      "    0    0    0]\n",
      "Expected Output: [1245  433  284  398  178  457  477  395 5750  116 5751  107 5752 5753\n",
      "    2    5    6    0    0    0    0    0    0    0    0    0    0    0\n",
      "    0    0    0]\n",
      "Generated Output: [1245  433  284  398  178  457  477  395 5750  116 5751  107 7866 5753\n",
      "    2    5    6    0    0    0    0    0    0    0    0    0    0    0\n",
      "    0    0    0]\n",
      "\n",
      "Input: [  3   4 185   0   0   0   0   0   0   0   0   0   0   0   0   0   0   0\n",
      "   0   0   0   0   0   0   0   0   0   0   0   0   0]\n",
      "Expected Output: [  49   50    7    1    1  158   32  812 7477  204  281 3323   30    2\n",
      "    5    6    0    0    0    0    0    0    0    0    0    0    0    0\n",
      "    0    0    0]\n",
      "Generated Output: [  49   50    7    1    1  158   32  812 9718  204  281 1730   30    2\n",
      "    5    6    0    0    0    0    0    0    0    0    0    0    0    0\n",
      "    0    0    0]\n",
      "\n",
      "Sequence Accuracy: 70.00%\n"
     ]
    }
   ],
   "source": [
    "import numpy as np\n",
    "\n",
    "# Generate sample outputs using the trained model\n",
    "sample_outputs = model.predict([input_sequences_padded_shuffled[:10], output_sequences_padded_shuffled[:10]])\n",
    "\n",
    "# Convert the output probabilities\n",
    "def sample_word(probabilities, temperature=1.0):\n",
    "    probabilities = np.asarray(probabilities).astype('float64')\n",
    "    log_probabilities = np.log(probabilities) / temperature\n",
    "    exp_probabilities = np.exp(log_probabilities)\n",
    "    probabilities = exp_probabilities / np.sum(exp_probabilities)\n",
    "    sampled_index = np.argmax(np.random.multinomial(1, probabilities, 1))\n",
    "    return sampled_index\n",
    "\n",
    "# Initialize accuracy counter\n",
    "correct_sequences = 0\n",
    "\n",
    "# Print the sample outputs and calculate accuracy\n",
    "for i, output_probs in enumerate(sample_outputs):\n",
    "    input_seq = input_sequences_padded_shuffled[i]\n",
    "    expected_output_seq = output_sequences_padded_shuffled[i]\n",
    "\n",
    "    # Convert output probabilities to words\n",
    "    generated_output_seq = np.array([sample_word(output_probs[j]) for j in range(len(output_probs))])\n",
    "\n",
    "    # Check if generated output matches expected output\n",
    "    if np.array_equal(generated_output_seq, expected_output_seq):\n",
    "        correct_sequences += 1\n",
    "\n",
    "    # Print the sequences\n",
    "    print(\"Input:\", input_seq)\n",
    "    print(\"Expected Output:\", expected_output_seq)\n",
    "    print(\"Generated Output:\", generated_output_seq)\n",
    "    print()\n",
    "\n",
    "# Calculate accuracy\n",
    "accuracy = (correct_sequences / len(sample_outputs)) * 100\n",
    "print(\"Sequence Accuracy: {:.2f}%\".format(accuracy))\n"
   ]
  },
  {
   "cell_type": "markdown",
   "id": "n4DF5zKB5Xw_",
   "metadata": {
    "id": "n4DF5zKB5Xw_"
   },
   "source": [
    "Based on the provided outputs, the sequence accuracy is calculated to be 70.00%. This means that out of the 10 generated sequences, 7 of them match the expected output sequences exactly."
   ]
  },
  {
   "cell_type": "markdown",
   "id": "f1ed8247",
   "metadata": {},
   "source": [
    "#### Evaluation using Bleu"
   ]
  },
  {
   "cell_type": "code",
   "execution_count": null,
   "id": "Fly3DdMj5hH2",
   "metadata": {
    "colab": {
     "base_uri": "https://localhost:8080/"
    },
    "executionInfo": {
     "elapsed": 1154,
     "status": "ok",
     "timestamp": 1709765224502,
     "user": {
      "displayName": "Beth",
      "userId": "02722972246676483817"
     },
     "user_tz": 420
    },
    "id": "Fly3DdMj5hH2",
    "outputId": "0cac46f4-465d-4e93-ccc3-00b652c1ca32"
   },
   "outputs": [
    {
     "name": "stdout",
     "output_type": "stream",
     "text": [
      "1/1 [==============================] - 0s 23ms/step\n"
     ]
    }
   ],
   "source": [
    "import nltk\n",
    "from nltk.translate.bleu_score import sentence_bleu\n",
    "\n",
    "# Generate sample outputs using the trained model\n",
    "sample_outputs = model.predict([input_sequences_padded_shuffled[:10], output_sequences_padded_shuffled[:10]])\n",
    "\n",
    "# Convert the output sequences and reference sequences into text\n",
    "generated_texts = []\n",
    "reference_texts = []\n",
    "for i, output_probs in enumerate(sample_outputs):\n",
    "    generated_text = ' '.join([str(sample_word(output_probs[j])) for j in range(len(output_probs))])\n",
    "    generated_texts.append(generated_text)\n",
    "    reference_text = ' '.join([str(word) for word in output_sequences_padded_shuffled[i]])\n",
    "    reference_texts.append(reference_text)\n",
    "\n",
    "# Tokenize the generated output sequences and reference sequences\n",
    "tokenized_generated_texts = [text.split() for text in generated_texts]\n",
    "tokenized_reference_texts = [text.split() for text in reference_texts]\n"
   ]
  },
  {
   "cell_type": "code",
   "execution_count": null,
   "id": "Cvq6QqJO5hKn",
   "metadata": {
    "colab": {
     "base_uri": "https://localhost:8080/"
    },
    "executionInfo": {
     "elapsed": 596,
     "status": "ok",
     "timestamp": 1709765252167,
     "user": {
      "displayName": "Beth",
      "userId": "02722972246676483817"
     },
     "user_tz": 420
    },
    "id": "Cvq6QqJO5hKn",
    "outputId": "09565b05-704a-47a4-a190-39ee6d379c71"
   },
   "outputs": [
    {
     "name": "stdout",
     "output_type": "stream",
     "text": [
      "Average BLEU Score: 0.9546837542095412\n"
     ]
    }
   ],
   "source": [
    "# Calculate BLEU score\n",
    "bleu_scores = [sentence_bleu([reference], hypothesis) for reference, hypothesis in zip(tokenized_reference_texts, tokenized_generated_texts)]\n",
    "\n",
    "# Calculate average BLEU score\n",
    "average_bleu_score = sum(bleu_scores) / len(bleu_scores)\n",
    "print(\"Average BLEU Score:\", average_bleu_score)"
   ]
  },
  {
   "cell_type": "markdown",
   "id": "224c2ca2",
   "metadata": {},
   "source": [
    "I calculated the BLEU score for the generated output sequences compared to the reference sequences. I first converted the output sequences and reference sequences into text format and tokenizes them. Then, I computed the BLEU score for each pair of reference and generated sequences using the sentence_bleu function from the NLTK library. Finally, I calculated the average BLEU score across all the sequences."
   ]
  },
  {
   "cell_type": "markdown",
   "id": "wgQkA2rv9CWY",
   "metadata": {
    "id": "wgQkA2rv9CWY"
   },
   "source": [
    "I got a BLEU score of approximately 0.954, which indicates that my model's generated sequences are very close to the reference sequences on average, with 1.0 being a perfect match. This suggests that my model performs very well in terms of similarity to the reference sequences.\n",
    "\n",
    "Therefore, my model seems to be performing excellently in generating sequences that closely resemble the expected outputs.\n"
   ]
  },
  {
   "cell_type": "markdown",
   "id": "d5ec357b",
   "metadata": {
    "id": "35303f8c"
   },
   "source": [
    "# ....................End of Code............."
   ]
  },
  {
   "cell_type": "code",
   "execution_count": null,
   "id": "0404d134",
   "metadata": {},
   "outputs": [],
   "source": []
  }
 ],
 "metadata": {
  "accelerator": "GPU",
  "colab": {
   "gpuType": "V100",
   "machine_shape": "hm",
   "provenance": [
    {
     "file_id": "1dz1DWFOZbfqk7aLfprE72VxC0_6KzSPn",
     "timestamp": 1709765381989
    }
   ]
  },
  "kernelspec": {
   "display_name": "Python 3 (ipykernel)",
   "language": "python",
   "name": "python3"
  },
  "language_info": {
   "codemirror_mode": {
    "name": "ipython",
    "version": 3
   },
   "file_extension": ".py",
   "mimetype": "text/x-python",
   "name": "python",
   "nbconvert_exporter": "python",
   "pygments_lexer": "ipython3",
   "version": "3.11.5"
  }
 },
 "nbformat": 4,
 "nbformat_minor": 5
}
