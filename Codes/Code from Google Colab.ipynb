{
 "cells": [
  {
   "cell_type": "code",
   "execution_count": null,
   "id": "249c3617",
   "metadata": {
    "colab": {
     "base_uri": "https://localhost:8080/"
    },
    "executionInfo": {
     "elapsed": 26487,
     "status": "ok",
     "timestamp": 1709756401132,
     "user": {
      "displayName": "Beth",
      "userId": "02722972246676483817"
     },
     "user_tz": 420
    },
    "id": "249c3617",
    "outputId": "5a672d2e-b77e-486c-9cf5-0a21164dd17c"
   },
   "outputs": [
    {
     "name": "stdout",
     "output_type": "stream",
     "text": [
      "Drive already mounted at /content/drive; to attempt to forcibly remount, call drive.mount(\"/content/drive\", force_remount=True).\n",
      "                       file                                            message\n",
      "0     allen-p/_sent_mail/1.  Message-ID: <18782981.1075855378110.JavaMail.e...\n",
      "1    allen-p/_sent_mail/10.  Message-ID: <15464986.1075855378456.JavaMail.e...\n",
      "2   allen-p/_sent_mail/100.  Message-ID: <24216240.1075855687451.JavaMail.e...\n",
      "3  allen-p/_sent_mail/1000.  Message-ID: <13505866.1075863688222.JavaMail.e...\n",
      "4  allen-p/_sent_mail/1001.  Message-ID: <30922949.1075863688243.JavaMail.e...\n"
     ]
    }
   ],
   "source": [
    "from google.colab import drive\n",
    "import pandas as pd\n",
    "\n",
    "# Mount Google Drive\n",
    "drive.mount('/content/drive')\n",
    "\n",
    "# Full path to the CSV file\n",
    "data_path = '/content/drive/My Drive/Enron_emails.csv'\n",
    "\n",
    "# Load the CSV file\n",
    "df= pd.read_csv(data_path)\n",
    "\n",
    "# Display the first few rows to confirm it's loaded correctly\n",
    "print(df.head())\n"
   ]
  },
  {
   "cell_type": "code",
   "execution_count": null,
   "id": "e9938806",
   "metadata": {
    "colab": {
     "base_uri": "https://localhost:8080/"
    },
    "executionInfo": {
     "elapsed": 1694,
     "status": "ok",
     "timestamp": 1709756412934,
     "user": {
      "displayName": "Beth",
      "userId": "02722972246676483817"
     },
     "user_tz": 420
    },
    "id": "e9938806",
    "outputId": "45ff3daa-d3b4-40ef-9006-4a0d92e3ee4c"
   },
   "outputs": [
    {
     "name": "stdout",
     "output_type": "stream",
     "text": [
      "                             file  \\\n",
      "count                      517401   \n",
      "unique                     517401   \n",
      "top     zufferli-j/sent_items/99.   \n",
      "freq                            1   \n",
      "\n",
      "                                                  message  \n",
      "count                                              517401  \n",
      "unique                                             517401  \n",
      "top     Message-ID: <28618979.1075842030037.JavaMail.e...  \n",
      "freq                                                    1  \n"
     ]
    }
   ],
   "source": [
    "# Descriptive statistics for numerical features\n",
    "print(df.describe())\n"
   ]
  },
  {
   "cell_type": "code",
   "execution_count": null,
   "id": "62cea9be",
   "metadata": {
    "colab": {
     "base_uri": "https://localhost:8080/"
    },
    "executionInfo": {
     "elapsed": 505,
     "status": "ok",
     "timestamp": 1709756416652,
     "user": {
      "displayName": "Beth",
      "userId": "02722972246676483817"
     },
     "user_tz": 420
    },
    "id": "62cea9be",
    "outputId": "f8f5af61-2d40-425a-f4c5-12348a3c5fa5"
   },
   "outputs": [
    {
     "name": "stdout",
     "output_type": "stream",
     "text": [
      "file       0\n",
      "message    0\n",
      "dtype: int64\n"
     ]
    }
   ],
   "source": [
    "# Check for missing values\n",
    "print(df.isnull().sum())\n"
   ]
  },
  {
   "cell_type": "code",
   "execution_count": null,
   "id": "5f343561",
   "metadata": {
    "colab": {
     "base_uri": "https://localhost:8080/"
    },
    "executionInfo": {
     "elapsed": 561,
     "status": "ok",
     "timestamp": 1709756421087,
     "user": {
      "displayName": "Beth",
      "userId": "02722972246676483817"
     },
     "user_tz": 420
    },
    "id": "5f343561",
    "outputId": "a705936e-828a-48c6-fd39-00c223ff387d"
   },
   "outputs": [
    {
     "name": "stdout",
     "output_type": "stream",
     "text": [
      "Columns with NaN values: []\n",
      "There are no NaN values in the DataFrame.\n"
     ]
    }
   ],
   "source": [
    "# Check for NaN values in the DataFrame\n",
    "nan_values = df.isna().any()\n",
    "\n",
    "# Display columns with NaN values\n",
    "columns_with_nan = nan_values[nan_values].index.tolist()\n",
    "print(\"Columns with NaN values:\", columns_with_nan)\n",
    "\n",
    "# Check if there are any NaN values in the DataFrame\n",
    "if nan_values.any():\n",
    "    print(\"There are NaN values in the DataFrame.\")\n",
    "else:\n",
    "    print(\"There are no NaN values in the DataFrame.\")\n"
   ]
  },
  {
   "cell_type": "markdown",
   "id": "yE7kVX6QajG2",
   "metadata": {
    "id": "yE7kVX6QajG2"
   },
   "source": [
    "#### Observations:\n",
    "- Columns: my dataset contains two columns: file and message.\n",
    "- Entries: There are 517,401 entries, and each entry is unique (as indicated by the count of unique values in the file and message columns).\n",
    "- No Missing Values: There are no missing values in either column.\n",
    "- Message Content: The message column contains the full content of the emails, including metadata like Message-ID, Date, From, To, Subject, and the email body."
   ]
  },
  {
   "cell_type": "code",
   "execution_count": null,
   "id": "907effce",
   "metadata": {
    "colab": {
     "base_uri": "https://localhost:8080/"
    },
    "executionInfo": {
     "elapsed": 570,
     "status": "ok",
     "timestamp": 1709756426112,
     "user": {
      "displayName": "Beth",
      "userId": "02722972246676483817"
     },
     "user_tz": 420
    },
    "id": "907effce",
    "outputId": "76b4ebda-ee3a-4ba2-c6f0-8e83d9dd68a7"
   },
   "outputs": [
    {
     "name": "stdout",
     "output_type": "stream",
     "text": [
      "Message-ID: <28618979.1075842030037.JavaMail.evans@thyme>\\nDate: Mon, 26 Nov 2001 10:48:43 -0800 (PST)\\nFrom: john.zufferli@enron.com\\nTo: livia_zufferli@monitor.com\\nSubject: RE: ali's essays\\nMime-Version: 1.0\\nContent-Type: text/plain; charset=us-ascii\\nContent-Transfer-Encoding: 7bit\\nX-From: Zufferli, John </O=ENRON/OU=NA/CN=RECIPIENTS/CN=JZUFFER>\\nX-To: 'Livia_Zufferli@Monitor.com@ENRON'\\nX-cc: \\nX-bcc: \\nX-Folder: \\ExMerge - Zufferli, John\\Sent Items\\nX-Origin: ZUFFERLI-J\\nX-FileName: john zufferli 6-26-02.PST\\n\\ni think the YMCA has a class that is for people recovering from heart-attacks\\ni remeber something about that\\n\\n -----Original Message-----\\nFrom: \\tLivia_Zufferli@Monitor.com@ENRON  \\nSent:\\tMonday, November 26, 2001 11:44 AM\\nTo:\\tZufferli, John\\nSubject:\\tRE: ali's essays\\n\\n\\ni don't know about the heart classes.  i'll look into it, but her dr (ravi)\\nisn't offering up any suggestions or anything.  she saw him before the\\nsurgery in august, and he said things were okay.  i really don't think he's\\ntoo helpful.\\n\\nshe is lazy -- but it really frustrates me that she doesn't want to help\\nherself.  i told her that not walking is like not taking her heart\\nmedication.  that didn't seem to resonate.  dad is going to go to the YMCA\\ntomorrow and maybe get a membership for both of them -- they have a walking\\ntrack there (at least it's something to do in the winter).  when she was\\ndown this weekend, we walked around the craft show (at the Exhibition\\nplace) and she said that was a lot of exercise (2 hrs).  The only problem\\nis that we were just strolling, and not really walking very fast.\\n\\n\\n\\n\\n\\n                    John.Zufferli@\\n                    enron.com            To:     Livia_Zufferli@Monitor.com\\n                                         cc:\\n                    11/26/2001           Subject:     RE: ali's essays\\n                    01:41 PM\\n\\n\\n\\n\\n\\n\\njust send the essay at home\\n\\nI don't know what to do about mom, i don't think fear is the only thing\\nholding her back , i think she is lazy\\n\\nis there a heart health class in Sudbury that has excercise regimines as\\nwell as diets?\\n\\nwhen is the last time she saw her doctor\\n\\n    -----Original Message-----\\n   From:   Livia_Zufferli@Monitor.com@ENRON\\n   Sent:   Monday, November 26, 2001 11:19 AM\\n   To:     Zufferli, John\\n   Subject:  ali's essays\\n\\n   Hi John\\n\\n   How was Thanksgiving?  Was the baby shower fun?\\n\\n   I was wondering if you'd have some time to read over Ali's Chicago\\n   essays\\n   later tonight?  He's going to submit them on Wednesday.  Let me know if\\n   that's okay.  Do you have a printer at home?  Can I send them to your\\n   home\\n   account?  (I don't think Ali will be done before about 8pm or so\\n   tonight).\\n\\n   PS:  We need to talk about mom.  I saw her this weekend -- she's gained\\n   a\\n   lot of weight, and hasn't been exercising at all.  Dad's pretty\\n   frustrated\\n   because all she does is watch tv.  I had a talk with her yesterday\\n   telling\\n   her that she has more risk of having a heart attack if she doesn't walk\\n   /\\n   exercise than if she exerts herself when exercising (i think she's\\n   afraid\\n   of having a heart attack while exercising).  We need to do something --\\n   she's 170lbs now, and should be at around 140lbs to be healthy.\\n\\n   Livia\\n\\n\\n\\n\\n**********************************************************************\\nThis e-mail is the property of Enron Corp. and/or its relevant affiliate\\nand may contain confidential and privileged material for the sole use of\\nthe intended recipient (s). Any review, use, distribution or disclosure by\\nothers is strictly prohibited. If you are not the intended recipient (or\\nauthorized to receive for the recipient), please contact the sender or\\nreply to Enron Corp. at enron.messaging.administration@enron.com and delete\\nall copies of the message. This e-mail (and any attachments hereto) are not\\nintended to be an offer (or an acceptance) and do not create or evidence a\\nbinding and enforceable contract between Enron Corp. (or any of its\\naffiliates) and the intended recipient or any other party, and may not be\\nrelied on by anyone as the basis of a contract by estoppel or otherwise.\\nThank you.\\n**********************************************************************\\n\\n\\n    1\n",
      "Message-ID: <18782981.1075855378110.JavaMail.evans@thyme>\\nDate: Mon, 14 May 2001 16:39:00 -0700 (PDT)\\nFrom: phillip.allen@enron.com\\nTo: tim.belden@enron.com\\nSubject: \\nMime-Version: 1.0\\nContent-Type: text/plain; charset=us-ascii\\nContent-Transfer-Encoding: 7bit\\nX-From: Phillip K Allen\\nX-To: Tim Belden <Tim Belden/Enron@EnronXGate>\\nX-cc: \\nX-bcc: \\nX-Folder: \\Phillip_Allen_Jan2002_1\\Allen, Phillip K.\\'Sent Mail\\nX-Origin: Allen-P\\nX-FileName: pallen (Non-Privileged).pst\\n\\nHere is our forecast\\n\\n                                                                                                                                                                                                                                                                                                                                                                                                                                                                                                                                                                                                                                                                                                                                                                                                                                                                                                                                                                                                                                                                                                                                                                                                                                                                                                                                                                                                                                                                                                                                                                                                                                                                                                                                                                                                                                                                                                                                                                                                                                                                                                                                                                                                                                                                                                                                                                                                                                                                                                                                                                                                                                                                                                                                                                                                                                                                                                                                                                                                                                                                                                                                                                                                                                                                                                                                                                                                                                                                                                                                                                                                                                                                                                                                                                                                                                                                                                                                                                            1\n",
      "Message-ID: <15464986.1075855378456.JavaMail.evans@thyme>\\nDate: Fri, 4 May 2001 13:51:00 -0700 (PDT)\\nFrom: phillip.allen@enron.com\\nTo: john.lavorato@enron.com\\nSubject: Re:\\nMime-Version: 1.0\\nContent-Type: text/plain; charset=us-ascii\\nContent-Transfer-Encoding: 7bit\\nX-From: Phillip K Allen\\nX-To: John J Lavorato <John J Lavorato/ENRON@enronXgate@ENRON>\\nX-cc: \\nX-bcc: \\nX-Folder: \\Phillip_Allen_Jan2002_1\\Allen, Phillip K.\\'Sent Mail\\nX-Origin: Allen-P\\nX-FileName: pallen (Non-Privileged).pst\\n\\nTraveling to have a business meeting takes the fun out of the trip.  Especially if you have to prepare a presentation.  I would suggest holding the business plan meetings here then take a trip without any formal business meetings.  I would even try and get some honest opinions on whether a trip is even desired or necessary.\\n\\nAs far as the business meetings, I think it would be more productive to try and stimulate discussions across the different groups about what is working and what is not.  Too often the presenter speaks and the others are quiet just waiting for their turn.   The meetings might be better if held in a round table discussion format.  \\n\\nMy suggestion for where to go is Austin.  Play golf and rent a ski boat and jet ski's.  Flying somewhere takes too much time.\\n                                                                                                                                                                                                                                                                                                                                                                                                                                                                                                                                                                                                                                                                                                                                                                                                                                                                                                                                                                                                                                                                                                                                                                                                                                                                                                                                                                                                                                                                                                                                                                                                                                                                                                                                                                                                                                                                                                                                                                                                                                                                                                                                                                                                                                                                                                                                                                                                                                                                                                                                                                                                                                                                                                                                                                                                                                                                                                                                                                                                                                                                                                                                                        1\n",
      "Message-ID: <24216240.1075855687451.JavaMail.evans@thyme>\\nDate: Wed, 18 Oct 2000 03:00:00 -0700 (PDT)\\nFrom: phillip.allen@enron.com\\nTo: leah.arsdall@enron.com\\nSubject: Re: test\\nMime-Version: 1.0\\nContent-Type: text/plain; charset=us-ascii\\nContent-Transfer-Encoding: 7bit\\nX-From: Phillip K Allen\\nX-To: Leah Van Arsdall\\nX-cc: \\nX-bcc: \\nX-Folder: \\Phillip_Allen_Dec2000\\Notes Folders\\'sent mail\\nX-Origin: Allen-P\\nX-FileName: pallen.nsf\\n\\ntest successful.  way to go!!!                                                                                                                                                                                                                                                                                                                                                                                                                                                                                                                                                                                                                                                                                                                                                                                                                                                                                                                                                                                                                                                                                                                                                                                                                                                                                                                                                                                                                                                                                                                                                                                                                                                                                                                                                                                                                                                                                                                                                                                                                                                                                                                                                                                                                                                                                                                                                                                                                                                                                                                                                                                                                                                                                                                                                                                                                                                                                                                                                                                                                                                                                                                                                                                                                                                                                                                                                                                                                                                                                                                                                                                                                                                                                                                                                                                                                                                                                                                                                                                                           1\n",
      "Message-ID: <13505866.1075863688222.JavaMail.evans@thyme>\\nDate: Mon, 23 Oct 2000 06:13:00 -0700 (PDT)\\nFrom: phillip.allen@enron.com\\nTo: randall.gay@enron.com\\nSubject: \\nMime-Version: 1.0\\nContent-Type: text/plain; charset=us-ascii\\nContent-Transfer-Encoding: 7bit\\nX-From: Phillip K Allen\\nX-To: Randall L Gay\\nX-cc: \\nX-bcc: \\nX-Folder: \\Phillip_Allen_Dec2000\\Notes Folders\\'sent mail\\nX-Origin: Allen-P\\nX-FileName: pallen.nsf\\n\\nRandy,\\n\\n Can you send me a schedule of the salary and level of everyone in the \\nscheduling group.  Plus your thoughts on any changes that need to be made.  \\n(Patti S for example)\\n\\nPhillip                                                                                                                                                                                                                                                                                                                                                                                                                                                                                                                                                                                                                                                                                                                                                                                                                                                                                                                                                                                                                                                                                                                                                                                                                                                                                                                                                                                                                                                                                                                                                                                                                                                                                                                                                                                                                                                                                                                                                                                                                                                                                                                                                                                                                                                                                                                                                                                                                                                                                                                                                                                                                                                                                                                                                                                                                                                                                                                                                                                                                                                                                                                                                                                                                                                                                                                                                                                                                                                                                                                                                                                                                                                                                                                                                                                                                                                    1\n",
      "                                                                                                                                                                                                                                                                                                                                                                                                                                                                                                                                                                                                                                                                                                                                                                                                                                                                                                                                                                                                                                                                                                                                                                                                                                                                                                                                                                                                                                                                                                                                                                                                                                                                                                                                                                                                                                                                                                                                                                                                                                                                                                                                                                                                                                                                                                                                                                                                                                                                                                                                                                                                                                                                                                                                                                                                                                                                                                                                                                                                                                                                                                                                                                                                                                                                                                                                                                                                                                                                                                                                                                                                                                                                                                                                                                                                                                                                                                                                                                                                                                                                                                                                                                                                                                                                                                                                                                                                                                                                                                        ..\n",
      "Message-ID: <8572706.1075855378498.JavaMail.evans@thyme>\\nDate: Thu, 3 May 2001 15:57:00 -0700 (PDT)\\nFrom: phillip.allen@enron.com\\nTo: rlehmann@yahoo.com\\nSubject: \\nMime-Version: 1.0\\nContent-Type: text/plain; charset=us-ascii\\nContent-Transfer-Encoding: 7bit\\nX-From: Phillip K Allen\\nX-To: rlehmann <rlehmann@yahoo.com>\\nX-cc: \\nX-bcc: \\nX-Folder: \\Phillip_Allen_Jan2002_1\\Allen, Phillip K.\\'Sent Mail\\nX-Origin: Allen-P\\nX-FileName: pallen (Non-Privileged).pst\\n\\nReagan,\\n\\nJust wanted to give you an update.  I have changed the unit mix to include some 1 bedrooms and reduced the number of buildings to 12.  Kipp Flores is working on the construction drawings.  At the same time I am pursuing FHA financing.  Once the construction drawings are complete I will send them to you for a revised bid.  Your original bid was competitive and I am still attracted to your firm because of your strong local presence and contacts.\\n\\nPhillip                                                                                                                                                                                                                                                                                                                                                                                                                                                                                                                                                                                                                                                                                                                                                                                                                                                                                                                                                                                                                                                                                                                                                                                                                                                                                                                                                                                                                                                                                                                                                                                                                                                                                                                                                                                                                                                                                                                                                                                                                                                                                                                                                                                                                                                                                                                                                                                                                                                                                                                                                                                                                                                                                                                                                                                                                                                                                                                                                                                                                                                                                                                                                                                                                                                                                                                                                                                                                                                                                                                              1\n",
      "Message-ID: <29665600.1075855687895.JavaMail.evans@thyme>\\nDate: Tue, 26 Sep 2000 05:11:00 -0700 (PDT)\\nFrom: phillip.allen@enron.com\\nTo: cindy.cicchetti@enron.com\\nSubject: Re: Gas Trading Vision meeting\\nMime-Version: 1.0\\nContent-Type: text/plain; charset=us-ascii\\nContent-Transfer-Encoding: 7bit\\nX-From: Phillip K Allen\\nX-To: Cindy Cicchetti\\nX-cc: \\nX-bcc: \\nX-Folder: \\Phillip_Allen_Dec2000\\Notes Folders\\'sent mail\\nX-Origin: Allen-P\\nX-FileName: pallen.nsf\\n\\nNymex expiration is during this time frame.  Please reschedule.                                                                                                                                                                                                                                                                                                                                                                                                                                                                                                                                                                                                                                                                                                                                                                                                                                                                                                                                                                                                                                                                                                                                                                                                                                                                                                                                                                                                                                                                                                                                                                                                                                                                                                                                                                                                                                                                                                                                                                                                                                                                                                                                                                                                                                                                                                                                                                                                                                                                                                                                                                                                                                                                                                                                                                                                                                                                                                                                                                                                                                                                                                                                                                                                                                                                                                                                                                                                                                                                                                                                                                                                                                                                                                                                                                                                                                                                                                                                                  1\n",
      "Message-ID: <4449575.1075855687916.JavaMail.evans@thyme>\\nDate: Tue, 26 Sep 2000 05:08:00 -0700 (PDT)\\nFrom: phillip.allen@enron.com\\nTo: ina.rangel@enron.com\\nSubject: \\nMime-Version: 1.0\\nContent-Type: text/plain; charset=us-ascii\\nContent-Transfer-Encoding: 7bit\\nX-From: Phillip K Allen\\nX-To: Ina Rangel\\nX-cc: \\nX-bcc: \\nX-Folder: \\Phillip_Allen_Dec2000\\Notes Folders\\'sent mail\\nX-Origin: Allen-P\\nX-FileName: pallen.nsf\\n\\n---------------------- Forwarded by Phillip K Allen/HOU/ECT on 09/26/2000 \\n12:08 PM ---------------------------\\n\\n\\n\\tInvitation\\nChairperson: Richard Burchfield\\nSent by: Cindy Cicchetti\\n\\nStart: 09/27/2000 11:30 AM\\nEnd: 09/27/2000 12:30 PM\\n\\nDescription: Gas Trading Vision Meeting - Room EB2556\\n\\n\\n\\nThis meeting repeats   starting on    (if the date occurs on a weekend the \\nmeeting ).\\nMeeting Dates: \\n\\n\\n\\nPhillip K Allen/HOU/ECT\\nHunter S Shively/HOU/ECT\\nScott Mills/HOU/ECT\\nAllan Severude/HOU/ECT\\nJeffrey C Gossett/HOU/ECT\\nColleen Sullivan/HOU/ECT\\nRuss Severson/HOU/ECT\\nJayant Krishnaswamy/HOU/ECT\\nRussell Long/HOU/ECT\\n\\nDetailed description:\\n\\n\\n                                                                                                                                                                                                                                                                                                                                                                                                                                                                                                                                                                                                                                                                                                                                                                                                                                                                                                                                                                                                                                                                                                                                                                                                                                                                                                                                                                                                                                                                                                                                                                                                                                                                                                                                                                                                                                                                                                                                                                                                                                                                                                                                                                                                                                                                                                                                                                                                                                                                                                                                                                                                                                                                                                                                                                                                                                                                                                                                                                                                                                                                                                                                                                                                                                                                                                                                                        1\n",
      "Message-ID: <24741229.1075855687937.JavaMail.evans@thyme>\\nDate: Tue, 26 Sep 2000 05:07:00 -0700 (PDT)\\nFrom: phillip.allen@enron.com\\nTo: ina.rangel@enron.com\\nSubject: Gas Physical/Financial Position\\nMime-Version: 1.0\\nContent-Type: text/plain; charset=us-ascii\\nContent-Transfer-Encoding: 7bit\\nX-From: Phillip K Allen\\nX-To: Ina Rangel\\nX-cc: \\nX-bcc: \\nX-Folder: \\Phillip_Allen_Dec2000\\Notes Folders\\'sent mail\\nX-Origin: Allen-P\\nX-FileName: pallen.nsf\\n\\n---------------------- Forwarded by Phillip K Allen/HOU/ECT on 09/26/2000 \\n12:07 PM ---------------------------\\n   \\n\\t\\n\\t\\n\\tFrom:  Cindy Cicchetti                           09/26/2000 09:23 AM\\n\\t\\n\\nTo: Phillip K Allen/HOU/ECT@ECT, Hunter S Shively/HOU/ECT@ECT, Scott \\nMills/HOU/ECT@ECT, Allan Severude/HOU/ECT@ECT, Russ Severson/HOU/ECT@ECT, \\nFletcher J Sturm/HOU/ECT@ECT, Scott Neal/HOU/ECT@ECT\\ncc:  \\nSubject: Gas Physical/Financial Position\\n\\nI have scheduled and entered on each of your calendars a meeting for the \\nabove referenced topic.  It will take place on Thursday, 9/28 from 3:00 - \\n4:00 in Room EB2537.  \\n                                                                                                                                                                                                                                                                                                                                                                                                                                                                                                                                                                                                                                                                                                                                                                                                                                                                                                                                                                                                                                                                                                                                                                                                                                                                                                                                                                                                                                                                                                                                                                                                                                                                                                                                                                                                                                                                                                                                                                                                                                                                                                                                                                                                                                                                                                                                                                                                                                                                                                                                                                                                                                                                                                                                                                                                                                                                                                                                                                                                                                                                                                                                                                                                                                                                                                                                                                  1\n",
      "Message-ID: <19330146.1075855687961.JavaMail.evans@thyme>\\nDate: Tue, 26 Sep 2000 04:57:00 -0700 (PDT)\\nFrom: phillip.allen@enron.com\\nTo: jsmith@austintx.com\\nSubject: closing\\nMime-Version: 1.0\\nContent-Type: text/plain; charset=ANSI_X3.4-1968\\nContent-Transfer-Encoding: 7bit\\nX-From: Phillip K Allen\\nX-To: jsmith@austintx.com\\nX-cc: \\nX-bcc: \\nX-Folder: \\Phillip_Allen_Dec2000\\Notes Folders\\'sent mail\\nX-Origin: Allen-P\\nX-FileName: pallen.nsf\\n\\n---------------------- Forwarded by Phillip K Allen/HOU/ECT on 09/26/2000 \\n11:57 AM ---------------------------\\n\\n\\n\"BS Stone\" <bs_stone@yahoo.com> on 09/26/2000 04:47:40 AM\\nTo: \"jeff\" <jeff@freeyellow.com>\\ncc: \"Phillip K Allen\" <Phillip.K.Allen@enron.com> \\nSubject: closing\\n\\n\\n\\nJeff, \\n?\\nIs the closing today?? After reviewing the  agreement?I find it isn't binding \\nas far as I can determine.? It is  too vague and it doesn't sound like \\nanything an attorney or title company  would?draft for a real estate \\nclosing--but, of course, I could be  wrong.? \\n?\\nIf this?closing is going to take place without  this agreement then there is \\nno point in me  following up on this?document's validity.? \\n?\\nI will just need to go back to my closing documents  and see what's there and \\nfind out where I am with that and deal with this as  best I can.\\n?\\nI guess I was expecting something that would be an  exhibit to a recordable \\ndocument or something a little more exact, or  rather?sort of a contract.? \\nThis isn't either.? I tried to get a  real estate atty on the phone last \\nnight but he was out of pocket.? I  talked to a crim. atty friend and he said \\nthis is out of his area but doesn't  sound binding to him.? \\n?\\nI will go back to mine and Phillip Allen's  transaction?and take a look at \\nthat but as vague and general as this is I  doubt that my signature? is even \\nneeded to complete this transaction.?  I am in after 12 noon if there is any \\nneed to contact me regarding the  closing.\\n?\\nI really do not want to hold up anything or  generate more work for myself \\nand I don't want to insult or annoy anyone but  this paper really doesn't \\nseem to be something required for a closing.? In  the event you do need my \\nsignature on something like this I would rather have  time to have it \\nreviewed before I accept it.\\n?\\nBrenda\\n?\\n?\\n                                                                                                                                                                                                                                                                                                                                                                                                                                                                                                                                                                                                                                                                                                                                                                                                                                                                                                                                                                                                                                                                                                                                                                                                                                                                                                                                                                                                                                                                                                                                                                                                                                                                                                                                                                                                                                                                                                                                                                                                                                                                                      1\n",
      "Name: message, Length: 517401, dtype: int64\n"
     ]
    }
   ],
   "source": [
    "# Explore unique values for a 'message' column\n",
    "print(df['message'].value_counts())\n"
   ]
  },
  {
   "cell_type": "markdown",
   "id": "7795d1ee",
   "metadata": {
    "id": "7795d1ee"
   },
   "source": [
    "Looking on the result, the message column discusses various topics, including scheduling a review of essays, concerns about a family member's health, and logistical details about document sharing. Additionally, there's a standard confidentiality disclaimer at the end.\n",
    "\n",
    "In terms of analysis, this email reflects typical workplace communication, including task coordination and personal concerns. It provides a glimpse into the daily interactions and dynamics within the Enron organization.\n",
    "\n",
    "### Cleaning and Processing Steps:\n",
    "Extracting Email Bodies:\n",
    "\n",
    "The message column contains both headers (e.g., Message-ID, From, To, Subject) and the body of the emails. For autocompletion, I'm likely most interested in the email bodies. I'll need to extract the body from each message, which typically starts after the X-FileName line or the last metadata header."
   ]
  },
  {
   "cell_type": "code",
   "execution_count": null,
   "id": "853d9853",
   "metadata": {
    "colab": {
     "base_uri": "https://localhost:8080/"
    },
    "executionInfo": {
     "elapsed": 1256,
     "status": "ok",
     "timestamp": 1709756431161,
     "user": {
      "displayName": "Beth",
      "userId": "02722972246676483817"
     },
     "user_tz": 420
    },
    "id": "853d9853",
    "outputId": "f4aa24ce-dac6-4437-e09a-5b5cb46a8aa6"
   },
   "outputs": [
    {
     "name": "stdout",
     "output_type": "stream",
     "text": [
      "                                             message  \\\n",
      "0  Message-ID: <18782981.1075855378110.JavaMail.e...   \n",
      "1  Message-ID: <15464986.1075855378456.JavaMail.e...   \n",
      "2  Message-ID: <24216240.1075855687451.JavaMail.e...   \n",
      "3  Message-ID: <13505866.1075863688222.JavaMail.e...   \n",
      "4  Message-ID: <30922949.1075863688243.JavaMail.e...   \n",
      "\n",
      "                                                body  \n",
      "0                          Here is our forecast\\n\\n   \n",
      "1  Traveling to have a business meeting takes the...  \n",
      "2                     test successful.  way to go!!!  \n",
      "3  Randy,\\n\\n Can you send me a schedule of the s...  \n",
      "4                Let's shoot for Tuesday at 11:45.    \n"
     ]
    }
   ],
   "source": [
    "def extract_body(message):\n",
    "    split_message = message.split('\\n\\n', 1)  # Splitting at the first double newline\n",
    "    if len(split_message) > 1:\n",
    "        return split_message[1]  # Return the part after the first double newline\n",
    "    else:\n",
    "        return split_message[0]  # If there's no double newline, return the whole message\n",
    "\n",
    "# Apply the function to the 'message' column to create a new 'body' column\n",
    "df['body'] = df['message'].apply(extract_body)\n",
    "\n",
    "# Display the first few rows of the dataset to verify the extraction\n",
    "print(df[['message', 'body']].head())\n"
   ]
  },
  {
   "cell_type": "markdown",
   "id": "fA9TC9PMavk8",
   "metadata": {
    "id": "fA9TC9PMavk8"
   },
   "source": [
    "Now time to clean whitespace line brake..."
   ]
  },
  {
   "cell_type": "code",
   "execution_count": null,
   "id": "ba955803",
   "metadata": {
    "colab": {
     "base_uri": "https://localhost:8080/"
    },
    "executionInfo": {
     "elapsed": 41366,
     "status": "ok",
     "timestamp": 1709756475243,
     "user": {
      "displayName": "Beth",
      "userId": "02722972246676483817"
     },
     "user_tz": 420
    },
    "id": "ba955803",
    "outputId": "50aa509d-642f-465a-ae17-3a40d9dadab4"
   },
   "outputs": [
    {
     "name": "stdout",
     "output_type": "stream",
     "text": [
      "                                                body  \\\n",
      "0                          Here is our forecast\\n\\n    \n",
      "1  Traveling to have a business meeting takes the...   \n",
      "2                     test successful.  way to go!!!   \n",
      "3  Randy,\\n\\n Can you send me a schedule of the s...   \n",
      "4                Let's shoot for Tuesday at 11:45.     \n",
      "\n",
      "                                        cleaned_body  \n",
      "0                               Here is our forecast  \n",
      "1  Traveling to have a business meeting takes the...  \n",
      "2                      test successful. way to go!!!  \n",
      "3  Randy, Can you send me a schedule of the salar...  \n",
      "4                  Let's shoot for Tuesday at 11:45.  \n"
     ]
    }
   ],
   "source": [
    "import re\n",
    "\n",
    "def clean_text(text):\n",
    "    # Replace line breaks with a space\n",
    "    text = text.replace('\\n', ' ')\n",
    "    # Remove extra spaces\n",
    "    text = re.sub(' +', ' ', text)\n",
    "    return text.strip()\n",
    "\n",
    "# Apply cleaning function to the body column\n",
    "df['cleaned_body'] = df['body'].apply(clean_text)\n",
    "\n",
    "# Display the cleaned text\n",
    "print(df[['body', 'cleaned_body']].head())\n"
   ]
  },
  {
   "cell_type": "markdown",
   "id": "W2LLvQjQa12H",
   "metadata": {
    "id": "W2LLvQjQa12H"
   },
   "source": [
    "Then some more cleaning (punctuation, extra space, convert to lowercase and so on) and a col ro the cleaned massages"
   ]
  },
  {
   "cell_type": "code",
   "execution_count": null,
   "id": "ff3f8c55",
   "metadata": {
    "colab": {
     "base_uri": "https://localhost:8080/"
    },
    "executionInfo": {
     "elapsed": 46433,
     "status": "ok",
     "timestamp": 1709756526666,
     "user": {
      "displayName": "Beth",
      "userId": "02722972246676483817"
     },
     "user_tz": 420
    },
    "id": "ff3f8c55",
    "outputId": "a2263fd1-85c0-443a-ff83-7611f9274155"
   },
   "outputs": [
    {
     "name": "stdout",
     "output_type": "stream",
     "text": [
      "                                                body  \\\n",
      "0                          Here is our forecast\\n\\n    \n",
      "1  Traveling to have a business meeting takes the...   \n",
      "2                     test successful.  way to go!!!   \n",
      "3  Randy,\\n\\n Can you send me a schedule of the s...   \n",
      "4                Let's shoot for Tuesday at 11:45.     \n",
      "\n",
      "                                        cleaned_body  \n",
      "0                               here is our forecast  \n",
      "1  traveling to have a business meeting takes the...  \n",
      "2                          test successful way to go  \n",
      "3  randy can you send me a schedule of the salary...  \n",
      "4                     lets shoot for tuesday at 1145  \n"
     ]
    }
   ],
   "source": [
    "import re\n",
    "import string\n",
    "\n",
    "def clean_text(text):\n",
    "    # Convert text to lowercase\n",
    "    text = text.lower()\n",
    "    # Replace line breaks with a space\n",
    "    text = text.replace('\\n', ' ')\n",
    "    # Remove punctuation\n",
    "    text = text.translate(str.maketrans('', '', string.punctuation))\n",
    "    # Remove extra spaces\n",
    "    text = re.sub(' +', ' ', text)\n",
    "    return text.strip()\n",
    "\n",
    "# Apply cleaning function to the body column\n",
    "df['cleaned_body'] = df['body'].apply(clean_text)\n",
    "\n",
    "# Display the cleaned text to verify punctuation removal and normalization\n",
    "print(df[['body', 'cleaned_body']].head())\n"
   ]
  },
  {
   "cell_type": "markdown",
   "id": "BDkrYPGMa9pg",
   "metadata": {
    "id": "BDkrYPGMa9pg"
   },
   "source": [
    "### Save my cleaned data for a later use"
   ]
  },
  {
   "cell_type": "code",
   "execution_count": null,
   "id": "9157fd23",
   "metadata": {
    "id": "9157fd23"
   },
   "outputs": [],
   "source": [
    "# Save the cleaned data to a CSV file\n",
    "df.to_csv('cleaned_enron_emails.csv', index=False)\n"
   ]
  },
  {
   "cell_type": "markdown",
   "id": "WI-S2w_DbEoZ",
   "metadata": {
    "id": "WI-S2w_DbEoZ"
   },
   "source": [
    "Loading my clean data"
   ]
  },
  {
   "cell_type": "code",
   "execution_count": null,
   "id": "91a297ad",
   "metadata": {
    "colab": {
     "base_uri": "https://localhost:8080/"
    },
    "executionInfo": {
     "elapsed": 26430,
     "status": "ok",
     "timestamp": 1709756728195,
     "user": {
      "displayName": "Beth",
      "userId": "02722972246676483817"
     },
     "user_tz": 420
    },
    "id": "91a297ad",
    "outputId": "5ee95fdf-4024-4cb1-ee26-5c2d025d23a9"
   },
   "outputs": [
    {
     "name": "stdout",
     "output_type": "stream",
     "text": [
      "                       file  \\\n",
      "0     allen-p/_sent_mail/1.   \n",
      "1    allen-p/_sent_mail/10.   \n",
      "2   allen-p/_sent_mail/100.   \n",
      "3  allen-p/_sent_mail/1000.   \n",
      "4  allen-p/_sent_mail/1001.   \n",
      "\n",
      "                                             message  \\\n",
      "0  Message-ID: <18782981.1075855378110.JavaMail.e...   \n",
      "1  Message-ID: <15464986.1075855378456.JavaMail.e...   \n",
      "2  Message-ID: <24216240.1075855687451.JavaMail.e...   \n",
      "3  Message-ID: <13505866.1075863688222.JavaMail.e...   \n",
      "4  Message-ID: <30922949.1075863688243.JavaMail.e...   \n",
      "\n",
      "                                                body  \\\n",
      "0                          Here is our forecast\\n\\n    \n",
      "1  Traveling to have a business meeting takes the...   \n",
      "2                     test successful.  way to go!!!   \n",
      "3  Randy,\\n\\n Can you send me a schedule of the s...   \n",
      "4                Let's shoot for Tuesday at 11:45.     \n",
      "\n",
      "                                        cleaned_body  \n",
      "0                               here is our forecast  \n",
      "1  traveling to have a business meeting takes the...  \n",
      "2                          test successful way to go  \n",
      "3  randy can you send me a schedule of the salary...  \n",
      "4                     lets shoot for tuesday at 1145  \n"
     ]
    }
   ],
   "source": [
    "import pandas as pd\n",
    "\n",
    "# Load the cleaned dataset\n",
    "df_emails_cleaned = pd.read_csv('cleaned_enron_emails.csv')\n",
    "\n",
    "# Display the first few rows to confirm it's loaded correctly\n",
    "print(df_emails_cleaned.head())\n"
   ]
  },
  {
   "cell_type": "markdown",
   "id": "vJkG_e4dbLHp",
   "metadata": {
    "id": "vJkG_e4dbLHp"
   },
   "source": [
    "Checking if everything looks thw way it's suppose to"
   ]
  },
  {
   "cell_type": "code",
   "execution_count": null,
   "id": "aca5d14e",
   "metadata": {
    "colab": {
     "base_uri": "https://localhost:8080/"
    },
    "executionInfo": {
     "elapsed": 3851,
     "status": "ok",
     "timestamp": 1709756736499,
     "user": {
      "displayName": "Beth",
      "userId": "02722972246676483817"
     },
     "user_tz": 420
    },
    "id": "aca5d14e",
    "outputId": "fbe33e6c-c4d5-4bb2-95d9-96b65e4303b0"
   },
   "outputs": [
    {
     "name": "stdout",
     "output_type": "stream",
     "text": [
      "<class 'pandas.core.frame.DataFrame'>\n",
      "RangeIndex: 517401 entries, 0 to 517400\n",
      "Data columns (total 4 columns):\n",
      " #   Column        Non-Null Count   Dtype \n",
      "---  ------        --------------   ----- \n",
      " 0   file          517401 non-null  object\n",
      " 1   message       517401 non-null  object\n",
      " 2   body          517401 non-null  object\n",
      " 3   cleaned_body  517347 non-null  object\n",
      "dtypes: object(4)\n",
      "memory usage: 15.8+ MB\n",
      "None\n",
      "                             file  \\\n",
      "count                      517401   \n",
      "unique                     517401   \n",
      "top     zufferli-j/sent_items/99.   \n",
      "freq                            1   \n",
      "\n",
      "                                                  message  \\\n",
      "count                                              517401   \n",
      "unique                                             517401   \n",
      "top     Message-ID: <28618979.1075842030037.JavaMail.e...   \n",
      "freq                                                    1   \n",
      "\n",
      "                                                     body cleaned_body  \n",
      "count                                              517401       517347  \n",
      "unique                                             249013       244467  \n",
      "top     As you know, Enron Net Works (ENW) and Enron G...       thanks  \n",
      "freq                                                  112          175  \n"
     ]
    }
   ],
   "source": [
    "# Display DataFrame information\n",
    "print(df_emails_cleaned.info())\n",
    "\n",
    "#\n",
    "print(df_emails_cleaned.describe())\n"
   ]
  },
  {
   "cell_type": "markdown",
   "id": "3nCH72ySblFc",
   "metadata": {
    "id": "3nCH72ySblFc"
   },
   "source": [
    "### Some EDA after cleaning"
   ]
  },
  {
   "cell_type": "code",
   "execution_count": null,
   "id": "8FxEk54KdQ9V",
   "metadata": {
    "colab": {
     "base_uri": "https://localhost:8080/"
    },
    "executionInfo": {
     "elapsed": 667,
     "status": "ok",
     "timestamp": 1709756983181,
     "user": {
      "displayName": "Beth",
      "userId": "02722972246676483817"
     },
     "user_tz": 420
    },
    "id": "8FxEk54KdQ9V",
    "outputId": "a34ad265-c208-48e7-923f-8a8c4a556b09"
   },
   "outputs": [
    {
     "name": "stdout",
     "output_type": "stream",
     "text": [
      "                       file  \\\n",
      "0     allen-p/_sent_mail/1.   \n",
      "1    allen-p/_sent_mail/10.   \n",
      "2   allen-p/_sent_mail/100.   \n",
      "3  allen-p/_sent_mail/1000.   \n",
      "4  allen-p/_sent_mail/1001.   \n",
      "\n",
      "                                             message  \\\n",
      "0  Message-ID: <18782981.1075855378110.JavaMail.e...   \n",
      "1  Message-ID: <15464986.1075855378456.JavaMail.e...   \n",
      "2  Message-ID: <24216240.1075855687451.JavaMail.e...   \n",
      "3  Message-ID: <13505866.1075863688222.JavaMail.e...   \n",
      "4  Message-ID: <30922949.1075863688243.JavaMail.e...   \n",
      "\n",
      "                                                body  \\\n",
      "0                          Here is our forecast\\n\\n    \n",
      "1  Traveling to have a business meeting takes the...   \n",
      "2                     test successful.  way to go!!!   \n",
      "3  Randy,\\n\\n Can you send me a schedule of the s...   \n",
      "4                Let's shoot for Tuesday at 11:45.     \n",
      "\n",
      "                                        cleaned_body  cleaned_message_length  \n",
      "0                               here is our forecast                    20.0  \n",
      "1  traveling to have a business meeting takes the...                   761.0  \n",
      "2                          test successful way to go                    25.0  \n",
      "3  randy can you send me a schedule of the salary...                   175.0  \n",
      "4                     lets shoot for tuesday at 1145                    30.0  \n"
     ]
    }
   ],
   "source": [
    "# Calculate the length of the cleaned message body and create a new column\n",
    "df_emails_cleaned['cleaned_message_length'] = df_emails_cleaned['cleaned_body'].str.len()\n",
    "\n",
    "# Check the first few rows to verify the new column\n",
    "print(df_emails_cleaned.head())\n"
   ]
  },
  {
   "cell_type": "code",
   "execution_count": null,
   "id": "a7cbbd5e",
   "metadata": {
    "colab": {
     "base_uri": "https://localhost:8080/",
     "height": 564
    },
    "executionInfo": {
     "elapsed": 1163,
     "status": "ok",
     "timestamp": 1709756989545,
     "user": {
      "displayName": "Beth",
      "userId": "02722972246676483817"
     },
     "user_tz": 420
    },
    "id": "a7cbbd5e",
    "outputId": "a9ac064a-f707-4c81-da9c-b38ee6ad0b82"
   },
   "outputs": [
    {
     "data": {
      "image/png": "[encoded data removed]",
      "text/plain": [
       "<Figure size 1000x600 with 1 Axes>"
      ]
     },
     "metadata": {},
     "output_type": "display_data"
    }
   ],
   "source": [
    "import seaborn as sns\n",
    "import matplotlib.pyplot as plt\n",
    "\n",
    "plt.figure(figsize=(10, 6))\n",
    "sns.boxplot(x=df_emails_cleaned['cleaned_message_length'])\n",
    "plt.xlabel('Cleaned Message Length')\n",
    "plt.title('Boxplot of Cleaned Message Lengths')\n",
    "plt.show()\n"
   ]
  },
  {
   "cell_type": "code",
   "execution_count": null,
   "id": "1WuiHClDb-_F",
   "metadata": {
    "id": "1WuiHClDb-_F"
   },
   "outputs": [],
   "source": []
  },
  {
   "cell_type": "markdown",
   "id": "51565c5a",
   "metadata": {
    "id": "51565c5a"
   },
   "source": [
    "## Further Preprocessing"
   ]
  },
  {
   "cell_type": "code",
   "execution_count": null,
   "id": "J4mDEo5hdjCx",
   "metadata": {
    "colab": {
     "base_uri": "https://localhost:8080/"
    },
    "executionInfo": {
     "elapsed": 274,
     "status": "ok",
     "timestamp": 1709757055223,
     "user": {
      "displayName": "Beth",
      "userId": "02722972246676483817"
     },
     "user_tz": 420
    },
    "id": "J4mDEo5hdjCx",
    "outputId": "2c3453b9-2a1e-4fb7-b5c5-f1197dc99e8e"
   },
   "outputs": [
    {
     "name": "stdout",
     "output_type": "stream",
     "text": [
      "object\n"
     ]
    }
   ],
   "source": [
    "# Check the data type of the 'cleaned_body' column\n",
    "print(df_emails_cleaned['cleaned_body'].dtype)\n"
   ]
  },
  {
   "cell_type": "code",
   "execution_count": null,
   "id": "2iQXImJcdnN0",
   "metadata": {
    "id": "2iQXImJcdnN0"
   },
   "outputs": [],
   "source": [
    "# Convert the 'cleaned_body' column to string data type\n",
    "df_emails_cleaned['cleaned_body'] = df_emails_cleaned['cleaned_body'].astype(str)\n"
   ]
  },
  {
   "cell_type": "code",
   "execution_count": null,
   "id": "def41ab6",
   "metadata": {
    "colab": {
     "base_uri": "https://localhost:8080/"
    },
    "executionInfo": {
     "elapsed": 46087,
     "status": "ok",
     "timestamp": 1709757120865,
     "user": {
      "displayName": "Beth",
      "userId": "02722972246676483817"
     },
     "user_tz": 420
    },
    "id": "def41ab6",
    "outputId": "e2f8e88d-a133-456d-ca63-2c034b5f65de"
   },
   "outputs": [
    {
     "name": "stdout",
     "output_type": "stream",
     "text": [
      "                       file  \\\n",
      "0     allen-p/_sent_mail/1.   \n",
      "1    allen-p/_sent_mail/10.   \n",
      "2   allen-p/_sent_mail/100.   \n",
      "3  allen-p/_sent_mail/1000.   \n",
      "4  allen-p/_sent_mail/1001.   \n",
      "\n",
      "                                             message  \\\n",
      "0  Message-ID: <18782981.1075855378110.JavaMail.e...   \n",
      "1  Message-ID: <15464986.1075855378456.JavaMail.e...   \n",
      "2  Message-ID: <24216240.1075855687451.JavaMail.e...   \n",
      "3  Message-ID: <13505866.1075863688222.JavaMail.e...   \n",
      "4  Message-ID: <30922949.1075863688243.JavaMail.e...   \n",
      "\n",
      "                                                body  \\\n",
      "0                          Here is our forecast\\n\\n    \n",
      "1  Traveling to have a business meeting takes the...   \n",
      "2                     test successful.  way to go!!!   \n",
      "3  Randy,\\n\\n Can you send me a schedule of the s...   \n",
      "4                Let's shoot for Tuesday at 11:45.     \n",
      "\n",
      "                                        cleaned_body  cleaned_message_length  \\\n",
      "0                               here is our forecast                    20.0   \n",
      "1  traveling to have a business meeting takes the...                   761.0   \n",
      "2                          test successful way to go                    25.0   \n",
      "3  randy can you send me a schedule of the salary...                   175.0   \n",
      "4                     lets shoot for tuesday at 1145                    30.0   \n",
      "\n",
      "                     processed_body                     filtered_body  \n",
      "0            [here is our forecast]            [here is our forecast]  \n",
      "1                                []                                []  \n",
      "2       [test successful way to go]       [test successful way to go]  \n",
      "3                                []                                []  \n",
      "4  [lets shoot for tuesday at 1145]  [lets shoot for tuesday at 1145]  \n"
     ]
    }
   ],
   "source": [
    "import pandas as pd\n",
    "import re\n",
    "\n",
    "# Function to preprocess email body\n",
    "def preprocess_email_body(body):\n",
    "    # Remove quoted and forwarded messages\n",
    "    body = re.sub(r\"(?s)(<\\w.*?>)+.*?(</\\w.*?>)+\", \"\", body)\n",
    "    body = re.sub(r\"(?s)(---+|===+|___+).*\", \"\", body)\n",
    "    body = re.sub(r\"(?s)(On\\s.*?wrote:)\", \"\", body)\n",
    "    body = re.sub(r\"(?s)(On\\s.*?wrote.*?wrote:)\", \"\", body)\n",
    "\n",
    "    # Tokenize into sentences\n",
    "    sentences = re.split(r\"[.!?]\", body)\n",
    "\n",
    "    # Filter out sentences longer words\n",
    "    sentences = [sentence.strip() for sentence in sentences if len(sentence.split()) <= 20]\n",
    "\n",
    "    return sentences\n",
    "\n",
    "# Apply preprocessing to the 'cleaned_body' column\n",
    "df_emails_cleaned['processed_body'] = df_emails_cleaned['cleaned_body'].apply(preprocess_email_body)\n",
    "\n",
    "# Function to filter out long emails\n",
    "def filter_long_emails(emails):\n",
    "    filtered_emails = []\n",
    "    for email in emails:\n",
    "        # Tokenize into words\n",
    "        words = email.split()\n",
    "        # Remove emails longer than 100 words\n",
    "        if len(words) <= 100:\n",
    "            filtered_emails.append(email)\n",
    "    return filtered_emails\n",
    "\n",
    "# Apply filtering to 'processed_body' column\n",
    "df_emails_cleaned['filtered_body'] = df_emails_cleaned['processed_body'].apply(filter_long_emails)\n",
    "\n",
    "# Display the updated DataFrame\n",
    "print(df_emails_cleaned.head())\n"
   ]
  },
  {
   "cell_type": "markdown",
   "id": "hPaBRuarc8PP",
   "metadata": {
    "id": "hPaBRuarc8PP"
   },
   "source": [
    "Preprocessing: I removed quoted and forwarded messages from the email body, tokenizes it into sentences, and filters out sentences with longer words. This ensures that the input text is clean and concise, facilitating more accurate automation.\n",
    "\n",
    "Filtering: Long emails with more than 100 words are filtered out to prevent overwhelming the automation system with excessive input, ensuring efficient processing and response generation."
   ]
  },
  {
   "cell_type": "code",
   "execution_count": null,
   "id": "875461f2",
   "metadata": {
    "colab": {
     "base_uri": "https://localhost:8080/"
    },
    "executionInfo": {
     "elapsed": 799,
     "status": "ok",
     "timestamp": 1709757134838,
     "user": {
      "displayName": "Beth",
      "userId": "02722972246676483817"
     },
     "user_tz": 420
    },
    "id": "875461f2",
    "outputId": "b7998e61-ac5f-4cd7-cfa6-f2475dc956a0"
   },
   "outputs": [
    {
     "name": "stdout",
     "output_type": "stream",
     "text": [
      "                       file  \\\n",
      "0     allen-p/_sent_mail/1.   \n",
      "1   allen-p/_sent_mail/100.   \n",
      "2  allen-p/_sent_mail/1001.   \n",
      "3  allen-p/_sent_mail/1002.   \n",
      "4  allen-p/_sent_mail/1004.   \n",
      "\n",
      "                                             message  \\\n",
      "0  Message-ID: <18782981.1075855378110.JavaMail.e...   \n",
      "1  Message-ID: <24216240.1075855687451.JavaMail.e...   \n",
      "2  Message-ID: <30922949.1075863688243.JavaMail.e...   \n",
      "3  Message-ID: <30965995.1075863688265.JavaMail.e...   \n",
      "4  Message-ID: <17189699.1075863688308.JavaMail.e...   \n",
      "\n",
      "                                                body  \\\n",
      "0                          Here is our forecast\\n\\n    \n",
      "1                     test successful.  way to go!!!   \n",
      "2                Let's shoot for Tuesday at 11:45.     \n",
      "3  Greg,\\n\\n How about either next Tuesday or Thu...   \n",
      "4                   any morning between 10 and 11:30   \n",
      "\n",
      "                                        cleaned_body  cleaned_message_length  \\\n",
      "0                               here is our forecast                    20.0   \n",
      "1                          test successful way to go                    25.0   \n",
      "2                     lets shoot for tuesday at 1145                    30.0   \n",
      "3  greg how about either next tuesday or thursday...                    54.0   \n",
      "4                    any morning between 10 and 1130                    31.0   \n",
      "\n",
      "                                      processed_body  \\\n",
      "0                             [here is our forecast]   \n",
      "1                        [test successful way to go]   \n",
      "2                   [lets shoot for tuesday at 1145]   \n",
      "3  [greg how about either next tuesday or thursda...   \n",
      "4                  [any morning between 10 and 1130]   \n",
      "\n",
      "                                       filtered_body  \n",
      "0                             [here is our forecast]  \n",
      "1                        [test successful way to go]  \n",
      "2                   [lets shoot for tuesday at 1145]  \n",
      "3  [greg how about either next tuesday or thursda...  \n",
      "4                  [any morning between 10 and 1130]  \n"
     ]
    }
   ],
   "source": [
    "# Drop rows where 'filtered_body' is empty\n",
    "df_emails_cleaned = df_emails_cleaned[df_emails_cleaned['filtered_body'].apply(len) > 0]\n",
    "\n",
    "# Reset index after dropping rows\n",
    "df_emails_cleaned.reset_index(drop=True, inplace=True)\n",
    "\n",
    "# Display the updated DataFrame\n",
    "print(df_emails_cleaned.head())\n"
   ]
  },
  {
   "cell_type": "markdown",
   "id": "7IAhnM2xdPCM",
   "metadata": {
    "id": "7IAhnM2xdPCM"
   },
   "source": [
    "I removed rows from the dataframe where the 'filtered_body' column, representing preprocessed and filtered email content, is empty. This action ensures that only emails with meaningful content are retained, enhancing data quality and reliability for subsequent analysis or automation in the project."
   ]
  },
  {
   "cell_type": "markdown",
   "id": "f92bbed6",
   "metadata": {
    "id": "f92bbed6"
   },
   "source": [
    "#### Save the filtered dataset"
   ]
  },
  {
   "cell_type": "code",
   "execution_count": null,
   "id": "de280f28",
   "metadata": {
    "id": "de280f28"
   },
   "outputs": [],
   "source": [
    "# Save the filtered DataFrame to a CSV file\n",
    "df_emails_cleaned.to_csv('filtered_enron_emails.csv', index=False)\n",
    "\n"
   ]
  },
  {
   "cell_type": "markdown",
   "id": "yJqwEHbnW28S",
   "metadata": {
    "id": "yJqwEHbnW28S"
   },
   "source": [
    "#............."
   ]
  },
  {
   "cell_type": "markdown",
   "id": "nS-o6QWPWxAT",
   "metadata": {
    "id": "nS-o6QWPWxAT"
   },
   "source": [
    "# Continuing from 'Final Code Part 2', Further Analysis and Actions Below"
   ]
  },
  {
   "cell_type": "markdown",
   "id": "gfjwgsQ6W7Bp",
   "metadata": {
    "id": "gfjwgsQ6W7Bp"
   },
   "source": [
    "#............"
   ]
  },
  {
   "cell_type": "markdown",
   "id": "be35acd2",
   "metadata": {
    "id": "be35acd2"
   },
   "source": [
    "## Feature Engineering"
   ]
  },
  {
   "cell_type": "markdown",
   "id": "75e859a8",
   "metadata": {
    "id": "75e859a8"
   },
   "source": [
    "### Step 1: Tokenization"
   ]
  },
  {
   "cell_type": "code",
   "execution_count": null,
   "id": "6aa5c55f",
   "metadata": {
    "colab": {
     "base_uri": "https://localhost:8080/"
    },
    "executionInfo": {
     "elapsed": 7799,
     "status": "ok",
     "timestamp": 1709757227474,
     "user": {
      "displayName": "Beth",
      "userId": "02722972246676483817"
     },
     "user_tz": 420
    },
    "id": "6aa5c55f",
    "outputId": "f0219dc0-f560-4707-d84b-76d791de6f1f"
   },
   "outputs": [
    {
     "name": "stderr",
     "output_type": "stream",
     "text": [
      "[nltk_data] Downloading package punkt to /root/nltk_data...\n",
      "[nltk_data]   Unzipping tokenizers/punkt.zip.\n",
      "<ipython-input-30-05b14f666560>:12: SettingWithCopyWarning: \n",
      "A value is trying to be set on a copy of a slice from a DataFrame.\n",
      "Try using .loc[row_indexer,col_indexer] = value instead\n",
      "\n",
      "See the caveats in the documentation: https://pandas.pydata.org/pandas-docs/stable/user_guide/indexing.html#returning-a-view-versus-a-copy\n",
      "  df_emails_cleaned['tokenized_body'] = df_emails_cleaned['filtered_body'].apply(tokenize_sentence)\n"
     ]
    }
   ],
   "source": [
    "# Import necessary libraries for tokenization\n",
    "import nltk\n",
    "nltk.download('punkt')\n",
    "from nltk.tokenize import word_tokenize\n",
    "\n",
    "# Function to tokenize a sentence\n",
    "def tokenize_sentence(sentence):\n",
    "    tokens = word_tokenize(str(sentence))  # Tokenize the sentence into words\n",
    "    return tokens\n",
    "\n",
    "# Apply tokenization to the 'filtered_body' column\n",
    "df_emails_cleaned['tokenized_body'] = df_emails_cleaned['filtered_body'].apply(tokenize_sentence)\n",
    "\n",
    "\n"
   ]
  },
  {
   "cell_type": "markdown",
   "id": "0b04751e",
   "metadata": {
    "id": "0b04751e"
   },
   "source": [
    "#### Step 2: Adding a special Token"
   ]
  },
  {
   "cell_type": "code",
   "execution_count": null,
   "id": "c1804436",
   "metadata": {
    "colab": {
     "base_uri": "https://localhost:8080/"
    },
    "executionInfo": {
     "elapsed": 266,
     "status": "ok",
     "timestamp": 1709757234105,
     "user": {
      "displayName": "Beth",
      "userId": "02722972246676483817"
     },
     "user_tz": 420
    },
    "id": "c1804436",
    "outputId": "ea9dbb0e-4b70-4817-b715-ff0a1f8e030d"
   },
   "outputs": [
    {
     "name": "stderr",
     "output_type": "stream",
     "text": [
      "<ipython-input-31-bb9511decbfb>:7: SettingWithCopyWarning: \n",
      "A value is trying to be set on a copy of a slice from a DataFrame.\n",
      "Try using .loc[row_indexer,col_indexer] = value instead\n",
      "\n",
      "See the caveats in the documentation: https://pandas.pydata.org/pandas-docs/stable/user_guide/indexing.html#returning-a-view-versus-a-copy\n",
      "  df_emails_cleaned['body_with_special_tokens'] = df_emails_cleaned['tokenized_body'].apply(add_special_tokens)\n"
     ]
    }
   ],
   "source": [
    "# Function to add special tokens <start> and <end> to a list of tokens\n",
    "def add_special_tokens(tokens):\n",
    "    tokens_with_special_tokens = ['<start>'] + tokens + ['<end>']\n",
    "    return tokens_with_special_tokens\n",
    "\n",
    "# Apply adding special tokens to the 'tokenized_body' column\n",
    "df_emails_cleaned['body_with_special_tokens'] = df_emails_cleaned['tokenized_body'].apply(add_special_tokens)\n"
   ]
  },
  {
   "cell_type": "markdown",
   "id": "75055da2",
   "metadata": {
    "id": "75055da2"
   },
   "source": [
    "#### Step 3: Constructing Sequence Pairs"
   ]
  },
  {
   "cell_type": "code",
   "execution_count": null,
   "id": "f5c7553e",
   "metadata": {
    "colab": {
     "base_uri": "https://localhost:8080/"
    },
    "executionInfo": {
     "elapsed": 1379,
     "status": "ok",
     "timestamp": 1709757244400,
     "user": {
      "displayName": "Beth",
      "userId": "02722972246676483817"
     },
     "user_tz": 420
    },
    "id": "f5c7553e",
    "outputId": "0169f3f9-3651-4e2f-c1ce-642a15f0045d"
   },
   "outputs": [
    {
     "name": "stderr",
     "output_type": "stream",
     "text": [
      "<ipython-input-32-d6c7dc149a70>:11: SettingWithCopyWarning: \n",
      "A value is trying to be set on a copy of a slice from a DataFrame.\n",
      "Try using .loc[row_indexer,col_indexer] = value instead\n",
      "\n",
      "See the caveats in the documentation: https://pandas.pydata.org/pandas-docs/stable/user_guide/indexing.html#returning-a-view-versus-a-copy\n",
      "  df_emails_cleaned['sequence_pairs'] = df_emails_cleaned['body_with_special_tokens'].apply(create_sequence_pairs)\n"
     ]
    }
   ],
   "source": [
    "# Function to split a list of tokens into pairs of input and output sequences\n",
    "def create_sequence_pairs(tokens):\n",
    "    sequence_pairs = []\n",
    "    for i in range(1, len(tokens)):\n",
    "        input_sequence = tokens[:i]  # Input sequence from start to current token\n",
    "        output_sequence = tokens[i:]  # Output sequence from current token to end\n",
    "        sequence_pairs.append((input_sequence, output_sequence))\n",
    "    return sequence_pairs\n",
    "\n",
    "# Apply sequence pair creation to the 'body_with_special_tokens' column\n",
    "df_emails_cleaned['sequence_pairs'] = df_emails_cleaned['body_with_special_tokens'].apply(create_sequence_pairs)\n"
   ]
  },
  {
   "cell_type": "markdown",
   "id": "c0415926",
   "metadata": {
    "id": "c0415926"
   },
   "source": [
    "Here's a breakdown of the feature engineering steps I performed:\n",
    "\n",
    "Tokenization: I tokenize the sentences in the 'filtered_body' column into lists of tokens (words or subwords). This step converts raw text into a format that can be processed by machine learning algorithms.\n",
    "\n",
    "Adding Special Tokens: I add special tokens <start> and <end> to each list of tokens in the 'tokenized_body' column. These tokens help my model learn the beginning and end of sequences during training.\n",
    "\n",
    "Constructing Sequence Pairs: I create pairs of sequences by splitting each tokenized sentence into multiple parts. Each pair consists of an input sequence and its corresponding output sequence. This step prepares the data for training a sequence-to-sequence model, where the model learns to predict an output sequence given an input sequence.\n",
    "\n",
    "These feature engineering steps are essential for building a sequence-to-sequence model that can effectively learn from text data and generate meaningful outputs."
   ]
  },
  {
   "cell_type": "code",
   "execution_count": null,
   "id": "34954cd7",
   "metadata": {
    "colab": {
     "base_uri": "https://localhost:8080/"
    },
    "executionInfo": {
     "elapsed": 223,
     "status": "ok",
     "timestamp": 1709757251524,
     "user": {
      "displayName": "Beth",
      "userId": "02722972246676483817"
     },
     "user_tz": 420
    },
    "id": "34954cd7",
    "outputId": "3889fd7b-c6c6-4b2e-f415-3339b305b4dc"
   },
   "outputs": [
    {
     "name": "stdout",
     "output_type": "stream",
     "text": [
      "Total number of sequence pairs: 902983\n"
     ]
    }
   ],
   "source": [
    "# Count the total number of sequence pairs\n",
    "total_pairs = df_emails_cleaned['sequence_pairs'].apply(len).sum()\n",
    "\n",
    "print(\"Total number of sequence pairs:\", total_pairs)\n"
   ]
  },
  {
   "cell_type": "markdown",
   "id": "mh57NUGHXLor",
   "metadata": {
    "id": "mh57NUGHXLor"
   },
   "source": [
    "#### Loading the Cleaned email ('emails_cleaned') and checking the data"
   ]
  },
  {
   "cell_type": "code",
   "execution_count": null,
   "id": "vYc90qZdYs_U",
   "metadata": {
    "colab": {
     "base_uri": "https://localhost:8080/"
    },
    "executionInfo": {
     "elapsed": 24651,
     "status": "ok",
     "timestamp": 1709755916847,
     "user": {
      "displayName": "Beth",
      "userId": "02722972246676483817"
     },
     "user_tz": 420
    },
    "id": "vYc90qZdYs_U",
    "outputId": "2ace9872-1860-4480-c9c5-b115e60e7176"
   },
   "outputs": [
    {
     "name": "stdout",
     "output_type": "stream",
     "text": [
      "Mounted at /content/drive\n",
      "                       file  \\\n",
      "0     allen-p/_sent_mail/1.   \n",
      "1   allen-p/_sent_mail/100.   \n",
      "2  allen-p/_sent_mail/1001.   \n",
      "3  allen-p/_sent_mail/1002.   \n",
      "4  allen-p/_sent_mail/1004.   \n",
      "\n",
      "                                             message  \\\n",
      "0  Message-ID: <18782981.1075855378110.JavaMail.e...   \n",
      "1  Message-ID: <24216240.1075855687451.JavaMail.e...   \n",
      "2  Message-ID: <30922949.1075863688243.JavaMail.e...   \n",
      "3  Message-ID: <30965995.1075863688265.JavaMail.e...   \n",
      "4  Message-ID: <17189699.1075863688308.JavaMail.e...   \n",
      "\n",
      "                                                body  \\\n",
      "0                          Here is our forecast\\n\\n    \n",
      "1                     test successful.  way to go!!!   \n",
      "2                Let's shoot for Tuesday at 11:45.     \n",
      "3  Greg,\\n\\n How about either next Tuesday or Thu...   \n",
      "4                   any morning between 10 and 11:30   \n",
      "\n",
      "                                        cleaned_body  cleaned_message_length  \\\n",
      "0                               here is our forecast                      20   \n",
      "1                          test successful way to go                      25   \n",
      "2                     lets shoot for tuesday at 1145                      30   \n",
      "3  greg how about either next tuesday or thursday...                      54   \n",
      "4                    any morning between 10 and 1130                      31   \n",
      "\n",
      "                                      processed_body  \\\n",
      "0                           ['here is our forecast']   \n",
      "1                      ['test successful way to go']   \n",
      "2                 ['lets shoot for tuesday at 1145']   \n",
      "3  ['greg how about either next tuesday or thursd...   \n",
      "4                ['any morning between 10 and 1130']   \n",
      "\n",
      "                                       filtered_body  \\\n",
      "0                           ['here is our forecast']   \n",
      "1                      ['test successful way to go']   \n",
      "2                 ['lets shoot for tuesday at 1145']   \n",
      "3  ['greg how about either next tuesday or thursd...   \n",
      "4                ['any morning between 10 and 1130']   \n",
      "\n",
      "                                      tokenized_body  \\\n",
      "0  ['[', \"'here\", 'is', 'our', 'forecast', \"'\", ']']   \n",
      "1  ['[', \"'test\", 'successful', 'way', 'to', 'go'...   \n",
      "2  ['[', \"'lets\", 'shoot', 'for', 'tuesday', 'at'...   \n",
      "3  ['[', \"'greg\", 'how', 'about', 'either', 'next...   \n",
      "4  ['[', \"'any\", 'morning', 'between', '10', 'and...   \n",
      "\n",
      "                            body_with_special_tokens  \\\n",
      "0  ['<start>', '[', \"'here\", 'is', 'our', 'foreca...   \n",
      "1  ['<start>', '[', \"'test\", 'successful', 'way',...   \n",
      "2  ['<start>', '[', \"'lets\", 'shoot', 'for', 'tue...   \n",
      "3  ['<start>', '[', \"'greg\", 'how', 'about', 'eit...   \n",
      "4  ['<start>', '[', \"'any\", 'morning', 'between',...   \n",
      "\n",
      "                                      sequence_pairs  \n",
      "0  [(['<start>'], ['[', \"'here\", 'is', 'our', 'fo...  \n",
      "1  [(['<start>'], ['[', \"'test\", 'successful', 'w...  \n",
      "2  [(['<start>'], ['[', \"'lets\", 'shoot', 'for', ...  \n",
      "3  [(['<start>'], ['[', \"'greg\", 'how', 'about', ...  \n",
      "4  [(['<start>'], ['[', \"'any\", 'morning', 'betwe...  \n"
     ]
    }
   ],
   "source": [
    "from google.colab import drive\n",
    "import pandas as pd\n",
    "\n",
    "# Mount Google Drive\n",
    "drive.mount('/content/drive')\n",
    "\n",
    "# Full path to the CSV file\n",
    "data_path = '/content/drive/My Drive/emails_cleaned.csv'\n",
    "\n",
    "# Load the CSV file\n",
    "df_emails_cleaned = pd.read_csv(data_path)\n",
    "\n",
    "# Display the first few rows to confirm it's loaded correctly\n",
    "print(df_emails_cleaned.head())"
   ]
  },
  {
   "cell_type": "markdown",
   "id": "90258924",
   "metadata": {
    "id": "90258924"
   },
   "source": [
    "## Prepare Data for the Model\n",
    "After preprocessing and cleaning your data, I'll need to convert the texts into sequences that the model can learn from. This involves tokenization and creating input-target pairs.\n",
    "\n",
    "#### Tokenization and Sequences"
   ]
  },
  {
   "cell_type": "code",
   "execution_count": null,
   "id": "9af9dd70",
   "metadata": {
    "colab": {
     "base_uri": "https://localhost:8080/"
    },
    "executionInfo": {
     "elapsed": 22616,
     "status": "ok",
     "timestamp": 1709757306631,
     "user": {
      "displayName": "Beth",
      "userId": "02722972246676483817"
     },
     "user_tz": 420
    },
    "id": "9af9dd70",
    "outputId": "2682fb5e-3051-4c78-cc31-b82f519b641b"
   },
   "outputs": [
    {
     "name": "stdout",
     "output_type": "stream",
     "text": [
      "Shape of input sequences: (902983, 31)\n",
      "Shape of output sequences: (902983, 31)\n"
     ]
    }
   ],
   "source": [
    "from keras.preprocessing.text import Tokenizer\n",
    "from keras.preprocessing.sequence import pad_sequences\n",
    "import numpy as np\n",
    "\n",
    "# Extract sequence pairs from the DataFrame\n",
    "sequence_pairs = df_emails_cleaned['sequence_pairs'].tolist()\n",
    "\n",
    "# Flatten sequence pairs to a single list\n",
    "flattened_sequence_pairs = [pair for sublist in sequence_pairs for pair in sublist]\n",
    "\n",
    "# Extract input and output sequences from the flattened list of pairs\n",
    "input_sequences, output_sequences = zip(*flattened_sequence_pairs)\n",
    "\n",
    "# Initialize the tokenizer with a vocabulary size of 10k\n",
    "tokenizer = Tokenizer(num_words=10000, oov_token='<OOV>')\n",
    "\n",
    "# Fit tokenizer on input and output sequences\n",
    "tokenizer.fit_on_texts(input_sequences)\n",
    "tokenizer.fit_on_texts(output_sequences)\n",
    "\n",
    "# Convert text sequences to integer sequences\n",
    "input_sequences_int = tokenizer.texts_to_sequences(input_sequences)\n",
    "output_sequences_int = tokenizer.texts_to_sequences(output_sequences)\n",
    "\n",
    "# Pad sequences to have the same length\n",
    "max_sequence_length = max([len(seq) for seq in input_sequences_int + output_sequences_int])\n",
    "input_sequences_padded = pad_sequences(input_sequences_int, maxlen=max_sequence_length, padding='post')\n",
    "output_sequences_padded = pad_sequences(output_sequences_int, maxlen=max_sequence_length, padding='post')\n",
    "\n",
    "# Shuffle the sequences\n",
    "indices = np.arange(len(input_sequences_padded))\n",
    "np.random.shuffle(indices)\n",
    "input_sequences_padded_shuffled = input_sequences_padded[indices]\n",
    "output_sequences_padded_shuffled = output_sequences_padded[indices]\n",
    "\n",
    "# Verify the shape of the padded sequences\n",
    "print(\"Shape of input sequences:\", input_sequences_padded_shuffled.shape)\n",
    "print(\"Shape of output sequences:\", output_sequences_padded_shuffled.shape)\n"
   ]
  },
  {
   "cell_type": "markdown",
   "id": "b424c5f0",
   "metadata": {
    "id": "b424c5f0"
   },
   "source": [
    "Explanation of the steps I did:\n",
    "\n",
    "- I extract the sequence pairs from the DataFrame and flatten them into a single list.\n",
    "- I separate input and output sequences from the flattened list of pairs.\n",
    "- I initialize the Keras Tokenizer with a vocabulary size of 10k and fit it on both input and output sequences.\n",
    "- I convert the text sequences to integer sequences using the tokenizer.\n",
    "- I pad the sequences to have the same length using the maximum sequence length found in the data.\n",
    "- I shuffle the sequences using numpy.\n",
    "- Finally, I print out the shape of the padded sequences to verify their dimensions.\n",
    "This process prepares the tokenized, padded, and shuffled sequences for training the neural model."
   ]
  },
  {
   "cell_type": "markdown",
   "id": "a924c9a5",
   "metadata": {
    "id": "a924c9a5"
   },
   "source": [
    "## My Sequence to Sequence Model Architecture"
   ]
  },
  {
   "cell_type": "code",
   "execution_count": null,
   "id": "f5cb343c",
   "metadata": {
    "colab": {
     "base_uri": "https://localhost:8080/"
    },
    "executionInfo": {
     "elapsed": 2691,
     "status": "ok",
     "timestamp": 1709757322121,
     "user": {
      "displayName": "Beth",
      "userId": "02722972246676483817"
     },
     "user_tz": 420
    },
    "id": "f5cb343c",
    "outputId": "b9398c4e-18c9-42fd-a347-0c3217ad61b4"
   },
   "outputs": [
    {
     "name": "stdout",
     "output_type": "stream",
     "text": [
      "Model: \"model\"\n",
      "__________________________________________________________________________________________________\n",
      " Layer (type)                Output Shape                 Param #   Connected to                  \n",
      "==================================================================================================\n",
      " input_1 (InputLayer)        [(None, 31)]                 0         []                            \n",
      "                                                                                                  \n",
      " input_2 (InputLayer)        [(None, 31)]                 0         []                            \n",
      "                                                                                                  \n",
      " embedding (Embedding)       (None, 31, 256)              8398336   ['input_1[0][0]']             \n",
      "                                                                                                  \n",
      " embedding_1 (Embedding)     (None, 31, 256)              8398336   ['input_2[0][0]']             \n",
      "                                                                                                  \n",
      " lstm (LSTM)                 [(None, 256),                525312    ['embedding[0][0]']           \n",
      "                              (None, 256),                                                        \n",
      "                              (None, 256)]                                                        \n",
      "                                                                                                  \n",
      " lstm_1 (LSTM)               [(None, 31, 256),            525312    ['embedding_1[0][0]',         \n",
      "                              (None, 256),                           'lstm[0][1]',                \n",
      "                              (None, 256)]                           'lstm[0][2]']                \n",
      "                                                                                                  \n",
      " dense (Dense)               (None, 31, 32806)            8431142   ['lstm_1[0][0]']              \n",
      "                                                                                                  \n",
      "==================================================================================================\n",
      "Total params: 26278438 (100.24 MB)\n",
      "Trainable params: 26278438 (100.24 MB)\n",
      "Non-trainable params: 0 (0.00 Byte)\n",
      "__________________________________________________________________________________________________\n",
      "None\n"
     ]
    }
   ],
   "source": [
    "from keras.models import Model\n",
    "from keras.layers import Input, LSTM, Dense, Embedding\n",
    "\n",
    "# Define the input sequence shape\n",
    "input_shape = input_sequences_padded_shuffled.shape[1]\n",
    "\n",
    "# Define the vocabulary size\n",
    "vocab_size = len(tokenizer.word_index) + 1  # Add 1 for the zero-padding token\n",
    "\n",
    "# Define the dimensionality of the embedding space\n",
    "embedding_dim = 256\n",
    "\n",
    "# Define the encoder\n",
    "encoder_inputs = Input(shape=(input_shape,))\n",
    "encoder_embedding = Embedding(input_dim=vocab_size, output_dim=embedding_dim)(encoder_inputs)\n",
    "encoder_lstm = LSTM(256, return_state=True)\n",
    "encoder_outputs, state_h, state_c = encoder_lstm(encoder_embedding)\n",
    "encoder_states = [state_h, state_c]\n",
    "\n",
    "# Define the decoder\n",
    "decoder_inputs = Input(shape=(input_shape,))\n",
    "decoder_embedding = Embedding(input_dim=vocab_size, output_dim=embedding_dim)(decoder_inputs)\n",
    "decoder_lstm = LSTM(256, return_sequences=True, return_state=True)\n",
    "decoder_outputs, _, _ = decoder_lstm(decoder_embedding, initial_state=encoder_states)\n",
    "decoder_dense = Dense(vocab_size, activation='softmax')\n",
    "decoder_outputs = decoder_dense(decoder_outputs)\n",
    "\n",
    "# Define the model\n",
    "model = Model([encoder_inputs, decoder_inputs], decoder_outputs)\n",
    "\n",
    "# Compile the model\n",
    "model.compile(optimizer='rmsprop', loss='sparse_categorical_crossentropy')\n",
    "\n",
    "# Print the model summary\n",
    "print(model.summary())\n",
    "\n"
   ]
  },
  {
   "cell_type": "markdown",
   "id": "2vI38_jYXkCq",
   "metadata": {
    "id": "2vI38_jYXkCq"
   },
   "source": [
    "What I did on the above is:\n",
    "\n",
    "**Input Sequence Shape:** The shape of the input sequences, which is determined by the length of the input sequences after padding.\n",
    "\n",
    "**Vocabulary Size:** The size of the vocabulary, which is determined by the number of unique words in the tokenized text plus one for zero-padding.\n",
    "\n",
    "**Embedding Dimension:** The dimensionality of the embedding space for word representations.\n",
    "\n",
    "**Encoder:**\n",
    "\n",
    "Accepts input sequences and processes them using an embedding layer followed by an LSTM layer.\n",
    "The LSTM layer returns the final hidden state and cell state, representing the encoder's output.\n",
    "\n",
    "**Decoder:**\n",
    "\n",
    "Accepts target sequences and processes them using an embedding layer followed by an LSTM layer.\n",
    "The LSTM layer is configured to return sequences, allowing for sequence generation.\n",
    "The decoder's initial state is set to the final hidden and cell states of the encoder.\n",
    "\n",
    "**Dense Layer:** I used dense layer with softmax activation is to output the predicted probabilities for each word in the vocabulary.\n",
    "\n",
    "**Model Compilation:** The model is compiled using the RMSprop optimizer and sparse categorical cross-entropy loss, suitable for multi-class classification problems.\n",
    "\n",
    "**Model Summary:** The summary of the model architecture, including layer types, output shapes, and total parameters is printed."
   ]
  },
  {
   "cell_type": "markdown",
   "id": "1a2454b4",
   "metadata": {
    "id": "1a2454b4"
   },
   "source": [
    "## Training the Model"
   ]
  },
  {
   "cell_type": "code",
   "execution_count": null,
   "id": "63d11852",
   "metadata": {
    "colab": {
     "base_uri": "https://localhost:8080/"
    },
    "executionInfo": {
     "elapsed": 2715317,
     "status": "ok",
     "timestamp": 1709760040951,
     "user": {
      "displayName": "Beth",
      "userId": "02722972246676483817"
     },
     "user_tz": 420
    },
    "id": "63d11852",
    "outputId": "b7291eda-3a3b-4f04-9b7a-5d046482ffb6"
   },
   "outputs": [
    {
     "name": "stdout",
     "output_type": "stream",
     "text": [
      "Epoch 1/10\n",
      "11288/11288 [==============================] - 290s 25ms/step - loss: 0.7624 - val_loss: 0.4815\n",
      "Epoch 2/10\n",
      "11288/11288 [==============================] - 270s 24ms/step - loss: 0.3966 - val_loss: 0.3296\n",
      "Epoch 3/10\n",
      "11288/11288 [==============================] - 270s 24ms/step - loss: 0.2867 - val_loss: 0.2476\n",
      "Epoch 4/10\n",
      "11288/11288 [==============================] - 269s 24ms/step - loss: 0.2172 - val_loss: 0.1893\n",
      "Epoch 5/10\n",
      "11288/11288 [==============================] - 269s 24ms/step - loss: 0.1655 - val_loss: 0.1455\n",
      "Epoch 6/10\n",
      "11288/11288 [==============================] - 270s 24ms/step - loss: 0.1270 - val_loss: 0.1127\n",
      "Epoch 7/10\n",
      "11288/11288 [==============================] - 269s 24ms/step - loss: 0.0973 - val_loss: 0.0861\n",
      "Epoch 8/10\n",
      "11288/11288 [==============================] - 270s 24ms/step - loss: 0.0739 - val_loss: 0.0659\n",
      "Epoch 9/10\n",
      "11288/11288 [==============================] - 269s 24ms/step - loss: 0.0563 - val_loss: 0.0509\n",
      "Epoch 10/10\n",
      "11288/11288 [==============================] - 268s 24ms/step - loss: 0.0432 - val_loss: 0.0398\n"
     ]
    },
    {
     "data": {
      "text/plain": [
       "<keras.src.callbacks.History at 0x7aa3f814f550>"
      ]
     },
     "execution_count": 36,
     "metadata": {},
     "output_type": "execute_result"
    }
   ],
   "source": [
    "\n",
    "# Train the model\n",
    "model.fit([input_sequences_padded_shuffled, output_sequences_padded_shuffled],\n",
    "          output_sequences_padded_shuffled,\n",
    "          batch_size=64,\n",
    "          epochs=10,\n",
    "          validation_split=0.2)\n",
    "\n"
   ]
  },
  {
   "cell_type": "markdown",
   "id": "LTQkokHTX2Gp",
   "metadata": {
    "id": "LTQkokHTX2Gp"
   },
   "source": [
    "I trained the model using the `fit` function, which takes input sequences and their corresponding output sequences as training data, specifying a batch size of 64 and training for 10 epochs. Also, a validation split of 20% was used to monitor the model's performance on unseen data during training.\n",
    "\n",
    "During training, the model's loss progressively decreased across epochs, indicating improvement in its ability to predict output sequences given input sequences. The validation loss also decreased, suggesting that the model generalizes well to unseen data. This trend suggests that the model is effectively learning the underlying patterns in the data and improving its performance over time."
   ]
  },
  {
   "cell_type": "markdown",
   "id": "9aBvc6-VX8vN",
   "metadata": {
    "id": "9aBvc6-VX8vN"
   },
   "source": [
    "## Model Evaluation\n",
    "I use plot to visualize the model's learning progress and identifying any potential issues such as overfitting or underfitting."
   ]
  },
  {
   "cell_type": "code",
   "execution_count": null,
   "id": "0cd3f623",
   "metadata": {
    "colab": {
     "base_uri": "https://localhost:8080/",
     "height": 472
    },
    "executionInfo": {
     "elapsed": 770,
     "status": "ok",
     "timestamp": 1709760617696,
     "user": {
      "displayName": "Beth",
      "userId": "02722972246676483817"
     },
     "user_tz": 420
    },
    "id": "0cd3f623",
    "outputId": "b724952b-19d2-4a30-94fa-3991812aad11"
   },
   "outputs": [
    {
     "data": {
      "image/png": "[encoded data removed]",
      "text/plain": [
       "<Figure size 640x480 with 1 Axes>"
      ]
     },
     "metadata": {},
     "output_type": "display_data"
    }
   ],
   "source": [
    "\n",
    "import matplotlib.pyplot as plt\n",
    "\n",
    "# Get the training and validation loss from the model history\n",
    "training_loss = model.history.history['loss']\n",
    "validation_loss = model.history.history['val_loss']\n",
    "\n",
    "# Plot the training and validation loss\n",
    "plt.plot(training_loss, label='Training Loss')\n",
    "plt.plot(validation_loss, label='Validation Loss')\n",
    "plt.xlabel('Epochs')\n",
    "plt.ylabel('Loss')\n",
    "plt.title('Training and Validation Loss')\n",
    "plt.legend()\n",
    "plt.show()\n",
    "\n"
   ]
  },
  {
   "cell_type": "markdown",
   "id": "8qehXHViYIPL",
   "metadata": {
    "id": "8qehXHViYIPL"
   },
   "source": [
    "The graph displays the training and validation loss, both showing a consistent downward trend, indicating effective learning without overfitting!"
   ]
  },
  {
   "cell_type": "markdown",
   "id": "3qcOT8O_YKxc",
   "metadata": {
    "id": "3qcOT8O_YKxc"
   },
   "source": [
    "#### Saving my Model"
   ]
  },
  {
   "cell_type": "code",
   "execution_count": null,
   "id": "40a5e0dc",
   "metadata": {
    "colab": {
     "base_uri": "https://localhost:8080/"
    },
    "executionInfo": {
     "elapsed": 877,
     "status": "ok",
     "timestamp": 1709760284628,
     "user": {
      "displayName": "Beth",
      "userId": "02722972246676483817"
     },
     "user_tz": 420
    },
    "id": "40a5e0dc",
    "outputId": "f712b23c-222f-41b2-9d52-2836ea61100e"
   },
   "outputs": [
    {
     "name": "stderr",
     "output_type": "stream",
     "text": [
      "/usr/local/lib/python3.10/dist-packages/keras/src/engine/training.py:3103: UserWarning: You are saving your model as an HDF5 file via `model.save()`. This file format is considered legacy. We recommend using instead the native Keras format, e.g. `model.save('my_model.keras')`.\n",
      "  saving_api.save_model(\n"
     ]
    }
   ],
   "source": [
    "# Define the path where you want to save the model\n",
    "model_path = '/content/drive/My Drive/trained_model.h5'\n",
    "\n",
    "# Save the trained model to the specified path\n",
    "model.save(model_path)\n"
   ]
  },
  {
   "cell_type": "markdown",
   "id": "hZR3CnzuYUBC",
   "metadata": {
    "id": "hZR3CnzuYUBC"
   },
   "source": [
    "#### More Evaluation"
   ]
  },
  {
   "cell_type": "code",
   "execution_count": null,
   "id": "Yooovwdos0Zd",
   "metadata": {
    "colab": {
     "base_uri": "https://localhost:8080/"
    },
    "executionInfo": {
     "elapsed": 218279,
     "status": "ok",
     "timestamp": 1709761285751,
     "user": {
      "displayName": "Beth",
      "userId": "02722972246676483817"
     },
     "user_tz": 420
    },
    "id": "Yooovwdos0Zd",
    "outputId": "e6988b65-1652-4820-fc33-a00575bd5290"
   },
   "outputs": [
    {
     "name": "stdout",
     "output_type": "stream",
     "text": [
      "28219/28219 [==============================] - 217s 8ms/step - loss: 0.0379\n",
      "Validation Loss: 0.03788694366812706\n"
     ]
    }
   ],
   "source": [
    "\n",
    "# Evaluate the model on the validation data\n",
    "val_loss = model.evaluate([input_sequences_padded_shuffled, output_sequences_padded_shuffled], output_sequences_padded_shuffled)\n",
    "print('Validation Loss:', val_loss)\n"
   ]
  },
  {
   "cell_type": "markdown",
   "id": "8_1xJmJRt8ax",
   "metadata": {
    "id": "8_1xJmJRt8ax"
   },
   "source": [
    "It seems like my validation loss is 0.0379. This value indicates how well my model is performing on the validation data. A lower validation loss generally indicates better performance. Since my loss is quite low, it suggests that the model is performing well on the validation set."
   ]
  },
  {
   "cell_type": "code",
   "execution_count": null,
   "id": "SsBXSm-b0WLX",
   "metadata": {
    "colab": {
     "base_uri": "https://localhost:8080/"
    },
    "executionInfo": {
     "elapsed": 790,
     "status": "ok",
     "timestamp": 1709763035100,
     "user": {
      "displayName": "Beth",
      "userId": "02722972246676483817"
     },
     "user_tz": 420
    },
    "id": "SsBXSm-b0WLX",
    "outputId": "e222e46b-25b4-492d-c625-9ce10c321f21"
   },
   "outputs": [
    {
     "name": "stdout",
     "output_type": "stream",
     "text": [
      "1/1 [==============================] - 0s 22ms/step\n",
      "Input: [3 0 0 0 0 0 0 0 0 0 0 0 0 0 0 0 0 0 0 0 0 0 0 0 0 0 0 0 0 0 0]\n",
      "Expected Output: [   4    1 4283   16 8474  627 2288    2    5    6    0    0    0    0\n",
      "    0    0    0    0    0    0    0    0    0    0    0    0    0    0\n",
      "    0    0    0]\n",
      "Generated Output: [4, 1, 4525, 16, 3020, 627, 1684, 2, 5, 6, 0, 0, 0, 0, 0, 0, 0, 0, 0, 0, 0, 0, 0, 0, 0, 0, 0, 0, 0, 0, 0]\n",
      "\n",
      "Input: [   3    4  989  535   20    7 4673    8 5317    7  752    1   21 1817\n",
      "   84    0    0    0    0    0    0    0    0    0    0    0    0    0\n",
      "    0    0    0]\n",
      "Expected Output: [642   2   5   6   0   0   0   0   0   0   0   0   0   0   0   0   0   0\n",
      "   0   0   0   0   0   0   0   0   0   0   0   0   0]\n",
      "Generated Output: [642, 2, 5, 6, 0, 0, 0, 0, 0, 0, 0, 0, 0, 0, 0, 0, 0, 0, 0, 0, 0, 0, 0, 0, 0, 0, 0, 0, 0, 0, 0]\n",
      "\n",
      "Input: [3 4 1 2 0 0 0 0 0 0 0 0 0 0 0 0 0 0 0 0 0 0 0 0 0 0 0 0 0 0 0]\n",
      "Expected Output: [5 6 0 0 0 0 0 0 0 0 0 0 0 0 0 0 0 0 0 0 0 0 0 0 0 0 0 0 0 0 0]\n",
      "Generated Output: [5, 6, 0, 0, 0, 0, 0, 0, 0, 0, 0, 0, 0, 0, 0, 0, 0, 0, 0, 0, 0, 0, 0, 0, 0, 0, 0, 0, 0, 0, 0]\n",
      "\n",
      "Input: [   3    4    2   10  133 7264    0    0    0    0    0    0    0    0\n",
      "    0    0    0    0    0    0    0    0    0    0    0    0    0    0\n",
      "    0    0    0]\n",
      "Expected Output: [ 9 25  1 25  9  2  5  6  0  0  0  0  0  0  0  0  0  0  0  0  0  0  0  0\n",
      "  0  0  0  0  0  0  0]\n",
      "Generated Output: [9, 25, 1, 25, 9, 2, 5, 6, 0, 0, 0, 0, 0, 0, 0, 0, 0, 0, 0, 0, 0, 0, 0, 0, 0, 0, 0, 0, 0, 0, 0]\n",
      "\n",
      "Input: [   3    4  106   73 3184   51   99  346   51   71   85  109    0    0\n",
      "    0    0    0    0    0    0    0    0    0    0    0    0    0    0\n",
      "    0    0    0]\n",
      "Expected Output: [108 112 104   2   5   6   0   0   0   0   0   0   0   0   0   0   0   0\n",
      "   0   0   0   0   0   0   0   0   0   0   0   0   0]\n",
      "Generated Output: [108, 112, 104, 2, 5, 6, 0, 0, 0, 0, 0, 0, 0, 0, 0, 0, 0, 0, 0, 0, 0, 0, 0, 0, 0, 0, 0, 0, 0, 0, 0]\n",
      "\n",
      "Input: [   3    4 2948   79   12    7  209    0    0    0    0    0    0    0\n",
      "    0    0    0    0    0    0    0    0    0    0    0    0    0    0\n",
      "    0    0    0]\n",
      "Expected Output: [164  14   7 202 105 404 364  19 127  34   7 282 105  17 111   2   5   6\n",
      "   0   0   0   0   0   0   0   0   0   0   0   0   0]\n",
      "Generated Output: [164, 14, 7, 202, 105, 404, 364, 19, 127, 34, 7, 282, 105, 17, 111, 2, 5, 6, 0, 0, 0, 0, 0, 0, 0, 0, 0, 0, 0, 0, 0]\n",
      "\n",
      "Input: [   3    4  878   70   29 3499  284 7239 6285 2461  281 2825   29 3112\n",
      " 1645    0    0    0    0    0    0    0    0    0    0    0    0    0\n",
      "    0    0    0]\n",
      "Expected Output: [2034    2    5    6    0    0    0    0    0    0    0    0    0    0\n",
      "    0    0    0    0    0    0    0    0    0    0    0    0    0    0\n",
      "    0    0    0]\n",
      "Generated Output: [2034, 2, 5, 6, 0, 0, 0, 0, 0, 0, 0, 0, 0, 0, 0, 0, 0, 0, 0, 0, 0, 0, 0, 0, 0, 0, 0, 0, 0, 0, 0]\n",
      "\n",
      "Input: [   3    4  149   12    1   36  808 2793   15    7    0    0    0    0\n",
      "    0    0    0    0    0    0    0    0    0    0    0    0    0    0\n",
      "    0    0    0]\n",
      "Expected Output: [ 13 105 369  12   2   5   6   0   0   0   0   0   0   0   0   0   0   0\n",
      "   0   0   0   0   0   0   0   0   0   0   0   0   0]\n",
      "Generated Output: [13, 105, 369, 12, 2, 5, 6, 0, 0, 0, 0, 0, 0, 0, 0, 0, 0, 0, 0, 0, 0, 0, 0, 0, 0, 0, 0, 0, 0, 0, 0]\n",
      "\n",
      "Input: [   3    4 2023 5748   46  987 5749  130    0    0    0    0    0    0\n",
      "    0    0    0    0    0    0    0    0    0    0    0    0    0    0\n",
      "    0    0    0]\n",
      "Expected Output: [1245  433  284  398  178  457  477  395 5750  116 5751  107 5752 5753\n",
      "    2    5    6    0    0    0    0    0    0    0    0    0    0    0\n",
      "    0    0    0]\n",
      "Generated Output: [1245, 433, 284, 398, 178, 457, 477, 395, 5750, 116, 5751, 107, 5750, 5753, 2, 5, 6, 0, 0, 0, 0, 0, 0, 0, 0, 0, 0, 0, 0, 0, 0]\n",
      "\n",
      "Input: [  3   4 185   0   0   0   0   0   0   0   0   0   0   0   0   0   0   0\n",
      "   0   0   0   0   0   0   0   0   0   0   0   0   0]\n",
      "Expected Output: [  49   50    7    1    1  158   32  812 7477  204  281 3323   30    2\n",
      "    5    6    0    0    0    0    0    0    0    0    0    0    0    0\n",
      "    0    0    0]\n",
      "Generated Output: [49, 50, 7, 1, 1, 158, 32, 812, 18367, 204, 281, 2057, 30, 2, 5, 6, 0, 0, 0, 0, 0, 0, 0, 0, 0, 0, 0, 0, 0, 0, 0]\n",
      "\n"
     ]
    }
   ],
   "source": [
    "import numpy as np\n",
    "\n",
    "# Generate sample outputs using the trained model\n",
    "sample_outputs = model.predict([input_sequences_padded_shuffled[:10], output_sequences_padded_shuffled[:10]])\n",
    "\n",
    "# Convert the output probabilities into actual words by sampling\n",
    "def sample_word(probabilities, temperature=1.0):\n",
    "    probabilities = np.asarray(probabilities).astype('float64')\n",
    "    log_probabilities = np.log(probabilities) / temperature\n",
    "    exp_probabilities = np.exp(log_probabilities)\n",
    "    probabilities = exp_probabilities / np.sum(exp_probabilities)\n",
    "    sampled_index = np.argmax(np.random.multinomial(1, probabilities, 1))\n",
    "    return sampled_index\n",
    "\n",
    "# Print the sample outputs\n",
    "for i, output_probs in enumerate(sample_outputs):\n",
    "    input_seq = input_sequences_padded_shuffled[i]\n",
    "    expected_output_seq = output_sequences_padded_shuffled[i]\n",
    "\n",
    "    # Convert output probabilities to words\n",
    "    generated_output_seq = [sample_word(output_probs[j]) for j in range(len(output_probs))]\n",
    "\n",
    "    # Print the sequences\n",
    "    print(\"Input:\", input_seq)\n",
    "    print(\"Expected Output:\", expected_output_seq)\n",
    "    print(\"Generated Output:\", generated_output_seq)\n",
    "    print()\n"
   ]
  },
  {
   "cell_type": "markdown",
   "id": "n-MSzSDKYkcL",
   "metadata": {
    "id": "n-MSzSDKYkcL"
   },
   "source": [
    "I generated a sample outputs using the trained model for the first 10 input sequences. Each input sequence is fed into the model, and the output probabilities are obtained using the 'predict' function. Then, the output probabilities are converted into actual words by sampling from the probability distribution.\n",
    "\n",
    "For each input sequence, the I got:\n",
    "- The input sequence.\n",
    "- The expected output sequence.\n",
    "- The generated output sequence obtained by sampling from the output probabilities.\n",
    "\n",
    "The generated output sequences represent the model's predictions for each input sequence.\n"
   ]
  },
  {
   "cell_type": "code",
   "execution_count": null,
   "id": "SNwlUSc_5GII",
   "metadata": {
    "colab": {
     "base_uri": "https://localhost:8080/"
    },
    "executionInfo": {
     "elapsed": 757,
     "status": "ok",
     "timestamp": 1709764277371,
     "user": {
      "displayName": "Beth",
      "userId": "02722972246676483817"
     },
     "user_tz": 420
    },
    "id": "SNwlUSc_5GII",
    "outputId": "a93f630a-4808-4901-8e74-29711ebba311"
   },
   "outputs": [
    {
     "name": "stdout",
     "output_type": "stream",
     "text": [
      "1/1 [==============================] - 0s 27ms/step\n",
      "Input: [3 0 0 0 0 0 0 0 0 0 0 0 0 0 0 0 0 0 0 0 0 0 0 0 0 0 0 0 0 0 0]\n",
      "Expected Output: [   4    1 4283   16 8474  627 2288    2    5    6    0    0    0    0\n",
      "    0    0    0    0    0    0    0    0    0    0    0    0    0    0\n",
      "    0    0    0]\n",
      "Generated Output: [   4    1 7505   16 6705  627 2288    2    5    6    0    0    0    0\n",
      "    0    0    0    0    0    0    0    0    0    0    0    0    0    0\n",
      "    0    0    0]\n",
      "\n",
      "Input: [   3    4  989  535   20    7 4673    8 5317    7  752    1   21 1817\n",
      "   84    0    0    0    0    0    0    0    0    0    0    0    0    0\n",
      "    0    0    0]\n",
      "Expected Output: [642   2   5   6   0   0   0   0   0   0   0   0   0   0   0   0   0   0\n",
      "   0   0   0   0   0   0   0   0   0   0   0   0   0]\n",
      "Generated Output: [642   2   5   6   0   0   0   0   0   0   0   0   0   0   0   0   0   0\n",
      "   0   0   0   0   0   0   0   0   0   0   0   0   0]\n",
      "\n",
      "Input: [3 4 1 2 0 0 0 0 0 0 0 0 0 0 0 0 0 0 0 0 0 0 0 0 0 0 0 0 0 0 0]\n",
      "Expected Output: [5 6 0 0 0 0 0 0 0 0 0 0 0 0 0 0 0 0 0 0 0 0 0 0 0 0 0 0 0 0 0]\n",
      "Generated Output: [5 6 0 0 0 0 0 0 0 0 0 0 0 0 0 0 0 0 0 0 0 0 0 0 0 0 0 0 0 0 0]\n",
      "\n",
      "Input: [   3    4    2   10  133 7264    0    0    0    0    0    0    0    0\n",
      "    0    0    0    0    0    0    0    0    0    0    0    0    0    0\n",
      "    0    0    0]\n",
      "Expected Output: [ 9 25  1 25  9  2  5  6  0  0  0  0  0  0  0  0  0  0  0  0  0  0  0  0\n",
      "  0  0  0  0  0  0  0]\n",
      "Generated Output: [ 9 25  1 25  9  2  5  6  0  0  0  0  0  0  0  0  0  0  0  0  0  0  0  0\n",
      "  0  0  0  0  0  0  0]\n",
      "\n",
      "Input: [   3    4  106   73 3184   51   99  346   51   71   85  109    0    0\n",
      "    0    0    0    0    0    0    0    0    0    0    0    0    0    0\n",
      "    0    0    0]\n",
      "Expected Output: [108 112 104   2   5   6   0   0   0   0   0   0   0   0   0   0   0   0\n",
      "   0   0   0   0   0   0   0   0   0   0   0   0   0]\n",
      "Generated Output: [108 112 104   2   5   6   0   0   0   0   0   0   0   0   0   0   0   0\n",
      "   0   0   0   0   0   0   0   0   0   0   0   0   0]\n",
      "\n",
      "Input: [   3    4 2948   79   12    7  209    0    0    0    0    0    0    0\n",
      "    0    0    0    0    0    0    0    0    0    0    0    0    0    0\n",
      "    0    0    0]\n",
      "Expected Output: [164  14   7 202 105 404 364  19 127  34   7 282 105  17 111   2   5   6\n",
      "   0   0   0   0   0   0   0   0   0   0   0   0   0]\n",
      "Generated Output: [164  14   7 202 105 404 364  19 127  34   7 282 105  17 111   2   5   6\n",
      "   0   0   0   0   0   0   0   0   0   0   0   0   0]\n",
      "\n",
      "Input: [   3    4  878   70   29 3499  284 7239 6285 2461  281 2825   29 3112\n",
      " 1645    0    0    0    0    0    0    0    0    0    0    0    0    0\n",
      "    0    0    0]\n",
      "Expected Output: [2034    2    5    6    0    0    0    0    0    0    0    0    0    0\n",
      "    0    0    0    0    0    0    0    0    0    0    0    0    0    0\n",
      "    0    0    0]\n",
      "Generated Output: [2034    2    5    6    0    0    0    0    0    0    0    0    0    0\n",
      "    0    0    0    0    0    0    0    0    0    0    0    0    0    0\n",
      "    0    0    0]\n",
      "\n",
      "Input: [   3    4  149   12    1   36  808 2793   15    7    0    0    0    0\n",
      "    0    0    0    0    0    0    0    0    0    0    0    0    0    0\n",
      "    0    0    0]\n",
      "Expected Output: [ 13 105 369  12   2   5   6   0   0   0   0   0   0   0   0   0   0   0\n",
      "   0   0   0   0   0   0   0   0   0   0   0   0   0]\n",
      "Generated Output: [ 13 105 369  12   2   5   6   0   0   0   0   0   0   0   0   0   0   0\n",
      "   0   0   0   0   0   0   0   0   0   0   0   0   0]\n",
      "\n",
      "Input: [   3    4 2023 5748   46  987 5749  130    0    0    0    0    0    0\n",
      "    0    0    0    0    0    0    0    0    0    0    0    0    0    0\n",
      "    0    0    0]\n",
      "Expected Output: [1245  433  284  398  178  457  477  395 5750  116 5751  107 5752 5753\n",
      "    2    5    6    0    0    0    0    0    0    0    0    0    0    0\n",
      "    0    0    0]\n",
      "Generated Output: [1245  433  284  398  178  457  477  395 5750  116 5751  107 7866 5753\n",
      "    2    5    6    0    0    0    0    0    0    0    0    0    0    0\n",
      "    0    0    0]\n",
      "\n",
      "Input: [  3   4 185   0   0   0   0   0   0   0   0   0   0   0   0   0   0   0\n",
      "   0   0   0   0   0   0   0   0   0   0   0   0   0]\n",
      "Expected Output: [  49   50    7    1    1  158   32  812 7477  204  281 3323   30    2\n",
      "    5    6    0    0    0    0    0    0    0    0    0    0    0    0\n",
      "    0    0    0]\n",
      "Generated Output: [  49   50    7    1    1  158   32  812 9718  204  281 1730   30    2\n",
      "    5    6    0    0    0    0    0    0    0    0    0    0    0    0\n",
      "    0    0    0]\n",
      "\n",
      "Sequence Accuracy: 70.00%\n"
     ]
    }
   ],
   "source": [
    "import numpy as np\n",
    "\n",
    "# Generate sample outputs using the trained model\n",
    "sample_outputs = model.predict([input_sequences_padded_shuffled[:10], output_sequences_padded_shuffled[:10]])\n",
    "\n",
    "# Convert the output probabilities\n",
    "def sample_word(probabilities, temperature=1.0):\n",
    "    probabilities = np.asarray(probabilities).astype('float64')\n",
    "    log_probabilities = np.log(probabilities) / temperature\n",
    "    exp_probabilities = np.exp(log_probabilities)\n",
    "    probabilities = exp_probabilities / np.sum(exp_probabilities)\n",
    "    sampled_index = np.argmax(np.random.multinomial(1, probabilities, 1))\n",
    "    return sampled_index\n",
    "\n",
    "# Initialize accuracy counter\n",
    "correct_sequences = 0\n",
    "\n",
    "# Print the sample outputs and calculate accuracy\n",
    "for i, output_probs in enumerate(sample_outputs):\n",
    "    input_seq = input_sequences_padded_shuffled[i]\n",
    "    expected_output_seq = output_sequences_padded_shuffled[i]\n",
    "\n",
    "    # Convert output probabilities to words\n",
    "    generated_output_seq = np.array([sample_word(output_probs[j]) for j in range(len(output_probs))])\n",
    "\n",
    "    # Check if generated output matches expected output\n",
    "    if np.array_equal(generated_output_seq, expected_output_seq):\n",
    "        correct_sequences += 1\n",
    "\n",
    "    # Print the sequences\n",
    "    print(\"Input:\", input_seq)\n",
    "    print(\"Expected Output:\", expected_output_seq)\n",
    "    print(\"Generated Output:\", generated_output_seq)\n",
    "    print()\n",
    "\n",
    "# Calculate accuracy\n",
    "accuracy = (correct_sequences / len(sample_outputs)) * 100\n",
    "print(\"Sequence Accuracy: {:.2f}%\".format(accuracy))\n"
   ]
  },
  {
   "cell_type": "markdown",
   "id": "n4DF5zKB5Xw_",
   "metadata": {
    "id": "n4DF5zKB5Xw_"
   },
   "source": [
    "Based on the provided outputs, the sequence accuracy is calculated to be 70.00%. This means that out of the 10 generated sequences, 7 of them match the expected output sequences exactly.\n",
    "\n"
   ]
  },
  {
   "cell_type": "markdown",
   "id": "kF3da-OaY1Z8",
   "metadata": {
    "id": "kF3da-OaY1Z8"
   },
   "source": [
    "#### Evaluation Using Bleu"
   ]
  },
  {
   "cell_type": "code",
   "execution_count": null,
   "id": "Fly3DdMj5hH2",
   "metadata": {
    "colab": {
     "base_uri": "https://localhost:8080/"
    },
    "executionInfo": {
     "elapsed": 1154,
     "status": "ok",
     "timestamp": 1709765224502,
     "user": {
      "displayName": "Beth",
      "userId": "02722972246676483817"
     },
     "user_tz": 420
    },
    "id": "Fly3DdMj5hH2",
    "outputId": "0cac46f4-465d-4e93-ccc3-00b652c1ca32"
   },
   "outputs": [
    {
     "name": "stdout",
     "output_type": "stream",
     "text": [
      "1/1 [==============================] - 0s 23ms/step\n"
     ]
    }
   ],
   "source": [
    "import nltk\n",
    "from nltk.translate.bleu_score import sentence_bleu\n",
    "\n",
    "# Generate sample outputs using the trained model\n",
    "sample_outputs = model.predict([input_sequences_padded_shuffled[:10], output_sequences_padded_shuffled[:10]])\n",
    "\n",
    "# Convert the output sequences and reference sequences into text\n",
    "generated_texts = []\n",
    "reference_texts = []\n",
    "for i, output_probs in enumerate(sample_outputs):\n",
    "    generated_text = ' '.join([str(sample_word(output_probs[j])) for j in range(len(output_probs))])\n",
    "    generated_texts.append(generated_text)\n",
    "    reference_text = ' '.join([str(word) for word in output_sequences_padded_shuffled[i]])\n",
    "    reference_texts.append(reference_text)\n",
    "\n",
    "# Tokenize the generated output sequences and reference sequences\n",
    "tokenized_generated_texts = [text.split() for text in generated_texts]\n",
    "tokenized_reference_texts = [text.split() for text in reference_texts]\n"
   ]
  },
  {
   "cell_type": "code",
   "execution_count": null,
   "id": "Cvq6QqJO5hKn",
   "metadata": {
    "colab": {
     "base_uri": "https://localhost:8080/"
    },
    "executionInfo": {
     "elapsed": 596,
     "status": "ok",
     "timestamp": 1709765252167,
     "user": {
      "displayName": "Beth",
      "userId": "02722972246676483817"
     },
     "user_tz": 420
    },
    "id": "Cvq6QqJO5hKn",
    "outputId": "09565b05-704a-47a4-a190-39ee6d379c71"
   },
   "outputs": [
    {
     "name": "stdout",
     "output_type": "stream",
     "text": [
      "Average BLEU Score: 0.9546837542095412\n"
     ]
    }
   ],
   "source": [
    "# Calculate BLEU score\n",
    "bleu_scores = [sentence_bleu([reference], hypothesis) for reference, hypothesis in zip(tokenized_reference_texts, tokenized_generated_texts)]\n",
    "\n",
    "# Calculate average BLEU score\n",
    "average_bleu_score = sum(bleu_scores) / len(bleu_scores)\n",
    "print(\"Average BLEU Score:\", average_bleu_score)"
   ]
  },
  {
   "cell_type": "markdown",
   "id": "wgQkA2rv9CWY",
   "metadata": {
    "id": "wgQkA2rv9CWY"
   },
   "source": [
    "I calculated the BLEU score for the generated output sequences compared to the reference sequences. I first converted the output sequences and reference sequences into text format and tokenizes them. Then, I computed the BLEU score for each pair of reference and generated sequences using the sentence_bleu function from the NLTK library. Finally, I calculated the average BLEU score across all the sequences.\n",
    "\n",
    "I got a BLEU score of approximately 0.954, which indicates that my model's generated sequences are very close to the reference sequences on average, with 1.0 being a perfect match. This suggests that my model performs very well in terms of similarity to the reference sequences.\n",
    "\n",
    "Therefore, my model seems to be performing excellently in generating sequences that closely resemble the expected outputs.\n",
    "\n",
    "​"
   ]
  },
  {
   "cell_type": "code",
   "execution_count": null,
   "id": "35303f8c",
   "metadata": {
    "id": "35303f8c"
   },
   "outputs": [],
   "source": []
  }
 ],
 "metadata": {
  "accelerator": "GPU",
  "colab": {
   "gpuType": "V100",
   "machine_shape": "hm",
   "provenance": [
    {
     "file_id": "13nynAX2xOUqonmV4RMIFswHpnVHYeeHp",
     "timestamp": 1709955956437
    },
    {
     "file_id": "1dz1DWFOZbfqk7aLfprE72VxC0_6KzSPn",
     "timestamp": 1709765381989
    }
   ]
  },
  "kernelspec": {
   "display_name": "Python 3 (ipykernel)",
   "language": "python",
   "name": "python3"
  },
  "language_info": {
   "codemirror_mode": {
    "name": "ipython",
    "version": 3
   },
   "file_extension": ".py",
   "mimetype": "text/x-python",
   "name": "python",
   "nbconvert_exporter": "python",
   "pygments_lexer": "ipython3",
   "version": "3.11.5"
  }
 },
 "nbformat": 4,
 "nbformat_minor": 5
}
