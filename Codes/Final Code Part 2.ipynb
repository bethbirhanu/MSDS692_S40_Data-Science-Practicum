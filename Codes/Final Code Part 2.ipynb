{
 "cells": [
  {
   "cell_type": "markdown",
   "id": "c7e0673a",
   "metadata": {},
   "source": [
    "# Continuing from 'Final Code Part 1', Further Analysis and Actions Below "
   ]
  },
  {
   "cell_type": "markdown",
   "id": "097b34fa",
   "metadata": {},
   "source": [
    "### Loading the Structured Data"
   ]
  },
  {
   "cell_type": "code",
   "execution_count": 14,
   "id": "249c3617",
   "metadata": {},
   "outputs": [],
   "source": [
    "import pandas as pd\n",
    "\n",
    "# Load the dataset\n",
    "dataset_path = 'Enron_emails.csv'  \n",
    "df = pd.read_csv(dataset_path)\n"
   ]
  },
  {
   "cell_type": "markdown",
   "id": "d6a2b9b9",
   "metadata": {},
   "source": [
    "### Some basic EDA before cleaning"
   ]
  },
  {
   "cell_type": "code",
   "execution_count": 2,
   "id": "b2a4196f",
   "metadata": {},
   "outputs": [
    {
     "name": "stdout",
     "output_type": "stream",
     "text": [
      "                       file                                            message\n",
      "0     allen-p/_sent_mail/1.  Message-ID: <18782981.1075855378110.JavaMail.e...\n",
      "1    allen-p/_sent_mail/10.  Message-ID: <15464986.1075855378456.JavaMail.e...\n",
      "2   allen-p/_sent_mail/100.  Message-ID: <24216240.1075855687451.JavaMail.e...\n",
      "3  allen-p/_sent_mail/1000.  Message-ID: <13505866.1075863688222.JavaMail.e...\n",
      "4  allen-p/_sent_mail/1001.  Message-ID: <30922949.1075863688243.JavaMail.e...\n"
     ]
    }
   ],
   "source": [
    "# Display the first few rows of the dataset\n",
    "print(df.head())\n"
   ]
  },
  {
   "cell_type": "code",
   "execution_count": 3,
   "id": "c4bb5c80",
   "metadata": {},
   "outputs": [
    {
     "name": "stdout",
     "output_type": "stream",
     "text": [
      "<class 'pandas.core.frame.DataFrame'>\n",
      "RangeIndex: 517401 entries, 0 to 517400\n",
      "Data columns (total 2 columns):\n",
      " #   Column   Non-Null Count   Dtype \n",
      "---  ------   --------------   ----- \n",
      " 0   file     517401 non-null  object\n",
      " 1   message  517401 non-null  object\n",
      "dtypes: object(2)\n",
      "memory usage: 7.9+ MB\n",
      "None\n"
     ]
    }
   ],
   "source": [
    "# Summary of the dataset\n",
    "print(df.info())\n"
   ]
  },
  {
   "cell_type": "code",
   "execution_count": 4,
   "id": "e9938806",
   "metadata": {},
   "outputs": [
    {
     "name": "stdout",
     "output_type": "stream",
     "text": [
      "                         file  \\\n",
      "count                  517401   \n",
      "unique                 517401   \n",
      "top     allen-p/_sent_mail/1.   \n",
      "freq                        1   \n",
      "\n",
      "                                                  message  \n",
      "count                                              517401  \n",
      "unique                                             517401  \n",
      "top     Message-ID: <18782981.1075855378110.JavaMail.e...  \n",
      "freq                                                    1  \n"
     ]
    }
   ],
   "source": [
    "# Descriptive statistics for numerical features\n",
    "print(df.describe())\n"
   ]
  },
  {
   "cell_type": "code",
   "execution_count": 5,
   "id": "62cea9be",
   "metadata": {},
   "outputs": [
    {
     "name": "stdout",
     "output_type": "stream",
     "text": [
      "file       0\n",
      "message    0\n",
      "dtype: int64\n"
     ]
    }
   ],
   "source": [
    "# Check for missing values\n",
    "print(df.isnull().sum())\n"
   ]
  },
  {
   "cell_type": "code",
   "execution_count": 15,
   "id": "06a71f60",
   "metadata": {},
   "outputs": [
    {
     "name": "stdout",
     "output_type": "stream",
     "text": [
      "Columns with NaN values: []\n",
      "There are no NaN values in the DataFrame.\n"
     ]
    }
   ],
   "source": [
    "# Check for NaN values in the DataFrame\n",
    "nan_values = df.isna().any()\n",
    "\n",
    "# Display columns with NaN values\n",
    "columns_with_nan = nan_values[nan_values].index.tolist()\n",
    "print(\"Columns with NaN values:\", columns_with_nan)\n",
    "\n",
    "# Check if there are any NaN values in the DataFrame\n",
    "if nan_values.any():\n",
    "    print(\"There are NaN values in the DataFrame.\")\n",
    "else:\n",
    "    print(\"There are no NaN values in the DataFrame.\")\n"
   ]
  },
  {
   "cell_type": "markdown",
   "id": "ada8f003",
   "metadata": {},
   "source": [
    "#### Observations:\n",
    "- Columns: my dataset contains two columns: file and message.\n",
    "- Entries: There are 517,401 entries, and each entry is unique (as indicated by the count of unique values in the file and message columns).\n",
    "- No Missing Values: There are no missing values in either column.\n",
    "- Message Content: The message column contains the full content of the emails, including metadata like Message-ID, Date, From, To, Subject, and the email body."
   ]
  },
  {
   "cell_type": "code",
   "execution_count": 7,
   "id": "907effce",
   "metadata": {},
   "outputs": [
    {
     "name": "stdout",
     "output_type": "stream",
     "text": [
      "message\n",
      "Message-ID: <18782981.1075855378110.JavaMail.evans@thyme>\\nDate: Mon, 14 May 2001 16:39:00 -0700 (PDT)\\nFrom: phillip.allen@enron.com\\nTo: tim.belden@enron.com\\nSubject: \\nMime-Version: 1.0\\nContent-Type: text/plain; charset=us-ascii\\nContent-Transfer-Encoding: 7bit\\nX-From: Phillip K Allen\\nX-To: Tim Belden <Tim Belden/Enron@EnronXGate>\\nX-cc: \\nX-bcc: \\nX-Folder: \\Phillip_Allen_Jan2002_1\\Allen, Phillip K.\\'Sent Mail\\nX-Origin: Allen-P\\nX-FileName: pallen (Non-Privileged).pst\\n\\nHere is our forecast\\n\\n                                                                                                                                                                                                                                                                                                                                                                                                                                                                                                                                                                                                                                                                                                                                                                                                                                                                                                                                                                                                                                                                                                                                                                                                                                                                                                                                                                                                                                                                                                                                                                                                                                                                                                                                                                                                                                                                                                                                                                                                                                                                                                                                                                                                                                                                                                                                                                                                                                                                                                                                                                                                                                                                                                                                                                                                                                                                                                                                                                                                                                                                                                                                                                                                                                                                                                                                                                                                                                                                                                                                                                                                                                                                                                                                                                                                                                                                                                                                                                            1\n",
      "Message-ID: <11070554.1075842620230.JavaMail.evans@thyme>\\nDate: Fri, 13 Oct 2000 08:02:00 -0700 (PDT)\\nFrom: marlene.hilliard@enron.com\\nTo: mark.thorne@enron.com\\nSubject: Westar Transmission Company\\nCc: gerald.nemec@enron.com\\nMime-Version: 1.0\\nContent-Type: text/plain; charset=us-ascii\\nContent-Transfer-Encoding: 7bit\\nBcc: gerald.nemec@enron.com\\nX-From: Marlene Hilliard\\nX-To: Mark D Thorne\\nX-cc: Gerald Nemec\\nX-bcc: \\nX-Folder: \\Gerald_Nemec_Dec2000_June2001_1\\Notes Folders\\All documents\\nX-Origin: NEMEC-G\\nX-FileName: gnemec.nsf\\n\\nMark,\\n\\nPlease forward Contract No. 96006226 to Gerald Nemec for his review.\\n\\n\\nMarlene Hilliard\\nExt. 3-9167                                                                                                                                                                                                                                                                                                                                                                                                                                                                                                                                                                                                                                                                                                                                                                                                                                                                                                                                                                                                                                                                                                                                                                                                                                                                                                                                                                                                                                                                                                                                                                                                                                                                                                                                                                                                                                                                                                                                                                                                                                                                                                                                                                                                                                                                                                                                                                                                                                                                                                                                                                                                                                                                                                                                                                                                                                                                                                                                                                                                                                                                                                                                                                                                                                                                                                                                                                                                                                                                                                                                                                                                                                                                                                                                                                                                                    1\n",
      "Message-ID: <8497690.1075842620583.JavaMail.evans@thyme>\\nDate: Wed, 18 Oct 2000 09:23:00 -0700 (PDT)\\nFrom: gtownsend@manorisd.net\\nTo: gerald.nemec@enron.com\\nSubject: RE: Missouri\\nMime-Version: 1.0\\nContent-Type: text/plain; charset=us-ascii\\nContent-Transfer-Encoding: 7bit\\nX-From: \"Townsend, George\" <gtownsend@manorisd.net>\\nX-To: \"'Gerald.Nemec@enron.com'\" <Gerald.Nemec@enron.com>\\nX-cc: \\nX-bcc: \\nX-Folder: \\Gerald_Nemec_Dec2000_June2001_1\\Notes Folders\\All documents\\nX-Origin: NEMEC-G\\nX-FileName: gnemec.nsf\\n\\nWhat night do you plan on staying?\\n\\nGT\\n\\n> -----Original Message-----\\n> From: Gerald.Nemec@enron.com [SMTP:Gerald.Nemec@enron.com]\\n> Sent: Monday, October 16, 2000 2:37 PM\\n> To: gtownsend@manorisd.net\\n> Subject: Missouri\\n>\\n> GT,  How is it going?  Man, was that an ass-whipping or what that we took\\n> from OU.  Looks like we salvaged some dignity with the CU game.\\n>\\n> I was planning on coming in for the Missouri game.  I might have my\\n> brother\\n> and another friend with me.  How are you set for space.  Those guys could\\n> crash on the couches, if its not a problem with you.  If it is a problem,\\n> just let me know and we can make other arrangements.\\n>\\n> Talk at ya later\\n>\\n> G                                                                                                                                                                                                                                                                                                                                                                                                                                                                                                                                                                                                                                                                                                                                                                                                                                                                                                                                                                                                                                                                                                                                                                                                                                                                                                                                                                                                                                                                                                                                                                                                                                                                                                                                                                                                                                                                                                                                                                                                                                                                                                                                                                                                                                                                                                                                                                                                                                                                                                                                                                                                                                                                                                                                                                                                                                                                                                                                                                                                                                                                                                                                                                                                                               1\n",
      "Message-ID: <1601663.1075842620560.JavaMail.evans@thyme>\\nDate: Wed, 18 Oct 2000 08:35:00 -0700 (PDT)\\nFrom: pat.radford@enron.com\\nTo: michael.eiben@enron.com\\nSubject: Message from Sandi Braband\\nCc: gerald.nemec@enron.com\\nMime-Version: 1.0\\nContent-Type: text/plain; charset=us-ascii\\nContent-Transfer-Encoding: 7bit\\nBcc: gerald.nemec@enron.com\\nX-From: Pat Radford\\nX-To: Michael Eiben\\nX-cc: Gerald Nemec\\nX-bcc: \\nX-Folder: \\Gerald_Nemec_Dec2000_June2001_1\\Notes Folders\\All documents\\nX-Origin: NEMEC-G\\nX-FileName: gnemec.nsf\\n\\nSandi Braband has been out of the office all day again today, working in the \\nData Room across the street.  She asked me to remind you that Gerald Nemec is \\nyour contact for the Agreement you wanted to talk to her about.  Gerald's \\nextension is 33512.                                                                                                                                                                                                                                                                                                                                                                                                                                                                                                                                                                                                                                                                                                                                                                                                                                                                                                                                                                                                                                                                                                                                                                                                                                                                                                                                                                                                                                                                                                                                                                                                                                                                                                                                                                                                                                                                                                                                                                                                                                                                                                                                                                                                                                                                                                                                                                                                                                                                                                                                                                                                                                                                                                                                                                                                                                                                                                                                                                                                                                                                                                                                                                                                                                                                                                                                                                                                                                                                                                                                                                                                                                                                                1\n",
      "Message-ID: <18752804.1075842620538.JavaMail.evans@thyme>\\nDate: Wed, 18 Oct 2000 08:08:00 -0700 (PDT)\\nFrom: debra.perlingiere@enron.com\\nTo: gerald.nemec@enron.com\\nSubject: \\nMime-Version: 1.0\\nContent-Type: text/plain; charset=us-ascii\\nContent-Transfer-Encoding: 7bit\\nX-From: Debra Perlingiere\\nX-To: Gerald Nemec\\nX-cc: \\nX-bcc: \\nX-Folder: \\Gerald_Nemec_Dec2000_June2001_1\\Notes Folders\\All documents\\nX-Origin: NEMEC-G\\nX-FileName: gnemec.nsf\\n\\nDebra Perlingiere\\nEnron North America Corp.\\nLegal Department\\n1400 Smith Street, EB 3885\\nHouston, Texas 77002\\ndperlin@enron.com\\nPhone 713-853-7658\\nFax  713-646-3490                                                                                                                                                                                                                                                                                                                                                                                                                                                                                                                                                                                                                                                                                                                                                                                                                                                                                                                                                                                                                                                                                                                                                                                                                                                                                                                                                                                                                                                                                                                                                                                                                                                                                                                                                                                                                                                                                                                                                                                                                                                                                                                                                                                                                                                                                                                                                                                                                                                                                                                                                                                                                                                                                                                                                                                                                                                                                                                                                                                                                                                                                                                                                                                                                                                                                                                                                                                                                                                                                                                                                                                                                                                                                                                                                                                                                                                        1\n",
      "                                                                                                                                                                                                                                                                                                                                                                                                                                                                                                                                                                                                                                                                                                                                                                                                                                                                                                                                                                                                                                                                                                                                                                                                                                                                                                                                                                                                                                                                                                                                                                                                                                                                                                                                                                                                                                                                                                                                                                                                                                                                                                                                                                                                                                                                                                                                                                                                                                                                                                                                                                                                                                                                                                                                                                                                                                                                                                                                                                                                                                                                                                                                                                                                                                                                                                                                                                                                                                                                                                                                                                                                                                                                                                                                                                                                                                                                                                                                                                                                                                                                                                                                                                                                                                                                                                                                                                                                                                                                                                        ..\n",
      "Message-ID: <6926596.1075844934126.JavaMail.evans@thyme>\\nDate: Wed, 23 Feb 2000 06:46:00 -0800 (PST)\\nFrom: gisb1@aol.com\\nTo: william_p_boswell@corp.cng.com, shorton@enron.com, scorman@enron.com, \\n\\tjbuccigross@skippingstone.com, buccigj@yahoo.com, novakm@natfuel.com, \\n\\tjrtemplton@aol.com, jmcostan@mwbb.com, gisb@aol.com, \\n\\tkeith-sappenfield@reliantenergy.com, gisb4@aol.com, \\n\\tlstewart@pacent.com, mwp8246@idahopower.com, nancy_laird@pcp.ca, \\n\\ttp4lms@socalgas.com\\nSubject: Draft GISB Report to the Board of Directors and Task Force\\n Conference Call\\nMime-Version: 1.0\\nContent-Type: text/plain; charset=us-ascii\\nContent-Transfer-Encoding: 7bit\\nX-From: GISB1@aol.com\\nX-To: william_p_boswell@corp.cng.com, shorton@enron.com, scorman@enron.com, jbuccigross@skippingstone.com, buccigj@yahoo.com, novakm@natfuel.com, Jrtemplton@aol.com, jmcostan@mwbb.com, Gisb@aol.com, keith-sappenfield@reliantenergy.com, GISB4@aol.com, lstewart@pacent.com, mwp8246@idahopower.com, nancy_laird@pcp.ca, tp4lms@socalgas.com\\nX-cc: \\nX-bcc: \\nX-Folder: \\Stanley_Horton_1\\Notes Folders\\All documents\\nX-Origin: HORTON-S\\nX-FileName: shorton.nsf\\n\\nDear task force members,\\nAttached please find a draft report for us to discuss at the upcoming\\nconference call.  Also attached is a recent article in \"Restructuring Today.\"\\n I was given permission by \"Restructuring Today\"  for a limited distribution\\nof this article to this task force.  Rae\\n\\n - task force summary.PDF                                                                                                                                                                                                                                                                                                                                                                                                                                                                                                                                                                                                                                                                                                                                                                                                                                                                                                                                                                                                                                                                                                                                                                                                                                                                                                                                                                                                                                                                                                                                                                                                                                                                                                                                                                                                                                                                                                                                                                                                                                                                                                                                                                                                                                                                                                                                                                                                                                                                                                                                                                                                                                                                                                                                                                                                                                                                                                                                                                               1\n",
      "Message-ID: <7181663.1075844934103.JavaMail.evans@thyme>\\nDate: Wed, 23 Feb 2000 05:11:00 -0800 (PST)\\nFrom: scott.vonderheide@enron.com\\nTo: hardie.davis@enron.com, stanley.horton@enron.com, beth.meyer@enron.com, \\n\\tgina.taylor@enron.com, dave.schafer@enron.com, \\n\\tmichael.burke@enron.com, lori.maddox@enron.com, \\n\\tsusan.ralph@enron.com, steve.duffy@enron.com, dana.gibbs@enron.com, \\n\\tmolly.sample@enron.com\\nSubject: EOTT fourth quarter earnings release\\nMime-Version: 1.0\\nContent-Type: text/plain; charset=us-ascii\\nContent-Transfer-Encoding: 7bit\\nX-From: Scott Vonderheide\\nX-To: Hardie Davis, Stanley Horton, Beth Meyer, Gina Taylor, Dave Schafer, Michael Burke, Lori Maddox, Susan Ralph, Steve Duffy, Dana Gibbs, Molly Sample\\nX-cc: \\nX-bcc: \\nX-Folder: \\Stanley_Horton_1\\Notes Folders\\All documents\\nX-Origin: HORTON-S\\nX-FileName: shorton.nsf\\n\\nAttached is the most current release.  The second paragraph has been changed \\nto reflect the comments made at the 10:45 AM meeting.\\n                                                                                                                                                                                                                                                                                                                                                                                                                                                                                                                                                                                                                                                                                                                                                                                                                                                                                                                                                                                                                                                                                                                                                                                                                                                                                                                                                                                                                                                                                                                                                                                                                                                                                                                                                                                                                                                                                                                                                                                                                                                                                                                                                                                                                                                                                                                                                                                                                                                                                                                                                                                                                                                                                                                                                                                                                                                                                                                                                                                                                                                                                                                                                                                                                                                                                                                                                                                                                                                                    1\n",
      "Message-ID: <21683933.1075844934077.JavaMail.evans@thyme>\\nDate: Tue, 22 Feb 2000 03:23:00 -0800 (PST)\\nFrom: ron.tapscott@enron.com\\nTo: cvwaits@cmsenergy.com, jcbaker@aep.com, sfszwed@firstenergycorp.com, \\n\\tglenn_ross@vapower.com, welchj@dteenergy.com\\nSubject: \\nCc: stanley.horton@enron.com, j.metts@enron.com, randal.maffett@enron.com, \\n\\trod.hayslett@enron.com, dwight.larson@enron.com\\nMime-Version: 1.0\\nContent-Type: text/plain; charset=us-ascii\\nContent-Transfer-Encoding: 7bit\\nBcc: stanley.horton@enron.com, j.metts@enron.com, randal.maffett@enron.com, \\n\\trod.hayslett@enron.com, dwight.larson@enron.com\\nX-From: Ron Tapscott\\nX-To: Cvwaits@cmsenergy.com, jcbaker@aep.com, Sfszwed@firstenergycorp.com, glenn_ross@vapower.com, welchj@dteenergy.com\\nX-cc: Stanley Horton, J Mark Metts, Randal T Maffett, Rod Hayslett, Dwight Larson\\nX-bcc: \\nX-Folder: \\Stanley_Horton_1\\Notes Folders\\All documents\\nX-Origin: HORTON-S\\nX-FileName: shorton.nsf\\n\\nGentlemen,\\n\\nWe received the top financials in aggregate form.  Thanks.  \\n\\nAs a followup to last week's discussions, Please forward to me those who will \\nbe participating from your respective Companies.  This will help firm up the \\nagenda and also give me an idea what conference room arrangements we may need \\nto make (per Craig's voice mail over the weekend).  \\n\\nI have incorporated comments on next weeks agenda as shown below.  Please \\nforward other comments as needed.\\n\\nAgenda for the 29th is as follows (and in order of appearance):\\nEnron presents synergy, growth and financial opportunities (including impact \\non earnings and market value)\\npipes to pipes\\npipes to wires\\nAlliance presents synergy, growth and financial opportunities (will include a \\ndiscussion regarding the area where savings and growth will occur but will \\nnot identify the impact on earnings and market value)\\nwires to wires\\nOutline Joint Venture Structural Form.  We would like to discuss in detail \\nand will provide a handout at the meeting.  The discussion will include:\\ntype and timing of contribution (stock or asset)\\ngovernance\\ntype of ownership (passive and active)\\nValuation (this will require participation from Financial or Corporate \\nDevelopment areas of your respective organizations)\\nAgree on Process\\nAgree on Method\\nTiming\\n\\nParticipants from Enron will be --\\n\\nStan Horton (Chairman & CEO of GPG)\\nMark Metts (Exec. VP Enron Corp. -- Corporate Development)\\nRod Hayslett (Sr. VP of GPG)\\nRandy Maffett (VP -- ENA)\\nDwight Larson (VP -- Corporate Development)\\nRon Tapscott (Director -- ENA)\\n\\nThanks, Ron.                                                                                                                                                                                                                                                                                                                                                                                                                                                                                                                                                                                                                                                                                                                                                                                                                                                                                                                                                                                                                                                                                                                                                                                                                                                                                                                                                                                                                                                                                                                                                                                                                                                                                                                                                                                                             1\n",
      "Message-ID: <18410608.1075844934054.JavaMail.evans@thyme>\\nDate: Mon, 21 Feb 2000 11:46:00 -0800 (PST)\\nFrom: gisb1@aol.com\\nTo: gisb@aol.com, gisb4@aol.com, hoffson@aol.com, jmcostan@mwbb.com\\nSubject: GISB Status Report to the FERC\\nMime-Version: 1.0\\nContent-Type: text/plain; charset=us-ascii\\nContent-Transfer-Encoding: 7bit\\nX-From: GISB1@aol.com\\nX-To: Gisb@aol.com, GISB4@aol.com, Hoffson@aol.com, jmcostan@mwbb.com\\nX-cc: \\nX-bcc: \\nX-Folder: \\Stanley_Horton_1\\Notes Folders\\All documents\\nX-Origin: HORTON-S\\nX-FileName: shorton.nsf\\n\\nDear GISB Members,\\n\\nThe GISB status report regarding version 1.4 of our standards was sent to the\\nFERC last week.  It has been posted and can be downloaded from our home page\\n(www.gisb.org).  If you would like the report emailed to you (it is 238 pages\\nin .pdf format), our office will be happy to accommodate you.  If you do not\\nwant to receive notices of this type, or would prefer that we send them to\\nothers in your office, please let us know and we will make the necessary\\nchanges.\\n\\nBest Regards,  Rae McQuade                                                                                                                                                                                                                                                                                                                                                                                                                                                                                                                                                                                                                                                                                                                                                                                                                                                                                                                                                                                                                                                                                                                                                                                                                                                                                                                                                                                                                                                                                                                                                                                                                                                                                                                                                                                                                                                                                                                                                                                                                                                                                                                                                                                                                                                                                                                                                                                                                                                                                                                                                                                                                                                                                                                                                                                                                                                                                                                                                                                                                                                                                                                                                                                                                                                                                                                                                                                           1\n",
      "Message-ID: <28618979.1075842030037.JavaMail.evans@thyme>\\nDate: Mon, 26 Nov 2001 10:48:43 -0800 (PST)\\nFrom: john.zufferli@enron.com\\nTo: livia_zufferli@monitor.com\\nSubject: RE: ali's essays\\nMime-Version: 1.0\\nContent-Type: text/plain; charset=us-ascii\\nContent-Transfer-Encoding: 7bit\\nX-From: Zufferli, John </O=ENRON/OU=NA/CN=RECIPIENTS/CN=JZUFFER>\\nX-To: 'Livia_Zufferli@Monitor.com@ENRON'\\nX-cc: \\nX-bcc: \\nX-Folder: \\ExMerge - Zufferli, John\\Sent Items\\nX-Origin: ZUFFERLI-J\\nX-FileName: john zufferli 6-26-02.PST\\n\\ni think the YMCA has a class that is for people recovering from heart-attacks\\ni remeber something about that\\n\\n -----Original Message-----\\nFrom: \\tLivia_Zufferli@Monitor.com@ENRON  \\nSent:\\tMonday, November 26, 2001 11:44 AM\\nTo:\\tZufferli, John\\nSubject:\\tRE: ali's essays\\n\\n\\ni don't know about the heart classes.  i'll look into it, but her dr (ravi)\\nisn't offering up any suggestions or anything.  she saw him before the\\nsurgery in august, and he said things were okay.  i really don't think he's\\ntoo helpful.\\n\\nshe is lazy -- but it really frustrates me that she doesn't want to help\\nherself.  i told her that not walking is like not taking her heart\\nmedication.  that didn't seem to resonate.  dad is going to go to the YMCA\\ntomorrow and maybe get a membership for both of them -- they have a walking\\ntrack there (at least it's something to do in the winter).  when she was\\ndown this weekend, we walked around the craft show (at the Exhibition\\nplace) and she said that was a lot of exercise (2 hrs).  The only problem\\nis that we were just strolling, and not really walking very fast.\\n\\n\\n\\n\\n\\n                    John.Zufferli@\\n                    enron.com            To:     Livia_Zufferli@Monitor.com\\n                                         cc:\\n                    11/26/2001           Subject:     RE: ali's essays\\n                    01:41 PM\\n\\n\\n\\n\\n\\n\\njust send the essay at home\\n\\nI don't know what to do about mom, i don't think fear is the only thing\\nholding her back , i think she is lazy\\n\\nis there a heart health class in Sudbury that has excercise regimines as\\nwell as diets?\\n\\nwhen is the last time she saw her doctor\\n\\n    -----Original Message-----\\n   From:   Livia_Zufferli@Monitor.com@ENRON\\n   Sent:   Monday, November 26, 2001 11:19 AM\\n   To:     Zufferli, John\\n   Subject:  ali's essays\\n\\n   Hi John\\n\\n   How was Thanksgiving?  Was the baby shower fun?\\n\\n   I was wondering if you'd have some time to read over Ali's Chicago\\n   essays\\n   later tonight?  He's going to submit them on Wednesday.  Let me know if\\n   that's okay.  Do you have a printer at home?  Can I send them to your\\n   home\\n   account?  (I don't think Ali will be done before about 8pm or so\\n   tonight).\\n\\n   PS:  We need to talk about mom.  I saw her this weekend -- she's gained\\n   a\\n   lot of weight, and hasn't been exercising at all.  Dad's pretty\\n   frustrated\\n   because all she does is watch tv.  I had a talk with her yesterday\\n   telling\\n   her that she has more risk of having a heart attack if she doesn't walk\\n   /\\n   exercise than if she exerts herself when exercising (i think she's\\n   afraid\\n   of having a heart attack while exercising).  We need to do something --\\n   she's 170lbs now, and should be at around 140lbs to be healthy.\\n\\n   Livia\\n\\n\\n\\n\\n**********************************************************************\\nThis e-mail is the property of Enron Corp. and/or its relevant affiliate\\nand may contain confidential and privileged material for the sole use of\\nthe intended recipient (s). Any review, use, distribution or disclosure by\\nothers is strictly prohibited. If you are not the intended recipient (or\\nauthorized to receive for the recipient), please contact the sender or\\nreply to Enron Corp. at enron.messaging.administration@enron.com and delete\\nall copies of the message. This e-mail (and any attachments hereto) are not\\nintended to be an offer (or an acceptance) and do not create or evidence a\\nbinding and enforceable contract between Enron Corp. (or any of its\\naffiliates) and the intended recipient or any other party, and may not be\\nrelied on by anyone as the basis of a contract by estoppel or otherwise.\\nThank you.\\n**********************************************************************\\n\\n\\n    1\n",
      "Name: count, Length: 517401, dtype: int64\n"
     ]
    }
   ],
   "source": [
    "# Explore unique values for a message column \n",
    "print(df['message'].value_counts())\n"
   ]
  },
  {
   "cell_type": "markdown",
   "id": "4f99f834",
   "metadata": {},
   "source": [
    "Looking on the result, the message column discusses various topics, including scheduling a review of essays, concerns about a family member's health, and logistical details about document sharing. Additionally, there's a standard confidentiality disclaimer at the end.\n",
    "\n",
    "In terms of analysis, this email reflects typical workplace communication, including task coordination and personal concerns. It provides a glimpse into the daily interactions and dynamics within the Enron organization."
   ]
  },
  {
   "cell_type": "markdown",
   "id": "7795d1ee",
   "metadata": {},
   "source": [
    "### Cleaning and Processing Steps:\n",
    "Extracting Email Bodies:\n",
    "\n",
    "The message column contains both headers (e.g., Message-ID, From, To, Subject) and the body of the emails. For autocompletion,  I am most interested in the email bodies, so I need to extract the body from each message, which typically starts after the X-FileName line or the last metadata header."
   ]
  },
  {
   "cell_type": "code",
   "execution_count": 9,
   "id": "853d9853",
   "metadata": {},
   "outputs": [
    {
     "name": "stdout",
     "output_type": "stream",
     "text": [
      "                                             message  \\\n",
      "0  Message-ID: <18782981.1075855378110.JavaMail.e...   \n",
      "1  Message-ID: <15464986.1075855378456.JavaMail.e...   \n",
      "2  Message-ID: <24216240.1075855687451.JavaMail.e...   \n",
      "3  Message-ID: <13505866.1075863688222.JavaMail.e...   \n",
      "4  Message-ID: <30922949.1075863688243.JavaMail.e...   \n",
      "\n",
      "                                                body  \n",
      "0                          Here is our forecast\\n\\n   \n",
      "1  Traveling to have a business meeting takes the...  \n",
      "2                     test successful.  way to go!!!  \n",
      "3  Randy,\\n\\n Can you send me a schedule of the s...  \n",
      "4                Let's shoot for Tuesday at 11:45.    \n"
     ]
    }
   ],
   "source": [
    "def extract_body(message):\n",
    "    split_message = message.split('\\n\\n', 1)  # Splitting at the first double newline\n",
    "    if len(split_message) > 1:\n",
    "        return split_message[1]  # Return the part after the first double newline\n",
    "    else:\n",
    "        return split_message[0]  # If there's no double newline, return the whole message\n",
    "\n",
    "# Apply the function to the 'message' column to create a new 'body' column\n",
    "df['body'] = df['message'].apply(extract_body)\n",
    "\n",
    "# Display the first few rows of the dataset to verify the extraction\n",
    "print(df[['message', 'body']].head())\n"
   ]
  },
  {
   "cell_type": "markdown",
   "id": "b9482fa8",
   "metadata": {},
   "source": [
    "Now time to clean whitespace line brake..."
   ]
  },
  {
   "cell_type": "code",
   "execution_count": 10,
   "id": "ba955803",
   "metadata": {},
   "outputs": [
    {
     "name": "stdout",
     "output_type": "stream",
     "text": [
      "                                                body  \\\n",
      "0                          Here is our forecast\\n\\n    \n",
      "1  Traveling to have a business meeting takes the...   \n",
      "2                     test successful.  way to go!!!   \n",
      "3  Randy,\\n\\n Can you send me a schedule of the s...   \n",
      "4                Let's shoot for Tuesday at 11:45.     \n",
      "\n",
      "                                        cleaned_body  \n",
      "0                               Here is our forecast  \n",
      "1  Traveling to have a business meeting takes the...  \n",
      "2                      test successful. way to go!!!  \n",
      "3  Randy, Can you send me a schedule of the salar...  \n",
      "4                  Let's shoot for Tuesday at 11:45.  \n"
     ]
    }
   ],
   "source": [
    "import re\n",
    "\n",
    "def clean_text(text):\n",
    "    # Replace line breaks with a space\n",
    "    text = text.replace('\\n', ' ')\n",
    "    # Remove extra spaces\n",
    "    text = re.sub(' +', ' ', text)\n",
    "    return text.strip()\n",
    "\n",
    "# Apply cleaning function to the body column\n",
    "df['cleaned_body'] = df['body'].apply(clean_text)\n",
    "\n",
    "# Display the cleaned text\n",
    "print(df[['body', 'cleaned_body']].head())\n"
   ]
  },
  {
   "cell_type": "markdown",
   "id": "ba210ad8",
   "metadata": {},
   "source": [
    "Then some more cleaning (punctuation, extra space, convert to lowercase and so on) and a col ro the cleaned massages"
   ]
  },
  {
   "cell_type": "code",
   "execution_count": 11,
   "id": "ff3f8c55",
   "metadata": {},
   "outputs": [
    {
     "name": "stdout",
     "output_type": "stream",
     "text": [
      "                                                body  \\\n",
      "0                          Here is our forecast\\n\\n    \n",
      "1  Traveling to have a business meeting takes the...   \n",
      "2                     test successful.  way to go!!!   \n",
      "3  Randy,\\n\\n Can you send me a schedule of the s...   \n",
      "4                Let's shoot for Tuesday at 11:45.     \n",
      "\n",
      "                                        cleaned_body  \n",
      "0                               here is our forecast  \n",
      "1  traveling to have a business meeting takes the...  \n",
      "2                          test successful way to go  \n",
      "3  randy can you send me a schedule of the salary...  \n",
      "4                     lets shoot for tuesday at 1145  \n"
     ]
    }
   ],
   "source": [
    "import re\n",
    "import string\n",
    "\n",
    "def clean_text(text):\n",
    "    # Convert text to lowercase\n",
    "    text = text.lower()\n",
    "    # Replace line breaks with a space\n",
    "    text = text.replace('\\n', ' ')\n",
    "    # Remove punctuation\n",
    "    text = text.translate(str.maketrans('', '', string.punctuation))\n",
    "    # Remove extra spaces\n",
    "    text = re.sub(' +', ' ', text)\n",
    "    return text.strip()\n",
    "\n",
    "# Apply cleaning function to the body column\n",
    "df['cleaned_body'] = df['body'].apply(clean_text)\n",
    "\n",
    "# Display the cleaned text to verify punctuation removal and normalization\n",
    "print(df[['body', 'cleaned_body']].head())\n"
   ]
  },
  {
   "cell_type": "markdown",
   "id": "c56c57a7",
   "metadata": {},
   "source": [
    "### Save my cleaned data for a later use"
   ]
  },
  {
   "cell_type": "code",
   "execution_count": 17,
   "id": "9157fd23",
   "metadata": {},
   "outputs": [],
   "source": [
    "# Save the cleaned data to a CSV file\n",
    "df.to_csv('cleaned_enron_emails.csv', index=False)\n"
   ]
  },
  {
   "cell_type": "markdown",
   "id": "e9332d4c",
   "metadata": {},
   "source": [
    "Loading my clean data"
   ]
  },
  {
   "cell_type": "code",
   "execution_count": 5,
   "id": "26195cef",
   "metadata": {},
   "outputs": [
    {
     "name": "stdout",
     "output_type": "stream",
     "text": [
      "                       file  \\\n",
      "0     allen-p/_sent_mail/1.   \n",
      "1    allen-p/_sent_mail/10.   \n",
      "2   allen-p/_sent_mail/100.   \n",
      "3  allen-p/_sent_mail/1000.   \n",
      "4  allen-p/_sent_mail/1001.   \n",
      "\n",
      "                                             message  \\\n",
      "0  Message-ID: <18782981.1075855378110.JavaMail.e...   \n",
      "1  Message-ID: <15464986.1075855378456.JavaMail.e...   \n",
      "2  Message-ID: <24216240.1075855687451.JavaMail.e...   \n",
      "3  Message-ID: <13505866.1075863688222.JavaMail.e...   \n",
      "4  Message-ID: <30922949.1075863688243.JavaMail.e...   \n",
      "\n",
      "                                                body  \\\n",
      "0                          Here is our forecast\\n\\n    \n",
      "1  Traveling to have a business meeting takes the...   \n",
      "2                     test successful.  way to go!!!   \n",
      "3  Randy,\\n\\n Can you send me a schedule of the s...   \n",
      "4                Let's shoot for Tuesday at 11:45.     \n",
      "\n",
      "                                        cleaned_body  \n",
      "0                               here is our forecast  \n",
      "1  traveling to have a business meeting takes the...  \n",
      "2                          test successful way to go  \n",
      "3  randy can you send me a schedule of the salary...  \n",
      "4                     lets shoot for tuesday at 1145  \n"
     ]
    }
   ],
   "source": [
    "import pandas as pd\n",
    "\n",
    "# Load the cleaned dataset\n",
    "df_emails_cleaned = pd.read_csv('cleaned_enron_emails.csv')\n",
    "\n",
    "# Display the first few rows to confirm it's loaded correctly\n",
    "print(df_emails_cleaned.head())\n"
   ]
  },
  {
   "cell_type": "markdown",
   "id": "e7cbd221",
   "metadata": {},
   "source": [
    "Checking if everything looks good"
   ]
  },
  {
   "cell_type": "code",
   "execution_count": 6,
   "id": "6e5758aa",
   "metadata": {},
   "outputs": [
    {
     "name": "stdout",
     "output_type": "stream",
     "text": [
      "<class 'pandas.core.frame.DataFrame'>\n",
      "RangeIndex: 517401 entries, 0 to 517400\n",
      "Data columns (total 4 columns):\n",
      " #   Column        Non-Null Count   Dtype \n",
      "---  ------        --------------   ----- \n",
      " 0   file          517401 non-null  object\n",
      " 1   message       517401 non-null  object\n",
      " 2   body          517401 non-null  object\n",
      " 3   cleaned_body  517347 non-null  object\n",
      "dtypes: object(4)\n",
      "memory usage: 15.8+ MB\n",
      "None\n",
      "                         file  \\\n",
      "count                  517401   \n",
      "unique                 517401   \n",
      "top     allen-p/_sent_mail/1.   \n",
      "freq                        1   \n",
      "\n",
      "                                                  message  \\\n",
      "count                                              517401   \n",
      "unique                                             517401   \n",
      "top     Message-ID: <18782981.1075855378110.JavaMail.e...   \n",
      "freq                                                    1   \n",
      "\n",
      "                                                     body cleaned_body  \n",
      "count                                              517401       517347  \n",
      "unique                                             249013       244467  \n",
      "top     As you know, Enron Net Works (ENW) and Enron G...       thanks  \n",
      "freq                                                  112          175  \n"
     ]
    }
   ],
   "source": [
    "# Display DataFrame information\n",
    "print(df_emails_cleaned.info())\n",
    "\n",
    "print(df_emails_cleaned.describe())\n"
   ]
  },
  {
   "cell_type": "markdown",
   "id": "def22afe",
   "metadata": {},
   "source": [
    "### Some EDA after cleaning"
   ]
  },
  {
   "cell_type": "code",
   "execution_count": 51,
   "id": "5a1d7715",
   "metadata": {},
   "outputs": [
    {
     "name": "stderr",
     "output_type": "stream",
     "text": [
      "C:\\Users\\17202\\anaconda3\\Lib\\site-packages\\seaborn\\_oldcore.py:1498: FutureWarning: is_categorical_dtype is deprecated and will be removed in a future version. Use isinstance(dtype, CategoricalDtype) instead\n",
      "  if pd.api.types.is_categorical_dtype(vector):\n",
      "C:\\Users\\17202\\anaconda3\\Lib\\site-packages\\seaborn\\_oldcore.py:1119: FutureWarning: use_inf_as_na option is deprecated and will be removed in a future version. Convert inf values to NaN before operating instead.\n",
      "  with pd.option_context('mode.use_inf_as_na', True):\n"
     ]
    },
    {
     "data": {
      "image/png": "[encoded data removed]",
      "text/plain": [
       "<Figure size 1000x600 with 1 Axes>"
      ]
     },
     "metadata": {},
     "output_type": "display_data"
    },
    {
     "name": "stderr",
     "output_type": "stream",
     "text": [
      "C:\\Users\\17202\\anaconda3\\Lib\\site-packages\\seaborn\\_oldcore.py:1498: FutureWarning: is_categorical_dtype is deprecated and will be removed in a future version. Use isinstance(dtype, CategoricalDtype) instead\n",
      "  if pd.api.types.is_categorical_dtype(vector):\n",
      "C:\\Users\\17202\\anaconda3\\Lib\\site-packages\\seaborn\\_oldcore.py:1498: FutureWarning: is_categorical_dtype is deprecated and will be removed in a future version. Use isinstance(dtype, CategoricalDtype) instead\n",
      "  if pd.api.types.is_categorical_dtype(vector):\n",
      "C:\\Users\\17202\\anaconda3\\Lib\\site-packages\\seaborn\\_oldcore.py:1498: FutureWarning: is_categorical_dtype is deprecated and will be removed in a future version. Use isinstance(dtype, CategoricalDtype) instead\n",
      "  if pd.api.types.is_categorical_dtype(vector):\n"
     ]
    },
    {
     "data": {
      "image/png": "[encoded data removed]",
      "text/plain": [
       "<Figure size 1000x600 with 1 Axes>"
      ]
     },
     "metadata": {},
     "output_type": "display_data"
    },
    {
     "name": "stderr",
     "output_type": "stream",
     "text": [
      "C:\\Users\\17202\\anaconda3\\Lib\\site-packages\\seaborn\\_oldcore.py:1498: FutureWarning: is_categorical_dtype is deprecated and will be removed in a future version. Use isinstance(dtype, CategoricalDtype) instead\n",
      "  if pd.api.types.is_categorical_dtype(vector):\n",
      "C:\\Users\\17202\\anaconda3\\Lib\\site-packages\\seaborn\\_oldcore.py:1498: FutureWarning: is_categorical_dtype is deprecated and will be removed in a future version. Use isinstance(dtype, CategoricalDtype) instead\n",
      "  if pd.api.types.is_categorical_dtype(vector):\n",
      "C:\\Users\\17202\\anaconda3\\Lib\\site-packages\\seaborn\\_oldcore.py:1765: FutureWarning: unique with argument that is not not a Series, Index, ExtensionArray, or np.ndarray is deprecated and will raise in a future version.\n",
      "  order = pd.unique(vector)\n",
      "C:\\Users\\17202\\anaconda3\\Lib\\site-packages\\seaborn\\_oldcore.py:1498: FutureWarning: is_categorical_dtype is deprecated and will be removed in a future version. Use isinstance(dtype, CategoricalDtype) instead\n",
      "  if pd.api.types.is_categorical_dtype(vector):\n"
     ]
    },
    {
     "data": {
      "image/png": "[encoded data removed]",
      "text/plain": [
       "<Figure size 1000x600 with 1 Axes>"
      ]
     },
     "metadata": {},
     "output_type": "display_data"
    }
   ],
   "source": [
    "# Calculate email lengths for 'cleaned_body'\n",
    "df_emails_cleaned['email_length'] = df_emails_cleaned['cleaned_body'].astype(str).apply(len)\n",
    "\n",
    "# Analyze the distribution of email lengths\n",
    "plt.figure(figsize=(10, 6))\n",
    "sns.histplot(df_emails_cleaned['email_length'], bins=100, kde=True)\n",
    "plt.title('Distribution of Email Lengths')\n",
    "plt.xlabel('Email Length')\n",
    "plt.ylabel('Frequency')\n",
    "plt.show()\n",
    "\n",
    "\n",
    "# since the sender's name is the first part of the 'file' path\n",
    "df_emails_cleaned['sender'] = df_emails_cleaned['file'].apply(lambda x: x.split('/')[0])\n",
    "\n",
    "# Plotting the top 10 senders\n",
    "top_senders = df_emails_cleaned['sender'].value_counts().head(10)\n",
    "plt.figure(figsize=(10, 6))\n",
    "sns.barplot(x=top_senders.values, y=top_senders.index)\n",
    "plt.title('Top 10 Senders')\n",
    "plt.xlabel('Number of Emails')\n",
    "plt.ylabel('Sender')\n",
    "plt.show()\n",
    "\n",
    "# Keyword Analysis (I used 'meeting', 'project', 'deadline' and 'budget')\n",
    "keywords = ['meeting', 'project', 'deadline', 'budget']  \n",
    "\n",
    "# Initialize a dictionary to hold counts for each keyword\n",
    "keyword_counts = {}\n",
    "\n",
    "# Count occurrences of each keyword in 'cleaned_body'\n",
    "for keyword in keywords:\n",
    "    df_emails_cleaned[keyword] = df_emails_cleaned['cleaned_body'].astype(str).str.contains(keyword, case=False)\n",
    "    keyword_counts[keyword] = df_emails_cleaned[keyword].sum()\n",
    "\n",
    "# Plotting keyword frequencies\n",
    "plt.figure(figsize=(10, 6))\n",
    "sns.barplot(x=list(keyword_counts.keys()), y=list(keyword_counts.values()))\n",
    "plt.title('Frequency of Keywords in Emails')\n",
    "plt.xlabel('Keyword')\n",
    "plt.ylabel('Frequency')\n",
    "plt.show()"
   ]
  },
  {
   "cell_type": "markdown",
   "id": "446ba4a5",
   "metadata": {},
   "source": [
    "I noted that 'meeting' is a frequently occurring term, suggesting a focus on coordination within the dataset. And the distribution of email lengths shows a strategic decision for my model's training process, it means that there needs to be a truncation process that I have to do."
   ]
  },
  {
   "cell_type": "markdown",
   "id": "f0e04ddb",
   "metadata": {},
   "source": [
    "## Further Preprocessing"
   ]
  },
  {
   "cell_type": "code",
   "execution_count": 17,
   "id": "77a5ad2b",
   "metadata": {},
   "outputs": [
    {
     "name": "stdout",
     "output_type": "stream",
     "text": [
      "                       file  \\\n",
      "0     allen-p/_sent_mail/1.   \n",
      "1    allen-p/_sent_mail/10.   \n",
      "2   allen-p/_sent_mail/100.   \n",
      "3  allen-p/_sent_mail/1000.   \n",
      "4  allen-p/_sent_mail/1001.   \n",
      "\n",
      "                                             message  \\\n",
      "0  Message-ID: <18782981.1075855378110.JavaMail.e...   \n",
      "1  Message-ID: <15464986.1075855378456.JavaMail.e...   \n",
      "2  Message-ID: <24216240.1075855687451.JavaMail.e...   \n",
      "3  Message-ID: <13505866.1075863688222.JavaMail.e...   \n",
      "4  Message-ID: <30922949.1075863688243.JavaMail.e...   \n",
      "\n",
      "                                                body  \\\n",
      "0                          Here is our forecast\\n\\n    \n",
      "1  Traveling to have a business meeting takes the...   \n",
      "2                     test successful.  way to go!!!   \n",
      "3  Randy,\\n\\n Can you send me a schedule of the s...   \n",
      "4                Let's shoot for Tuesday at 11:45.     \n",
      "\n",
      "                                        cleaned_body  cleaned_message_length  \\\n",
      "0                               here is our forecast                      20   \n",
      "1  traveling to have a business meeting takes the...                     761   \n",
      "2                          test successful way to go                      25   \n",
      "3  randy can you send me a schedule of the salary...                     175   \n",
      "4                     lets shoot for tuesday at 1145                      30   \n",
      "\n",
      "                     processed_body                     filtered_body  \n",
      "0            [here is our forecast]            [here is our forecast]  \n",
      "1                                []                                []  \n",
      "2       [test successful way to go]       [test successful way to go]  \n",
      "3                                []                                []  \n",
      "4  [lets shoot for tuesday at 1145]  [lets shoot for tuesday at 1145]  \n"
     ]
    }
   ],
   "source": [
    "import pandas as pd\n",
    "import re\n",
    "\n",
    "# Function to preprocess email body\n",
    "def preprocess_email_body(body):\n",
    "    # Remove quoted and forwarded messages\n",
    "    body = re.sub(r\"(?s)(<\\w.*?>)+.*?(</\\w.*?>)+\", \"\", body)\n",
    "    body = re.sub(r\"(?s)(---+|===+|___+).*\", \"\", body)\n",
    "    body = re.sub(r\"(?s)(On\\s.*?wrote:)\", \"\", body)\n",
    "    body = re.sub(r\"(?s)(On\\s.*?wrote.*?wrote:)\", \"\", body)\n",
    "\n",
    "    # Tokenize into sentences\n",
    "    sentences = re.split(r\"[.!?]\", body)\n",
    "\n",
    "    # Filter out sentences longer than 20 words\n",
    "    sentences = [sentence.strip() for sentence in sentences if len(sentence.split()) <= 20]\n",
    "\n",
    "    return sentences\n",
    "\n",
    "# Apply preprocessing to the 'cleaned_body' column\n",
    "df_emails_cleaned['processed_body'] = df_emails_cleaned['cleaned_body'].apply(preprocess_email_body)\n",
    "\n",
    "# Function to filter out long emails\n",
    "def filter_long_emails(emails):\n",
    "    filtered_emails = []\n",
    "    for email in emails:\n",
    "        # Tokenize into words\n",
    "        words = email.split()\n",
    "        # Remove emails longer than 100 words\n",
    "        if len(words) <= 100:\n",
    "            filtered_emails.append(email)\n",
    "    return filtered_emails\n",
    "\n",
    "# Apply filtering to 'processed_body' column\n",
    "df_emails_cleaned['filtered_body'] = df_emails_cleaned['processed_body'].apply(filter_long_emails)\n",
    "\n",
    "# Display the updated DataFrame\n",
    "print(df_emails_cleaned.head())\n"
   ]
  },
  {
   "cell_type": "markdown",
   "id": "ff2749a0",
   "metadata": {},
   "source": [
    "Preprocessing: I removed quoted and forwarded messages from the email body, tokenizes it into sentences, and filters out sentences with longer words. This ensures that the input text is clean and concise, facilitating more accurate automation.\n",
    "\n",
    "Filtering: Long emails with more than 100 words are filtered out to prevent overwhelming the automation system with excessive input, ensuring efficient processing and response generation.\n",
    "\n"
   ]
  },
  {
   "cell_type": "code",
   "execution_count": 18,
   "id": "5c1f55db",
   "metadata": {},
   "outputs": [
    {
     "name": "stdout",
     "output_type": "stream",
     "text": [
      "                       file  \\\n",
      "0     allen-p/_sent_mail/1.   \n",
      "1   allen-p/_sent_mail/100.   \n",
      "2  allen-p/_sent_mail/1001.   \n",
      "3  allen-p/_sent_mail/1002.   \n",
      "4  allen-p/_sent_mail/1004.   \n",
      "\n",
      "                                             message  \\\n",
      "0  Message-ID: <18782981.1075855378110.JavaMail.e...   \n",
      "1  Message-ID: <24216240.1075855687451.JavaMail.e...   \n",
      "2  Message-ID: <30922949.1075863688243.JavaMail.e...   \n",
      "3  Message-ID: <30965995.1075863688265.JavaMail.e...   \n",
      "4  Message-ID: <17189699.1075863688308.JavaMail.e...   \n",
      "\n",
      "                                                body  \\\n",
      "0                          Here is our forecast\\n\\n    \n",
      "1                     test successful.  way to go!!!   \n",
      "2                Let's shoot for Tuesday at 11:45.     \n",
      "3  Greg,\\n\\n How about either next Tuesday or Thu...   \n",
      "4                   any morning between 10 and 11:30   \n",
      "\n",
      "                                        cleaned_body  cleaned_message_length  \\\n",
      "0                               here is our forecast                      20   \n",
      "1                          test successful way to go                      25   \n",
      "2                     lets shoot for tuesday at 1145                      30   \n",
      "3  greg how about either next tuesday or thursday...                      54   \n",
      "4                    any morning between 10 and 1130                      31   \n",
      "\n",
      "                                      processed_body  \\\n",
      "0                             [here is our forecast]   \n",
      "1                        [test successful way to go]   \n",
      "2                   [lets shoot for tuesday at 1145]   \n",
      "3  [greg how about either next tuesday or thursda...   \n",
      "4                  [any morning between 10 and 1130]   \n",
      "\n",
      "                                       filtered_body  \n",
      "0                             [here is our forecast]  \n",
      "1                        [test successful way to go]  \n",
      "2                   [lets shoot for tuesday at 1145]  \n",
      "3  [greg how about either next tuesday or thursda...  \n",
      "4                  [any morning between 10 and 1130]  \n"
     ]
    }
   ],
   "source": [
    "# Drop rows where 'filtered_body' is empty\n",
    "df_emails_cleaned = df_emails_cleaned[df_emails_cleaned['filtered_body'].apply(len) > 0]\n",
    "\n",
    "# Reset index after dropping rows\n",
    "df_emails_cleaned.reset_index(drop=True, inplace=True)\n",
    "\n",
    "# Display the updated DataFrame\n",
    "print(df_emails_cleaned.head())\n"
   ]
  },
  {
   "cell_type": "markdown",
   "id": "0d8beee9",
   "metadata": {},
   "source": [
    "I removed rows from the dataframe where the 'filtered_body' column, representing preprocessed and filtered email content, is empty. This action ensures that only emails with meaningful content are retained, enhancing data quality and reliability for subsequent analysis or automation in the project.\n"
   ]
  },
  {
   "cell_type": "markdown",
   "id": "efa2b91d",
   "metadata": {},
   "source": [
    "#### Save the filtered dataset"
   ]
  },
  {
   "cell_type": "code",
   "execution_count": 22,
   "id": "b0d4f52a",
   "metadata": {},
   "outputs": [],
   "source": [
    "# Save the filtered DataFrame to a CSV file\n",
    "df_emails_cleaned.to_csv('filtered_enron_emails.csv', index=False)\n",
    "\n"
   ]
  },
  {
   "cell_type": "markdown",
   "id": "c64151f4",
   "metadata": {},
   "source": [
    "## Feature Engineering"
   ]
  },
  {
   "cell_type": "markdown",
   "id": "bf69a5e8",
   "metadata": {},
   "source": [
    "### Step 1: Tokenization"
   ]
  },
  {
   "cell_type": "code",
   "execution_count": 27,
   "id": "3f82f453",
   "metadata": {},
   "outputs": [],
   "source": [
    "# Import necessary libraries for tokenization\n",
    "from nltk.tokenize import word_tokenize\n",
    "\n",
    "# Function to tokenize a sentence\n",
    "def tokenize_sentence(sentence):\n",
    "    tokens = word_tokenize(str(sentence))  # Tokenize the sentence into words\n",
    "    return tokens\n",
    "\n",
    "# Apply tokenization to the 'filtered_body' column\n",
    "df_emails_cleaned['tokenized_body'] = df_emails_cleaned['filtered_body'].apply(tokenize_sentence)\n",
    "\n",
    "\n"
   ]
  },
  {
   "cell_type": "code",
   "execution_count": 28,
   "id": "dcdc84dd",
   "metadata": {},
   "outputs": [
    {
     "name": "stdout",
     "output_type": "stream",
     "text": [
      "                                       filtered_body  \\\n",
      "0                             [here is our forecast]   \n",
      "1                        [test successful way to go]   \n",
      "2                   [lets shoot for tuesday at 1145]   \n",
      "3  [greg how about either next tuesday or thursda...   \n",
      "4                  [any morning between 10 and 1130]   \n",
      "\n",
      "                                      tokenized_body  \n",
      "0                [[, 'here, is, our, forecast, ', ]]  \n",
      "1          [[, 'test, successful, way, to, go, ', ]]  \n",
      "2    [[, 'lets, shoot, for, tuesday, at, 1145, ', ]]  \n",
      "3  [[, 'greg, how, about, either, next, tuesday, ...  \n",
      "4   [[, 'any, morning, between, 10, and, 1130, ', ]]  \n"
     ]
    }
   ],
   "source": [
    "# Display the first few rows of the DataFrame with tokenized text\n",
    "print(df_emails_cleaned[['filtered_body', 'tokenized_body']].head())\n"
   ]
  },
  {
   "cell_type": "markdown",
   "id": "3c10826f",
   "metadata": {},
   "source": [
    "I tokenized the filtered email bodies, converting them into a sequence of words. It utilizes the NLTK library's word_tokenize function to split each sentence into individual tokens, forming the foundation for further text analysis and feature extraction in the project."
   ]
  },
  {
   "cell_type": "markdown",
   "id": "512cb597",
   "metadata": {},
   "source": [
    "#### Step 2: Adding a special Token"
   ]
  },
  {
   "cell_type": "code",
   "execution_count": 30,
   "id": "8cd8280b",
   "metadata": {},
   "outputs": [],
   "source": [
    "# Function to add special tokens <start> and <end> to a list of tokens\n",
    "def add_special_tokens(tokens):\n",
    "    tokens_with_special_tokens = ['<start>'] + tokens + ['<end>']\n",
    "    return tokens_with_special_tokens\n",
    "\n",
    "# Apply adding special tokens to the 'tokenized_body' column\n",
    "df_emails_cleaned['body_with_special_tokens'] = df_emails_cleaned['tokenized_body'].apply(add_special_tokens)\n"
   ]
  },
  {
   "cell_type": "markdown",
   "id": "4a2eed03",
   "metadata": {},
   "source": [
    "I add special tokens <start> and <end> to each list of tokens in the 'tokenized_body' column. These tokens help the model learn the beginning and end of sequences during training.\n"
   ]
  },
  {
   "cell_type": "markdown",
   "id": "2870eb63",
   "metadata": {},
   "source": [
    "#### Step 3: Constructing Sequence Pairs"
   ]
  },
  {
   "cell_type": "code",
   "execution_count": 31,
   "id": "56c26dac",
   "metadata": {},
   "outputs": [],
   "source": [
    "# Function to split a list of tokens into pairs of input and output sequences\n",
    "def create_sequence_pairs(tokens):\n",
    "    sequence_pairs = []\n",
    "    for i in range(1, len(tokens)):\n",
    "        input_sequence = tokens[:i]  # Input sequence from start to current token\n",
    "        output_sequence = tokens[i:]  # Output sequence from current token to end\n",
    "        sequence_pairs.append((input_sequence, output_sequence))\n",
    "    return sequence_pairs\n",
    "\n",
    "# Apply sequence pair creation to the 'body_with_special_tokens' column\n",
    "df_emails_cleaned['sequence_pairs'] = df_emails_cleaned['body_with_special_tokens'].apply(create_sequence_pairs)\n"
   ]
  },
  {
   "cell_type": "markdown",
   "id": "3c2f9700",
   "metadata": {},
   "source": [
    "Then I define a function to create_sequence_pairs that splits a list of tokens into pairs of input and output sequences. For each token in the list, it creates an input sequence from the beginning to the current token and an output sequence from the current token to the end. These sequence pairs are essential for training sequence-to-sequence models, facilitating tasks such as language translation or summarization."
   ]
  },
  {
   "cell_type": "code",
   "execution_count": 32,
   "id": "d396c5ab",
   "metadata": {},
   "outputs": [
    {
     "name": "stdout",
     "output_type": "stream",
     "text": [
      "Total number of sequence pairs: 902983\n"
     ]
    }
   ],
   "source": [
    "# Count the total number of sequence pairs\n",
    "total_pairs = df_emails_cleaned['sequence_pairs'].apply(len).sum()\n",
    "\n",
    "print(\"Total number of sequence pairs:\", total_pairs)\n"
   ]
  },
  {
   "cell_type": "markdown",
   "id": "0220d430",
   "metadata": {},
   "source": [
    "### Saving"
   ]
  },
  {
   "cell_type": "code",
   "execution_count": 43,
   "id": "cde5ca66",
   "metadata": {},
   "outputs": [],
   "source": [
    "# Save the DataFrame to a CSV file\n",
    "df_emails_cleaned.to_csv('emails_cleaned.csv', index=False)\n"
   ]
  },
  {
   "cell_type": "markdown",
   "id": "b704af45",
   "metadata": {},
   "source": [
    "# From here please refer 'Final Code Part 3- Google Colab'"
   ]
  },
  {
   "cell_type": "markdown",
   "id": "50bd6ad5",
   "metadata": {},
   "source": [
    "# ------- >"
   ]
  }
 ],
 "metadata": {
  "kernelspec": {
   "display_name": "Python 3 (ipykernel)",
   "language": "python",
   "name": "python3"
  },
  "language_info": {
   "codemirror_mode": {
    "name": "ipython",
    "version": 3
   },
   "file_extension": ".py",
   "mimetype": "text/x-python",
   "name": "python",
   "nbconvert_exporter": "python",
   "pygments_lexer": "ipython3",
   "version": "3.11.5"
  }
 },
 "nbformat": 4,
 "nbformat_minor": 5
}
