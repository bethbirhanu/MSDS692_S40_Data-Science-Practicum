{
 "cells": [
  {
   "cell_type": "markdown",
   "id": "a16f21c4",
   "metadata": {},
   "source": [
    "# Part 1"
   ]
  },
  {
   "cell_type": "markdown",
   "id": "d369ae04",
   "metadata": {},
   "source": [
    "What will be done below:\n",
    "\n",
    "#### Step1: Function Definition: extract_emails\n",
    "\n",
    "#### Step2: Email Extraction and Data Processing\n",
    "\n",
    "#### Step3: Creating DataFrame and Saving to CSV\n",
    "\n",
    "#### Step4: Printing Status Message"
   ]
  },
  {
   "cell_type": "code",
   "execution_count": 1,
   "id": "d5e7364b",
   "metadata": {},
   "outputs": [],
   "source": [
    "from mpl_toolkits.mplot3d import Axes3D\n",
    "from sklearn.preprocessing import StandardScaler\n",
    "import matplotlib.pyplot as plt # plotting\n",
    "import numpy as np # linear algebra\n",
    "import os # accessing directory structure\n",
    "import pandas as pd # data processing, CSV file I/O "
   ]
  },
  {
   "cell_type": "code",
   "execution_count": 2,
   "id": "bf88c67e",
   "metadata": {},
   "outputs": [
    {
     "name": "stdout",
     "output_type": "stream",
     "text": [
      "CSV file has been saved to C:\\Users\\birhanubt\\Desktop\\Enron_emails.csv\n"
     ]
    }
   ],
   "source": [
    "import os\n",
    "import re\n",
    "import pandas as pd  # Make sure to import pandas\n",
    "\n",
    "def extract_emails(root_dir):\n",
    "    \"\"\"\n",
    "    Traverse the directory containing the raw Enron dataset, specifically focusing on the _sent_mail folder,\n",
    "    and extract email file paths and content.\n",
    "    \n",
    "    Args:\n",
    "    - root_dir: The root directory of the Enron dataset.\n",
    "    \n",
    "    Returns:\n",
    "    - A DataFrame with columns for file paths and Message-IDs, specifically from _sent_mail folders.\n",
    "    \"\"\"\n",
    "    data = []  # This will store tuples of (file_path, message_id)\n",
    "    for root, dirs, files in os.walk(root_dir):\n",
    "        if '_sent_mail' in root:\n",
    "            for file in files:\n",
    "                try:\n",
    "                    file_path = os.path.join(root, file)\n",
    "                    relative_path = os.path.relpath(file_path, start=root_dir).replace('\\\\', '/')\n",
    "                    with open(file_path, 'r', encoding='latin1') as email_file:\n",
    "                        email_content = email_file.read()\n",
    "                        message_id_match = re.search(r\"Message-ID: <(\\S+)>\", email_content)\n",
    "                        if message_id_match:\n",
    "                            message_id = message_id_match.group(1)\n",
    "                        else:\n",
    "                            message_id = \"Unknown\"\n",
    "                    data.append((relative_path, message_id))\n",
    "                except Exception as e:\n",
    "                    print(f\"Error reading {file_path}: {e}\")\n",
    "    \n",
    "    # Create a DataFrame from the collected data\n",
    "    df = pd.DataFrame(data, columns=['file', 'message'])\n",
    "    return df\n",
    "\n",
    "# Example usage\n",
    "root_dir = 'C:\\\\Users\\\\birhanubt\\\\Desktop\\\\enron_mail_20150507'\n",
    "df_emails = extract_emails(root_dir)\n",
    "\n",
    "# Extract emails with sender information\n",
    "emails = extract_emails(root_dir)\n",
    "\n",
    "# Create a DataFrame\n",
    "df_emails = pd.DataFrame(emails)\n",
    "\n",
    "# Save the DataFrame to CSV\n",
    "csv_file_path = 'C:\\\\Users\\\\birhanubt\\\\Desktop\\\\Enron_emails.csv'  # Update this to where you want to save the CSV\n",
    "df_emails.to_csv(csv_file_path, index=False)\n",
    "\n",
    "print(f\"CSV file has been saved to {csv_file_path}\")\n",
    "\n"
   ]
  },
  {
   "cell_type": "code",
   "execution_count": 3,
   "id": "c0f13165",
   "metadata": {},
   "outputs": [
    {
     "name": "stdout",
     "output_type": "stream",
     "text": [
      "                       file                                      message\n",
      "0  allen-p/_sent_mail/1000_  13505866.1075863688222.JavaMail.evans@thyme\n",
      "1  allen-p/_sent_mail/1001_  30922949.1075863688243.JavaMail.evans@thyme\n",
      "2  allen-p/_sent_mail/1002_  30965995.1075863688265.JavaMail.evans@thyme\n",
      "3  allen-p/_sent_mail/1003_  16254169.1075863688286.JavaMail.evans@thyme\n",
      "4  allen-p/_sent_mail/1004_  17189699.1075863688308.JavaMail.evans@thyme\n"
     ]
    }
   ],
   "source": [
    "\n",
    "# Display the first few rows of the DataFrame\n",
    "print(df_emails.head())"
   ]
  },
  {
   "cell_type": "markdown",
   "id": "6f36c939",
   "metadata": {},
   "source": [
    "#### Checking if the dataset saved right"
   ]
  },
  {
   "cell_type": "code",
   "execution_count": 4,
   "id": "7d411330",
   "metadata": {},
   "outputs": [
    {
     "name": "stdout",
     "output_type": "stream",
     "text": [
      "                       file                                      message\n",
      "0  allen-p/_sent_mail/1000_  13505866.1075863688222.JavaMail.evans@thyme\n",
      "1  allen-p/_sent_mail/1001_  30922949.1075863688243.JavaMail.evans@thyme\n",
      "2  allen-p/_sent_mail/1002_  30965995.1075863688265.JavaMail.evans@thyme\n",
      "3  allen-p/_sent_mail/1003_  16254169.1075863688286.JavaMail.evans@thyme\n",
      "4  allen-p/_sent_mail/1004_  17189699.1075863688308.JavaMail.evans@thyme\n"
     ]
    }
   ],
   "source": [
    "import pandas as pd\n",
    "\n",
    "# Specify the path to my CSV file\n",
    "csv_file_path = 'C:\\\\Users\\\\birhanubt\\\\Desktop\\\\Enron_emails.csv'\n",
    "\n",
    "# Read the CSV file into a DataFrame\n",
    "df_emails = pd.read_csv(csv_file_path)\n",
    "\n",
    "# Display the first few rows of the DataFrame\n",
    "print(df_emails.head())\n"
   ]
  },
  {
   "cell_type": "code",
   "execution_count": 7,
   "id": "3a7ff5c6",
   "metadata": {},
   "outputs": [
    {
     "name": "stdout",
     "output_type": "stream",
     "text": [
      "file       0\n",
      "message    0\n",
      "dtype: int64\n"
     ]
    }
   ],
   "source": [
    "print(df_emails.isnull().sum())\n"
   ]
  },
  {
   "cell_type": "code",
   "execution_count": 8,
   "id": "218ddfd8",
   "metadata": {},
   "outputs": [
    {
     "name": "stdout",
     "output_type": "stream",
     "text": [
      "Number of empty messages: 0\n"
     ]
    }
   ],
   "source": [
    "# Identifying empty messages\n",
    "df_emails['is_empty'] = df_emails['message'].apply(lambda x: x.strip() == '')\n",
    "\n",
    "# Summarizing or filtering based on 'is_empty'\n",
    "print(f\"Number of empty messages: {df_emails['is_empty'].sum()}\")\n"
   ]
  },
  {
   "cell_type": "markdown",
   "id": "242c56e9",
   "metadata": {},
   "source": [
    "On the above, I've created a function called 'extract_emails' that traverses a directory containing email files from the Enron dataset. For each email file, the function reads its content and extracts the sender's email address using a regular expression. It then creates a list of dictionaries, where each dictionary contains the file path, email content, and sender's email address. Finally, the extracted email data is converted into a pandas dataframe, and the dataframe is saved as a CSV file called 'Enorn_emails.csv'.\n",
    "\n",
    "Towards my project, the above process serves as a crucial initial step in preparing my dataset. By extracting email content and sender information, I am building the foundation for training a Seq2Seq model to generate responses to incoming emails. The extracted data will be further processed and cleaned as necessary before being used to train my machine learning model. And, the CSV file saved will be loaded into my training pipeline to feed data into my Seq2Seq model.\n",
    "\n",
    "Overall, the above work helps automate the extraction and organization of email data, which is essential for training a model to automate email responses using Seq2Seq learning."
   ]
  },
  {
   "cell_type": "markdown",
   "id": "10e82a47",
   "metadata": {},
   "source": [
    "# From here please refer 'Final Code Part 2'"
   ]
  },
  {
   "cell_type": "code",
   "execution_count": null,
   "id": "dc33f12c",
   "metadata": {},
   "outputs": [],
   "source": []
  }
 ],
 "metadata": {
  "kernelspec": {
   "display_name": "Python 3 (ipykernel)",
   "language": "python",
   "name": "python3"
  },
  "language_info": {
   "codemirror_mode": {
    "name": "ipython",
    "version": 3
   },
   "file_extension": ".py",
   "mimetype": "text/x-python",
   "name": "python",
   "nbconvert_exporter": "python",
   "pygments_lexer": "ipython3",
   "version": "3.11.5"
  }
 },
 "nbformat": 4,
 "nbformat_minor": 5
}
